{
  "nbformat": 4,
  "nbformat_minor": 0,
  "metadata": {
    "colab": {
      "provenance": []
    },
    "kernelspec": {
      "name": "python3",
      "display_name": "Python 3"
    },
    "language_info": {
      "name": "python"
    },
    "widgets": {
      "application/vnd.jupyter.widget-state+json": {
        "b9db52fae5324b56aacb66ae4adf1aaa": {
          "model_module": "@jupyter-widgets/controls",
          "model_name": "HBoxModel",
          "model_module_version": "1.5.0",
          "state": {
            "_dom_classes": [],
            "_model_module": "@jupyter-widgets/controls",
            "_model_module_version": "1.5.0",
            "_model_name": "HBoxModel",
            "_view_count": null,
            "_view_module": "@jupyter-widgets/controls",
            "_view_module_version": "1.5.0",
            "_view_name": "HBoxView",
            "box_style": "",
            "children": [
              "IPY_MODEL_86082e392ffa4a63a8f08c993ee6d367",
              "IPY_MODEL_8857d33a15f64de9b797a304d5843021",
              "IPY_MODEL_d9c44f864cc841bd8d0f7b12b2b2586b"
            ],
            "layout": "IPY_MODEL_8fc0a110ee814fef9218cd9b2934731c"
          }
        },
        "86082e392ffa4a63a8f08c993ee6d367": {
          "model_module": "@jupyter-widgets/controls",
          "model_name": "HTMLModel",
          "model_module_version": "1.5.0",
          "state": {
            "_dom_classes": [],
            "_model_module": "@jupyter-widgets/controls",
            "_model_module_version": "1.5.0",
            "_model_name": "HTMLModel",
            "_view_count": null,
            "_view_module": "@jupyter-widgets/controls",
            "_view_module_version": "1.5.0",
            "_view_name": "HTMLView",
            "description": "",
            "description_tooltip": null,
            "layout": "IPY_MODEL_76df590d4f474280bef1ec61d85c7f1c",
            "placeholder": "​",
            "style": "IPY_MODEL_4f008d4982c44d91bcca0024fc2b5609",
            "value": "Pandas Apply: 100%"
          }
        },
        "8857d33a15f64de9b797a304d5843021": {
          "model_module": "@jupyter-widgets/controls",
          "model_name": "FloatProgressModel",
          "model_module_version": "1.5.0",
          "state": {
            "_dom_classes": [],
            "_model_module": "@jupyter-widgets/controls",
            "_model_module_version": "1.5.0",
            "_model_name": "FloatProgressModel",
            "_view_count": null,
            "_view_module": "@jupyter-widgets/controls",
            "_view_module_version": "1.5.0",
            "_view_name": "ProgressView",
            "bar_style": "success",
            "description": "",
            "description_tooltip": null,
            "layout": "IPY_MODEL_5611cf63650a4e6a8d673005ad17acd9",
            "max": 1,
            "min": 0,
            "orientation": "horizontal",
            "style": "IPY_MODEL_096cabf546394dab9f6d808897a80e2e",
            "value": 1
          }
        },
        "d9c44f864cc841bd8d0f7b12b2b2586b": {
          "model_module": "@jupyter-widgets/controls",
          "model_name": "HTMLModel",
          "model_module_version": "1.5.0",
          "state": {
            "_dom_classes": [],
            "_model_module": "@jupyter-widgets/controls",
            "_model_module_version": "1.5.0",
            "_model_name": "HTMLModel",
            "_view_count": null,
            "_view_module": "@jupyter-widgets/controls",
            "_view_module_version": "1.5.0",
            "_view_name": "HTMLView",
            "description": "",
            "description_tooltip": null,
            "layout": "IPY_MODEL_728116a8289a4edc9c95ebbf33ce5252",
            "placeholder": "​",
            "style": "IPY_MODEL_5c9ed3d7162e4931adfc446e6edd917f",
            "value": " 1/1 [00:00&lt;00:00,  6.72it/s]"
          }
        },
        "8fc0a110ee814fef9218cd9b2934731c": {
          "model_module": "@jupyter-widgets/base",
          "model_name": "LayoutModel",
          "model_module_version": "1.2.0",
          "state": {
            "_model_module": "@jupyter-widgets/base",
            "_model_module_version": "1.2.0",
            "_model_name": "LayoutModel",
            "_view_count": null,
            "_view_module": "@jupyter-widgets/base",
            "_view_module_version": "1.2.0",
            "_view_name": "LayoutView",
            "align_content": null,
            "align_items": null,
            "align_self": null,
            "border": null,
            "bottom": null,
            "display": null,
            "flex": null,
            "flex_flow": null,
            "grid_area": null,
            "grid_auto_columns": null,
            "grid_auto_flow": null,
            "grid_auto_rows": null,
            "grid_column": null,
            "grid_gap": null,
            "grid_row": null,
            "grid_template_areas": null,
            "grid_template_columns": null,
            "grid_template_rows": null,
            "height": null,
            "justify_content": null,
            "justify_items": null,
            "left": null,
            "margin": null,
            "max_height": null,
            "max_width": null,
            "min_height": null,
            "min_width": null,
            "object_fit": null,
            "object_position": null,
            "order": null,
            "overflow": null,
            "overflow_x": null,
            "overflow_y": null,
            "padding": null,
            "right": null,
            "top": null,
            "visibility": null,
            "width": null
          }
        },
        "76df590d4f474280bef1ec61d85c7f1c": {
          "model_module": "@jupyter-widgets/base",
          "model_name": "LayoutModel",
          "model_module_version": "1.2.0",
          "state": {
            "_model_module": "@jupyter-widgets/base",
            "_model_module_version": "1.2.0",
            "_model_name": "LayoutModel",
            "_view_count": null,
            "_view_module": "@jupyter-widgets/base",
            "_view_module_version": "1.2.0",
            "_view_name": "LayoutView",
            "align_content": null,
            "align_items": null,
            "align_self": null,
            "border": null,
            "bottom": null,
            "display": null,
            "flex": null,
            "flex_flow": null,
            "grid_area": null,
            "grid_auto_columns": null,
            "grid_auto_flow": null,
            "grid_auto_rows": null,
            "grid_column": null,
            "grid_gap": null,
            "grid_row": null,
            "grid_template_areas": null,
            "grid_template_columns": null,
            "grid_template_rows": null,
            "height": null,
            "justify_content": null,
            "justify_items": null,
            "left": null,
            "margin": null,
            "max_height": null,
            "max_width": null,
            "min_height": null,
            "min_width": null,
            "object_fit": null,
            "object_position": null,
            "order": null,
            "overflow": null,
            "overflow_x": null,
            "overflow_y": null,
            "padding": null,
            "right": null,
            "top": null,
            "visibility": null,
            "width": null
          }
        },
        "4f008d4982c44d91bcca0024fc2b5609": {
          "model_module": "@jupyter-widgets/controls",
          "model_name": "DescriptionStyleModel",
          "model_module_version": "1.5.0",
          "state": {
            "_model_module": "@jupyter-widgets/controls",
            "_model_module_version": "1.5.0",
            "_model_name": "DescriptionStyleModel",
            "_view_count": null,
            "_view_module": "@jupyter-widgets/base",
            "_view_module_version": "1.2.0",
            "_view_name": "StyleView",
            "description_width": ""
          }
        },
        "5611cf63650a4e6a8d673005ad17acd9": {
          "model_module": "@jupyter-widgets/base",
          "model_name": "LayoutModel",
          "model_module_version": "1.2.0",
          "state": {
            "_model_module": "@jupyter-widgets/base",
            "_model_module_version": "1.2.0",
            "_model_name": "LayoutModel",
            "_view_count": null,
            "_view_module": "@jupyter-widgets/base",
            "_view_module_version": "1.2.0",
            "_view_name": "LayoutView",
            "align_content": null,
            "align_items": null,
            "align_self": null,
            "border": null,
            "bottom": null,
            "display": null,
            "flex": null,
            "flex_flow": null,
            "grid_area": null,
            "grid_auto_columns": null,
            "grid_auto_flow": null,
            "grid_auto_rows": null,
            "grid_column": null,
            "grid_gap": null,
            "grid_row": null,
            "grid_template_areas": null,
            "grid_template_columns": null,
            "grid_template_rows": null,
            "height": null,
            "justify_content": null,
            "justify_items": null,
            "left": null,
            "margin": null,
            "max_height": null,
            "max_width": null,
            "min_height": null,
            "min_width": null,
            "object_fit": null,
            "object_position": null,
            "order": null,
            "overflow": null,
            "overflow_x": null,
            "overflow_y": null,
            "padding": null,
            "right": null,
            "top": null,
            "visibility": null,
            "width": null
          }
        },
        "096cabf546394dab9f6d808897a80e2e": {
          "model_module": "@jupyter-widgets/controls",
          "model_name": "ProgressStyleModel",
          "model_module_version": "1.5.0",
          "state": {
            "_model_module": "@jupyter-widgets/controls",
            "_model_module_version": "1.5.0",
            "_model_name": "ProgressStyleModel",
            "_view_count": null,
            "_view_module": "@jupyter-widgets/base",
            "_view_module_version": "1.2.0",
            "_view_name": "StyleView",
            "bar_color": null,
            "description_width": ""
          }
        },
        "728116a8289a4edc9c95ebbf33ce5252": {
          "model_module": "@jupyter-widgets/base",
          "model_name": "LayoutModel",
          "model_module_version": "1.2.0",
          "state": {
            "_model_module": "@jupyter-widgets/base",
            "_model_module_version": "1.2.0",
            "_model_name": "LayoutModel",
            "_view_count": null,
            "_view_module": "@jupyter-widgets/base",
            "_view_module_version": "1.2.0",
            "_view_name": "LayoutView",
            "align_content": null,
            "align_items": null,
            "align_self": null,
            "border": null,
            "bottom": null,
            "display": null,
            "flex": null,
            "flex_flow": null,
            "grid_area": null,
            "grid_auto_columns": null,
            "grid_auto_flow": null,
            "grid_auto_rows": null,
            "grid_column": null,
            "grid_gap": null,
            "grid_row": null,
            "grid_template_areas": null,
            "grid_template_columns": null,
            "grid_template_rows": null,
            "height": null,
            "justify_content": null,
            "justify_items": null,
            "left": null,
            "margin": null,
            "max_height": null,
            "max_width": null,
            "min_height": null,
            "min_width": null,
            "object_fit": null,
            "object_position": null,
            "order": null,
            "overflow": null,
            "overflow_x": null,
            "overflow_y": null,
            "padding": null,
            "right": null,
            "top": null,
            "visibility": null,
            "width": null
          }
        },
        "5c9ed3d7162e4931adfc446e6edd917f": {
          "model_module": "@jupyter-widgets/controls",
          "model_name": "DescriptionStyleModel",
          "model_module_version": "1.5.0",
          "state": {
            "_model_module": "@jupyter-widgets/controls",
            "_model_module_version": "1.5.0",
            "_model_name": "DescriptionStyleModel",
            "_view_count": null,
            "_view_module": "@jupyter-widgets/base",
            "_view_module_version": "1.2.0",
            "_view_name": "StyleView",
            "description_width": ""
          }
        }
      }
    }
  },
  "cells": [
    {
      "cell_type": "markdown",
      "source": [
        "# Import Library"
      ],
      "metadata": {
        "id": "g9adN12uzR5R"
      }
    },
    {
      "cell_type": "code",
      "execution_count": null,
      "metadata": {
        "colab": {
          "base_uri": "https://localhost:8080/"
        },
        "id": "Bd6obm3jzCfV",
        "outputId": "44ccc539-3165-404d-b14d-c1ff048a3a1d"
      },
      "outputs": [
        {
          "output_type": "stream",
          "name": "stderr",
          "text": [
            "/usr/local/lib/python3.10/dist-packages/ipykernel/ipkernel.py:283: DeprecationWarning: `should_run_async` will not call `transform_cell` automatically in the future. Please pass the result to `transformed_cell` argument and any exception that happen during thetransform in `preprocessing_exc_tuple` in IPython 7.17 and above.\n",
            "  and should_run_async(code)\n"
          ]
        },
        {
          "output_type": "stream",
          "name": "stdout",
          "text": [
            "Requirement already satisfied: Sastrawi in /usr/local/lib/python3.10/dist-packages (1.0.1)\n",
            "Requirement already satisfied: swifter in /usr/local/lib/python3.10/dist-packages (1.4.0)\n",
            "Requirement already satisfied: pandas>=1.0.0 in /usr/local/lib/python3.10/dist-packages (from swifter) (2.0.3)\n",
            "Requirement already satisfied: psutil>=5.6.6 in /usr/local/lib/python3.10/dist-packages (from swifter) (5.9.5)\n",
            "Requirement already satisfied: dask[dataframe]>=2.10.0 in /usr/local/lib/python3.10/dist-packages (from swifter) (2023.8.1)\n",
            "Requirement already satisfied: tqdm>=4.33.0 in /usr/local/lib/python3.10/dist-packages (from swifter) (4.66.4)\n",
            "Requirement already satisfied: click>=8.0 in /usr/local/lib/python3.10/dist-packages (from dask[dataframe]>=2.10.0->swifter) (8.1.7)\n",
            "Requirement already satisfied: cloudpickle>=1.5.0 in /usr/local/lib/python3.10/dist-packages (from dask[dataframe]>=2.10.0->swifter) (2.2.1)\n",
            "Requirement already satisfied: fsspec>=2021.09.0 in /usr/local/lib/python3.10/dist-packages (from dask[dataframe]>=2.10.0->swifter) (2023.6.0)\n",
            "Requirement already satisfied: packaging>=20.0 in /usr/local/lib/python3.10/dist-packages (from dask[dataframe]>=2.10.0->swifter) (24.0)\n",
            "Requirement already satisfied: partd>=1.2.0 in /usr/local/lib/python3.10/dist-packages (from dask[dataframe]>=2.10.0->swifter) (1.4.2)\n",
            "Requirement already satisfied: pyyaml>=5.3.1 in /usr/local/lib/python3.10/dist-packages (from dask[dataframe]>=2.10.0->swifter) (6.0.1)\n",
            "Requirement already satisfied: toolz>=0.10.0 in /usr/local/lib/python3.10/dist-packages (from dask[dataframe]>=2.10.0->swifter) (0.12.1)\n",
            "Requirement already satisfied: importlib-metadata>=4.13.0 in /usr/local/lib/python3.10/dist-packages (from dask[dataframe]>=2.10.0->swifter) (7.1.0)\n",
            "Requirement already satisfied: python-dateutil>=2.8.2 in /usr/local/lib/python3.10/dist-packages (from pandas>=1.0.0->swifter) (2.8.2)\n",
            "Requirement already satisfied: pytz>=2020.1 in /usr/local/lib/python3.10/dist-packages (from pandas>=1.0.0->swifter) (2023.4)\n",
            "Requirement already satisfied: tzdata>=2022.1 in /usr/local/lib/python3.10/dist-packages (from pandas>=1.0.0->swifter) (2024.1)\n",
            "Requirement already satisfied: numpy>=1.21.0 in /usr/local/lib/python3.10/dist-packages (from pandas>=1.0.0->swifter) (1.25.2)\n",
            "Requirement already satisfied: zipp>=0.5 in /usr/local/lib/python3.10/dist-packages (from importlib-metadata>=4.13.0->dask[dataframe]>=2.10.0->swifter) (3.18.2)\n",
            "Requirement already satisfied: locket in /usr/local/lib/python3.10/dist-packages (from partd>=1.2.0->dask[dataframe]>=2.10.0->swifter) (1.0.0)\n",
            "Requirement already satisfied: six>=1.5 in /usr/local/lib/python3.10/dist-packages (from python-dateutil>=2.8.2->pandas>=1.0.0->swifter) (1.16.0)\n",
            "Requirement already satisfied: pyLDAvis in /usr/local/lib/python3.10/dist-packages (3.4.1)\n",
            "Requirement already satisfied: numpy>=1.24.2 in /usr/local/lib/python3.10/dist-packages (from pyLDAvis) (1.25.2)\n",
            "Requirement already satisfied: scipy in /usr/local/lib/python3.10/dist-packages (from pyLDAvis) (1.11.4)\n",
            "Requirement already satisfied: pandas>=2.0.0 in /usr/local/lib/python3.10/dist-packages (from pyLDAvis) (2.0.3)\n",
            "Requirement already satisfied: joblib>=1.2.0 in /usr/local/lib/python3.10/dist-packages (from pyLDAvis) (1.4.2)\n",
            "Requirement already satisfied: jinja2 in /usr/local/lib/python3.10/dist-packages (from pyLDAvis) (3.1.4)\n",
            "Requirement already satisfied: numexpr in /usr/local/lib/python3.10/dist-packages (from pyLDAvis) (2.10.0)\n",
            "Requirement already satisfied: funcy in /usr/local/lib/python3.10/dist-packages (from pyLDAvis) (2.0)\n",
            "Requirement already satisfied: scikit-learn>=1.0.0 in /usr/local/lib/python3.10/dist-packages (from pyLDAvis) (1.2.2)\n",
            "Requirement already satisfied: gensim in /usr/local/lib/python3.10/dist-packages (from pyLDAvis) (4.3.2)\n",
            "Requirement already satisfied: setuptools in /usr/local/lib/python3.10/dist-packages (from pyLDAvis) (67.7.2)\n",
            "Requirement already satisfied: python-dateutil>=2.8.2 in /usr/local/lib/python3.10/dist-packages (from pandas>=2.0.0->pyLDAvis) (2.8.2)\n",
            "Requirement already satisfied: pytz>=2020.1 in /usr/local/lib/python3.10/dist-packages (from pandas>=2.0.0->pyLDAvis) (2023.4)\n",
            "Requirement already satisfied: tzdata>=2022.1 in /usr/local/lib/python3.10/dist-packages (from pandas>=2.0.0->pyLDAvis) (2024.1)\n",
            "Requirement already satisfied: threadpoolctl>=2.0.0 in /usr/local/lib/python3.10/dist-packages (from scikit-learn>=1.0.0->pyLDAvis) (3.5.0)\n",
            "Requirement already satisfied: smart-open>=1.8.1 in /usr/local/lib/python3.10/dist-packages (from gensim->pyLDAvis) (6.4.0)\n",
            "Requirement already satisfied: MarkupSafe>=2.0 in /usr/local/lib/python3.10/dist-packages (from jinja2->pyLDAvis) (2.1.5)\n",
            "Requirement already satisfied: six>=1.5 in /usr/local/lib/python3.10/dist-packages (from python-dateutil>=2.8.2->pandas>=2.0.0->pyLDAvis) (1.16.0)\n"
          ]
        }
      ],
      "source": [
        "import numpy as np\n",
        "import pandas as pd\n",
        "import json\n",
        "\n",
        "#Gensim\n",
        "import gensim\n",
        "import gensim.corpora as corpora\n",
        "from gensim.utils import simple_preprocess\n",
        "from gensim.models import CoherenceModel\n",
        "\n",
        "#sastrawi\n",
        "!pip install Sastrawi\n",
        "from Sastrawi.Stemmer.StemmerFactory import StemmerFactory\n",
        "\n",
        "#swifter\n",
        "!pip install swifter\n",
        "\n",
        "#nltk\n",
        "import nltk\n",
        "from nltk.corpus import stopwords\n",
        "\n",
        "#vis\n",
        "!pip install pyLDAvis\n",
        "import pyLDAvis\n",
        "import pyLDAvis.gensim"
      ]
    },
    {
      "cell_type": "markdown",
      "source": [
        "# Preapare the Data"
      ],
      "metadata": {
        "id": "bKVovpU1zia9"
      }
    },
    {
      "cell_type": "markdown",
      "source": [
        "### Mount Google Drive"
      ],
      "metadata": {
        "id": "iuVbl9sM03-H"
      }
    },
    {
      "cell_type": "code",
      "source": [
        "from google.colab import drive\n",
        "drive.mount('/content/drive')"
      ],
      "metadata": {
        "colab": {
          "base_uri": "https://localhost:8080/"
        },
        "id": "1jp884Nr03iM",
        "outputId": "cfd7373a-d342-4245-81b5-2e2e573d6351"
      },
      "execution_count": null,
      "outputs": [
        {
          "output_type": "stream",
          "name": "stderr",
          "text": [
            "/usr/local/lib/python3.10/dist-packages/ipykernel/ipkernel.py:283: DeprecationWarning: `should_run_async` will not call `transform_cell` automatically in the future. Please pass the result to `transformed_cell` argument and any exception that happen during thetransform in `preprocessing_exc_tuple` in IPython 7.17 and above.\n",
            "  and should_run_async(code)\n"
          ]
        },
        {
          "output_type": "stream",
          "name": "stdout",
          "text": [
            "Drive already mounted at /content/drive; to attempt to forcibly remount, call drive.mount(\"/content/drive\", force_remount=True).\n"
          ]
        }
      ]
    },
    {
      "cell_type": "markdown",
      "source": [
        "### JSON"
      ],
      "metadata": {
        "id": "WzXXeWUazp29"
      }
    },
    {
      "cell_type": "code",
      "source": [
        "def load_data(file):\n",
        "    with open (file, \"r\", encoding=\"utf-8\") as f:\n",
        "        data = json.load(f)\n",
        "    return (data)\n",
        "\n",
        "def write_data(file, data):\n",
        "    with open (file, \"w\", encoding=\"utf-8\") as f:\n",
        "        json.dump(data, f, indent=4)"
      ],
      "metadata": {
        "id": "x1Ahx-z0znJU",
        "colab": {
          "base_uri": "https://localhost:8080/"
        },
        "outputId": "faeacda1-e328-4bee-8024-8422fabf7844"
      },
      "execution_count": null,
      "outputs": [
        {
          "output_type": "stream",
          "name": "stderr",
          "text": [
            "/usr/local/lib/python3.10/dist-packages/ipykernel/ipkernel.py:283: DeprecationWarning: `should_run_async` will not call `transform_cell` automatically in the future. Please pass the result to `transformed_cell` argument and any exception that happen during thetransform in `preprocessing_exc_tuple` in IPython 7.17 and above.\n",
            "  and should_run_async(code)\n"
          ]
        }
      ]
    },
    {
      "cell_type": "markdown",
      "source": [
        "### CSV"
      ],
      "metadata": {
        "id": "SrYCjY4a0WXt"
      }
    },
    {
      "cell_type": "code",
      "source": [
        "import pandas as pd\n",
        "\n",
        "def load_data(file):\n",
        "    # Read the CSV file into a pandas DataFrame\n",
        "    data = pd.read_csv(file, sep=';', encoding='utf-8')\n",
        "    return data\n",
        "\n",
        "def write_data(file, data):\n",
        "    # Write the pandas DataFrame to a CSV file\n",
        "    data.to_csv(file, sep=';', encoding='utf-8', index=False)\n",
        "\n",
        "# Example usage\n",
        "# output_file_path = 'drive/MyDrive/Colab Notebooks/Topic Modeling - LDA/Output.csv'\n",
        "# write_data(output_file_path, data)"
      ],
      "metadata": {
        "colab": {
          "base_uri": "https://localhost:8080/"
        },
        "id": "c6vuG5kk0VDJ",
        "outputId": "e8bfa750-b755-4bb2-e8dc-7a0a4436cc46"
      },
      "execution_count": null,
      "outputs": [
        {
          "output_type": "stream",
          "name": "stderr",
          "text": [
            "/usr/local/lib/python3.10/dist-packages/ipykernel/ipkernel.py:283: DeprecationWarning: `should_run_async` will not call `transform_cell` automatically in the future. Please pass the result to `transformed_cell` argument and any exception that happen during thetransform in `preprocessing_exc_tuple` in IPython 7.17 and above.\n",
            "  and should_run_async(code)\n"
          ]
        }
      ]
    },
    {
      "cell_type": "markdown",
      "source": [
        "# Load the Data"
      ],
      "metadata": {
        "id": "1ouRv-202_2c"
      }
    },
    {
      "cell_type": "markdown",
      "source": [
        "### JSON"
      ],
      "metadata": {
        "id": "H016Ldsp3BwQ"
      }
    },
    {
      "cell_type": "code",
      "source": [
        "# # Load data with id/label \"texts\"\n",
        "# data = load_data(\"data/ushmm_dn.json\")[\"texts\"]\n",
        "\n",
        "# print (data[0][0:90])"
      ],
      "metadata": {
        "id": "iSxyiqBM2rQU",
        "colab": {
          "base_uri": "https://localhost:8080/"
        },
        "outputId": "5294894e-7cc2-4d60-aa04-bcb2fc39b2ce"
      },
      "execution_count": null,
      "outputs": [
        {
          "output_type": "stream",
          "name": "stderr",
          "text": [
            "/usr/local/lib/python3.10/dist-packages/ipykernel/ipkernel.py:283: DeprecationWarning: `should_run_async` will not call `transform_cell` automatically in the future. Please pass the result to `transformed_cell` argument and any exception that happen during thetransform in `preprocessing_exc_tuple` in IPython 7.17 and above.\n",
            "  and should_run_async(code)\n"
          ]
        }
      ]
    },
    {
      "cell_type": "markdown",
      "source": [
        "### CSV"
      ],
      "metadata": {
        "id": "Dzz5T_6Q3EB9"
      }
    },
    {
      "cell_type": "code",
      "source": [
        "file_path = 'drive/MyDrive/Colab Notebooks/Topic Modeling - LDA/Test.csv'\n",
        "data = pd.read_csv(file_path, sep=';', encoding='utf-8')\n",
        "\n",
        "data.head(1)"
      ],
      "metadata": {
        "colab": {
          "base_uri": "https://localhost:8080/",
          "height": 135
        },
        "id": "bgX6Nvdp3FWy",
        "outputId": "c4392c75-edcb-466a-b84a-8974f3bb8bd6"
      },
      "execution_count": null,
      "outputs": [
        {
          "output_type": "stream",
          "name": "stderr",
          "text": [
            "/usr/local/lib/python3.10/dist-packages/ipykernel/ipkernel.py:283: DeprecationWarning: `should_run_async` will not call `transform_cell` automatically in the future. Please pass the result to `transformed_cell` argument and any exception that happen during thetransform in `preprocessing_exc_tuple` in IPython 7.17 and above.\n",
            "  and should_run_async(code)\n"
          ]
        },
        {
          "output_type": "execute_result",
          "data": {
            "text/plain": [
              "   No                                               Text\n",
              "0   1  Kita harus bersukur di tahun 2020 sampai 2030 ..."
            ],
            "text/html": [
              "\n",
              "  <div id=\"df-00f1e27e-8ee1-425d-b7c0-7722c2a2facf\" class=\"colab-df-container\">\n",
              "    <div>\n",
              "<style scoped>\n",
              "    .dataframe tbody tr th:only-of-type {\n",
              "        vertical-align: middle;\n",
              "    }\n",
              "\n",
              "    .dataframe tbody tr th {\n",
              "        vertical-align: top;\n",
              "    }\n",
              "\n",
              "    .dataframe thead th {\n",
              "        text-align: right;\n",
              "    }\n",
              "</style>\n",
              "<table border=\"1\" class=\"dataframe\">\n",
              "  <thead>\n",
              "    <tr style=\"text-align: right;\">\n",
              "      <th></th>\n",
              "      <th>No</th>\n",
              "      <th>Text</th>\n",
              "    </tr>\n",
              "  </thead>\n",
              "  <tbody>\n",
              "    <tr>\n",
              "      <th>0</th>\n",
              "      <td>1</td>\n",
              "      <td>Kita harus bersukur di tahun 2020 sampai 2030 ...</td>\n",
              "    </tr>\n",
              "  </tbody>\n",
              "</table>\n",
              "</div>\n",
              "    <div class=\"colab-df-buttons\">\n",
              "\n",
              "  <div class=\"colab-df-container\">\n",
              "    <button class=\"colab-df-convert\" onclick=\"convertToInteractive('df-00f1e27e-8ee1-425d-b7c0-7722c2a2facf')\"\n",
              "            title=\"Convert this dataframe to an interactive table.\"\n",
              "            style=\"display:none;\">\n",
              "\n",
              "  <svg xmlns=\"http://www.w3.org/2000/svg\" height=\"24px\" viewBox=\"0 -960 960 960\">\n",
              "    <path d=\"M120-120v-720h720v720H120Zm60-500h600v-160H180v160Zm220 220h160v-160H400v160Zm0 220h160v-160H400v160ZM180-400h160v-160H180v160Zm440 0h160v-160H620v160ZM180-180h160v-160H180v160Zm440 0h160v-160H620v160Z\"/>\n",
              "  </svg>\n",
              "    </button>\n",
              "\n",
              "  <style>\n",
              "    .colab-df-container {\n",
              "      display:flex;\n",
              "      gap: 12px;\n",
              "    }\n",
              "\n",
              "    .colab-df-convert {\n",
              "      background-color: #E8F0FE;\n",
              "      border: none;\n",
              "      border-radius: 50%;\n",
              "      cursor: pointer;\n",
              "      display: none;\n",
              "      fill: #1967D2;\n",
              "      height: 32px;\n",
              "      padding: 0 0 0 0;\n",
              "      width: 32px;\n",
              "    }\n",
              "\n",
              "    .colab-df-convert:hover {\n",
              "      background-color: #E2EBFA;\n",
              "      box-shadow: 0px 1px 2px rgba(60, 64, 67, 0.3), 0px 1px 3px 1px rgba(60, 64, 67, 0.15);\n",
              "      fill: #174EA6;\n",
              "    }\n",
              "\n",
              "    .colab-df-buttons div {\n",
              "      margin-bottom: 4px;\n",
              "    }\n",
              "\n",
              "    [theme=dark] .colab-df-convert {\n",
              "      background-color: #3B4455;\n",
              "      fill: #D2E3FC;\n",
              "    }\n",
              "\n",
              "    [theme=dark] .colab-df-convert:hover {\n",
              "      background-color: #434B5C;\n",
              "      box-shadow: 0px 1px 3px 1px rgba(0, 0, 0, 0.15);\n",
              "      filter: drop-shadow(0px 1px 2px rgba(0, 0, 0, 0.3));\n",
              "      fill: #FFFFFF;\n",
              "    }\n",
              "  </style>\n",
              "\n",
              "    <script>\n",
              "      const buttonEl =\n",
              "        document.querySelector('#df-00f1e27e-8ee1-425d-b7c0-7722c2a2facf button.colab-df-convert');\n",
              "      buttonEl.style.display =\n",
              "        google.colab.kernel.accessAllowed ? 'block' : 'none';\n",
              "\n",
              "      async function convertToInteractive(key) {\n",
              "        const element = document.querySelector('#df-00f1e27e-8ee1-425d-b7c0-7722c2a2facf');\n",
              "        const dataTable =\n",
              "          await google.colab.kernel.invokeFunction('convertToInteractive',\n",
              "                                                    [key], {});\n",
              "        if (!dataTable) return;\n",
              "\n",
              "        const docLinkHtml = 'Like what you see? Visit the ' +\n",
              "          '<a target=\"_blank\" href=https://colab.research.google.com/notebooks/data_table.ipynb>data table notebook</a>'\n",
              "          + ' to learn more about interactive tables.';\n",
              "        element.innerHTML = '';\n",
              "        dataTable['output_type'] = 'display_data';\n",
              "        await google.colab.output.renderOutput(dataTable, element);\n",
              "        const docLink = document.createElement('div');\n",
              "        docLink.innerHTML = docLinkHtml;\n",
              "        element.appendChild(docLink);\n",
              "      }\n",
              "    </script>\n",
              "  </div>\n",
              "\n",
              "    </div>\n",
              "  </div>\n"
            ],
            "application/vnd.google.colaboratory.intrinsic+json": {
              "type": "dataframe",
              "variable_name": "data",
              "summary": "{\n  \"name\": \"data\",\n  \"rows\": 1,\n  \"fields\": [\n    {\n      \"column\": \"No\",\n      \"properties\": {\n        \"dtype\": \"number\",\n        \"std\": null,\n        \"min\": 1,\n        \"max\": 1,\n        \"num_unique_values\": 1,\n        \"samples\": [\n          1\n        ],\n        \"semantic_type\": \"\",\n        \"description\": \"\"\n      }\n    },\n    {\n      \"column\": \"Text\",\n      \"properties\": {\n        \"dtype\": \"string\",\n        \"num_unique_values\": 1,\n        \"samples\": [\n          \"Kita harus bersukur di tahun 2020 sampai 2030 nanti kita akan mendapatkan bonus demografi. Saat itulah, sebagian besar penduduk kita ada pada usia produktif. Ini kesempatan kita untuk meningkatkan produktifitas nasional. Peluang untuk menuju Indonesia Amas makin terbuka labor. Tapi Bapak -Ibu yang saya hormati, teman -teman sesama anak muda ingat kesempatan ini hanya datang sekali. Kesempatan ini tidak akan terulang lagi. Untuk itu, kita harus kerja keras, kerja fokus, berani melakukan lompatan. Saya ucapkan terima kasih kepada Pak Prabowo yang sudah memberikan saya kesempatan untuk ikut antil dalam kontestasi ini. Saya sangat bangga sekali saya menjadi bagian dalam perjalanan menuju Indonesia Amas. Saya ucapkan terima kasih juga Prof Mahfud, Gus Muhaymin, saya sangat senang sekali bisa satu panggung dengan orang -orang hebat seperti ini. Senang sekali anak muda bisa berdukar pikiran dengan ketua umum partai dan seorang profesor. Sekali lagi, terima kasih. Anak -anak muda harus saling mendukung. Anak -anak muda harus saling bergandingan tangan. Saya yakin Indonesia Amas bisa tercapai. Terima kasih. \"\n        ],\n        \"semantic_type\": \"\",\n        \"description\": \"\"\n      }\n    }\n  ]\n}"
            }
          },
          "metadata": {},
          "execution_count": 37
        }
      ]
    },
    {
      "cell_type": "markdown",
      "source": [
        "# Data Pre-Processing"
      ],
      "metadata": {
        "id": "x67LNtmz4ZQr"
      }
    },
    {
      "cell_type": "markdown",
      "source": [
        "### Case Folding (LowerText)"
      ],
      "metadata": {
        "id": "ZtFlmaMlw7zE"
      }
    },
    {
      "cell_type": "code",
      "source": [
        "data['Text'] = data['Text'].str.lower()\n",
        "\n",
        "print(data['Text'].head(1))"
      ],
      "metadata": {
        "colab": {
          "base_uri": "https://localhost:8080/"
        },
        "id": "ApSCKVMqxGtG",
        "outputId": "cacbb107-b038-4766-95d7-48fc1dbc8568"
      },
      "execution_count": null,
      "outputs": [
        {
          "output_type": "stream",
          "name": "stdout",
          "text": [
            "0    kita harus bersukur di tahun 2020 sampai 2030 ...\n",
            "Name: Text, dtype: object\n"
          ]
        },
        {
          "output_type": "stream",
          "name": "stderr",
          "text": [
            "/usr/local/lib/python3.10/dist-packages/ipykernel/ipkernel.py:283: DeprecationWarning: `should_run_async` will not call `transform_cell` automatically in the future. Please pass the result to `transformed_cell` argument and any exception that happen during thetransform in `preprocessing_exc_tuple` in IPython 7.17 and above.\n",
            "  and should_run_async(code)\n"
          ]
        }
      ]
    },
    {
      "cell_type": "code",
      "source": [
        "import string\n",
        "import re #regex library\n",
        "\n",
        "# import word_tokenize & FreqDist from NLTK\n",
        "from nltk.tokenize import word_tokenize\n",
        "from nltk.probability import FreqDist"
      ],
      "metadata": {
        "colab": {
          "base_uri": "https://localhost:8080/"
        },
        "id": "x1htOkeyx_SK",
        "outputId": "937a1587-cb51-46e1-9f02-2c2e0aa8b373"
      },
      "execution_count": null,
      "outputs": [
        {
          "output_type": "stream",
          "name": "stderr",
          "text": [
            "/usr/local/lib/python3.10/dist-packages/ipykernel/ipkernel.py:283: DeprecationWarning: `should_run_async` will not call `transform_cell` automatically in the future. Please pass the result to `transformed_cell` argument and any exception that happen during thetransform in `preprocessing_exc_tuple` in IPython 7.17 and above.\n",
            "  and should_run_async(code)\n"
          ]
        }
      ]
    },
    {
      "cell_type": "markdown",
      "source": [
        "### Clean Data"
      ],
      "metadata": {
        "id": "j9WmmcrXy6VP"
      }
    },
    {
      "cell_type": "code",
      "source": [
        "nltk.download('punkt')\n",
        "\n",
        "#remove number\n",
        "def remove_number(text):\n",
        "    return  re.sub(r\"\\d+\", \"\", text)\n",
        "\n",
        "data['Text'] = data['Text'].apply(remove_number)\n",
        "\n",
        "#remove punctuation\n",
        "def remove_punctuation(text):\n",
        "    return text.translate(str.maketrans(\"\",\"\",string.punctuation))\n",
        "\n",
        "data['Text'] = data['Text'].apply(remove_punctuation)\n",
        "\n",
        "#remove whitespace leading & trailing\n",
        "def remove_whitespace_LT(text):\n",
        "    return text.strip()\n",
        "\n",
        "data['Text'] = data['Text'].apply(remove_whitespace_LT)\n",
        "\n",
        "#remove multiple whitespace into single whitespace\n",
        "def remove_whitespace_multiple(text):\n",
        "    return re.sub('\\s+',' ',text)\n",
        "\n",
        "data['Text'] = data['Text'].apply(remove_whitespace_multiple)\n",
        "\n",
        "# remove single char\n",
        "def remove_singl_char(text):\n",
        "    return re.sub(r\"\\b[a-zA-Z]\\b\", \"\", text)\n",
        "\n",
        "data['Text'] = data['Text'].apply(remove_singl_char)"
      ],
      "metadata": {
        "colab": {
          "base_uri": "https://localhost:8080/"
        },
        "id": "CIwa1ikEy4-3",
        "outputId": "bccb010b-3835-4d2f-dae9-1c93e3ceb9e5"
      },
      "execution_count": null,
      "outputs": [
        {
          "output_type": "stream",
          "name": "stderr",
          "text": [
            "/usr/local/lib/python3.10/dist-packages/ipykernel/ipkernel.py:283: DeprecationWarning: `should_run_async` will not call `transform_cell` automatically in the future. Please pass the result to `transformed_cell` argument and any exception that happen during thetransform in `preprocessing_exc_tuple` in IPython 7.17 and above.\n",
            "  and should_run_async(code)\n",
            "<>:23: DeprecationWarning: invalid escape sequence '\\s'\n",
            "<>:23: DeprecationWarning: invalid escape sequence '\\s'\n",
            "<ipython-input-40-92da03f71dbf>:23: DeprecationWarning: invalid escape sequence '\\s'\n",
            "  return re.sub('\\s+',' ',text)\n",
            "[nltk_data] Downloading package punkt to /root/nltk_data...\n",
            "[nltk_data]   Package punkt is already up-to-date!\n"
          ]
        }
      ]
    },
    {
      "cell_type": "markdown",
      "source": [
        "### Tokenizing"
      ],
      "metadata": {
        "id": "s5n1z9ksx_hq"
      }
    },
    {
      "cell_type": "code",
      "source": [
        "# NLTK word tokenize\n",
        "def word_tokenize_wrapper(text):\n",
        "    return word_tokenize(text)\n",
        "\n",
        "data['Text_tokens'] = data['Text'].apply(word_tokenize_wrapper)\n",
        "\n",
        "print('Tokenizing Result : \\n')\n",
        "print(data['Text_tokens'].head())"
      ],
      "metadata": {
        "colab": {
          "base_uri": "https://localhost:8080/"
        },
        "id": "JLcpgEweyGS-",
        "outputId": "b8dc8c1d-2d48-4930-b792-f77ab801c8ec"
      },
      "execution_count": null,
      "outputs": [
        {
          "output_type": "stream",
          "name": "stderr",
          "text": [
            "/usr/local/lib/python3.10/dist-packages/ipykernel/ipkernel.py:283: DeprecationWarning: `should_run_async` will not call `transform_cell` automatically in the future. Please pass the result to `transformed_cell` argument and any exception that happen during thetransform in `preprocessing_exc_tuple` in IPython 7.17 and above.\n",
            "  and should_run_async(code)\n"
          ]
        },
        {
          "output_type": "stream",
          "name": "stdout",
          "text": [
            "Tokenizing Result : \n",
            "\n",
            "0    [kita, harus, bersukur, di, tahun, sampai, nan...\n",
            "Name: Text_tokens, dtype: object\n"
          ]
        }
      ]
    },
    {
      "cell_type": "code",
      "source": [
        "# NLTK calc frequency distribution\n",
        "def freqDist_wrapper(text):\n",
        "    return FreqDist(text)\n",
        "\n",
        "data['textdata_tokens_fdist'] = data['Text_tokens'].apply(freqDist_wrapper)\n",
        "\n",
        "print('Frequency Tokens : \\n')\n",
        "print(data['textdata_tokens_fdist'].head().apply(lambda x : x.most_common()))"
      ],
      "metadata": {
        "id": "tYlW1gdNzH6f",
        "colab": {
          "base_uri": "https://localhost:8080/"
        },
        "outputId": "509f515a-5a31-46d3-abb0-ef29c575bac4"
      },
      "execution_count": null,
      "outputs": [
        {
          "output_type": "stream",
          "name": "stderr",
          "text": [
            "/usr/local/lib/python3.10/dist-packages/ipykernel/ipkernel.py:283: DeprecationWarning: `should_run_async` will not call `transform_cell` automatically in the future. Please pass the result to `transformed_cell` argument and any exception that happen during thetransform in `preprocessing_exc_tuple` in IPython 7.17 and above.\n",
            "  and should_run_async(code)\n"
          ]
        },
        {
          "output_type": "stream",
          "name": "stdout",
          "text": [
            "Frequency Tokens : \n",
            "\n",
            "0    [(saya, 8), (anak, 6), (kita, 5), (ini, 5), (s...\n",
            "Name: textdata_tokens_fdist, dtype: object\n"
          ]
        }
      ]
    },
    {
      "cell_type": "markdown",
      "source": [
        "### Stopwords"
      ],
      "metadata": {
        "id": "fa6VJP1kl5YN"
      }
    },
    {
      "cell_type": "code",
      "source": [
        "nltk.download('stopwords')"
      ],
      "metadata": {
        "colab": {
          "base_uri": "https://localhost:8080/"
        },
        "id": "fHHwzReimajE",
        "outputId": "78aaad22-97e4-45cb-9c12-b3cfd5468ac6"
      },
      "execution_count": null,
      "outputs": [
        {
          "output_type": "stream",
          "name": "stderr",
          "text": [
            "/usr/local/lib/python3.10/dist-packages/ipykernel/ipkernel.py:283: DeprecationWarning: `should_run_async` will not call `transform_cell` automatically in the future. Please pass the result to `transformed_cell` argument and any exception that happen during thetransform in `preprocessing_exc_tuple` in IPython 7.17 and above.\n",
            "  and should_run_async(code)\n",
            "[nltk_data] Downloading package stopwords to /root/nltk_data...\n",
            "[nltk_data]   Package stopwords is already up-to-date!\n"
          ]
        },
        {
          "output_type": "execute_result",
          "data": {
            "text/plain": [
              "True"
            ]
          },
          "metadata": {},
          "execution_count": 43
        }
      ]
    },
    {
      "cell_type": "code",
      "source": [
        "# ----------------------- get stopword from NLTK stopword -------------------------------\n",
        "# get stopword indonesia\n",
        "list_stopwords = stopwords.words('indonesian')\n",
        "\n",
        "# ---------------------------- manualy add stopword  ------------------------------------\n",
        "# append additional stopword\n",
        "list_stopwords.extend([\"yg\", \"dg\", \"rt\", \"dgn\", \"ny\", \"d\", 'klo',\n",
        "                       'kalo', 'amp', 'biar', 'bikin', 'bilang',\n",
        "                       'gak', 'ga', 'krn', 'nya', 'nih', 'sih',\n",
        "                       'si', 'tau', 'tdk', 'tuh', 'utk', 'ya',\n",
        "                       'jd', 'jgn', 'sdh', 'aja', 'n', 't',\n",
        "                       'nyg', 'hehe', 'pen', 'u', 'nan', 'loh', 'rt',\n",
        "                       '&amp', 'yah', 'bisnis', 'pandemi', 'indonesia',\n",
        "                       'saya', 'sekali', 'ini', 'harus', 'sempat', 'terima', 'kasih',\n",
        "                       'untuk'])\n",
        "\n",
        "# convert list to dictionary\n",
        "list_stopwords = set(list_stopwords)\n",
        "\n",
        "#remove stopword pada list token\n",
        "def stopwords_removal(words):\n",
        "    return [word for word in words if word not in list_stopwords]\n",
        "\n",
        "data['textdata_tokens_WSW'] = data['Text_tokens'].apply(stopwords_removal)\n",
        "\n",
        "print(data['textdata_tokens_WSW'].head())"
      ],
      "metadata": {
        "colab": {
          "base_uri": "https://localhost:8080/"
        },
        "id": "gG-rmEqqmcbV",
        "outputId": "34a17093-13f3-4481-b083-a7167ee4fd83"
      },
      "execution_count": null,
      "outputs": [
        {
          "output_type": "stream",
          "name": "stdout",
          "text": [
            "0    [bersukur, bonus, demografi, penduduk, usia, p...\n",
            "Name: textdata_tokens_WSW, dtype: object\n"
          ]
        },
        {
          "output_type": "stream",
          "name": "stderr",
          "text": [
            "/usr/local/lib/python3.10/dist-packages/ipykernel/ipkernel.py:283: DeprecationWarning: `should_run_async` will not call `transform_cell` automatically in the future. Please pass the result to `transformed_cell` argument and any exception that happen during thetransform in `preprocessing_exc_tuple` in IPython 7.17 and above.\n",
            "  and should_run_async(code)\n"
          ]
        }
      ]
    },
    {
      "cell_type": "markdown",
      "source": [
        "# Lemmatization/Stemming"
      ],
      "metadata": {
        "id": "CEVbzG4QndIq"
      }
    },
    {
      "cell_type": "code",
      "source": [
        "# import Sastrawi package\n",
        "from Sastrawi.Stemmer.StemmerFactory import StemmerFactory\n",
        "import swifter\n",
        "\n",
        "# create stemmer\n",
        "factory = StemmerFactory()\n",
        "stemmer = factory.create_stemmer()\n",
        "\n",
        "# stemmed\n",
        "def stemmed_wrapper(term):\n",
        "    return stemmer.stem(term)\n",
        "\n",
        "term_dict = {}\n",
        "\n",
        "for document in data['textdata_tokens_WSW']:\n",
        "    for term in document:\n",
        "        if term not in term_dict:\n",
        "            term_dict[term] = ' '\n",
        "\n",
        "print(len(term_dict))"
      ],
      "metadata": {
        "colab": {
          "base_uri": "https://localhost:8080/"
        },
        "id": "cujVBa8Ong6N",
        "outputId": "383be7b4-8a39-446a-e555-3c650966ab69"
      },
      "execution_count": null,
      "outputs": [
        {
          "output_type": "stream",
          "name": "stdout",
          "text": [
            "47\n"
          ]
        },
        {
          "output_type": "stream",
          "name": "stderr",
          "text": [
            "/usr/local/lib/python3.10/dist-packages/ipykernel/ipkernel.py:283: DeprecationWarning: `should_run_async` will not call `transform_cell` automatically in the future. Please pass the result to `transformed_cell` argument and any exception that happen during thetransform in `preprocessing_exc_tuple` in IPython 7.17 and above.\n",
            "  and should_run_async(code)\n"
          ]
        }
      ]
    },
    {
      "cell_type": "code",
      "source": [
        "for term in term_dict:\n",
        "    term_dict[term] = stemmed_wrapper(term)\n",
        "\n",
        "    # untuk melihat hasilnya silahkan jalankan baris di bawah ini\n",
        "print(term,\":\" ,term_dict[term])"
      ],
      "metadata": {
        "colab": {
          "base_uri": "https://localhost:8080/"
        },
        "id": "8H-w7qVApiCT",
        "outputId": "7b94d2c1-1261-4ca3-a288-296f793f7c6b"
      },
      "execution_count": null,
      "outputs": [
        {
          "output_type": "stream",
          "name": "stderr",
          "text": [
            "/usr/local/lib/python3.10/dist-packages/ipykernel/ipkernel.py:283: DeprecationWarning: `should_run_async` will not call `transform_cell` automatically in the future. Please pass the result to `transformed_cell` argument and any exception that happen during thetransform in `preprocessing_exc_tuple` in IPython 7.17 and above.\n",
            "  and should_run_async(code)\n"
          ]
        },
        {
          "output_type": "stream",
          "name": "stdout",
          "text": [
            "tercapai : capai\n"
          ]
        }
      ]
    },
    {
      "cell_type": "code",
      "source": [
        "# apply stemmed term to dataframe\n",
        "def get_stemmed_term(document):\n",
        "    return [term_dict[term] for term in document]\n",
        "\n",
        "data['textdata_tokens_stemmed'] = data['textdata_tokens_WSW'].swifter.apply(get_stemmed_term)\n",
        "\n",
        "print(data['textdata_tokens_stemmed'])"
      ],
      "metadata": {
        "colab": {
          "base_uri": "https://localhost:8080/",
          "height": 138,
          "referenced_widgets": [
            "b9db52fae5324b56aacb66ae4adf1aaa",
            "86082e392ffa4a63a8f08c993ee6d367",
            "8857d33a15f64de9b797a304d5843021",
            "d9c44f864cc841bd8d0f7b12b2b2586b",
            "8fc0a110ee814fef9218cd9b2934731c",
            "76df590d4f474280bef1ec61d85c7f1c",
            "4f008d4982c44d91bcca0024fc2b5609",
            "5611cf63650a4e6a8d673005ad17acd9",
            "096cabf546394dab9f6d808897a80e2e",
            "728116a8289a4edc9c95ebbf33ce5252",
            "5c9ed3d7162e4931adfc446e6edd917f"
          ]
        },
        "id": "9x7SCOPKpmOe",
        "outputId": "de8421b8-4300-4c33-b58a-23403db789b3"
      },
      "execution_count": null,
      "outputs": [
        {
          "output_type": "stream",
          "name": "stderr",
          "text": [
            "/usr/local/lib/python3.10/dist-packages/ipykernel/ipkernel.py:283: DeprecationWarning: `should_run_async` will not call `transform_cell` automatically in the future. Please pass the result to `transformed_cell` argument and any exception that happen during thetransform in `preprocessing_exc_tuple` in IPython 7.17 and above.\n",
            "  and should_run_async(code)\n"
          ]
        },
        {
          "output_type": "display_data",
          "data": {
            "text/plain": [
              "Pandas Apply:   0%|          | 0/1 [00:00<?, ?it/s]"
            ],
            "application/vnd.jupyter.widget-view+json": {
              "version_major": 2,
              "version_minor": 0,
              "model_id": "b9db52fae5324b56aacb66ae4adf1aaa"
            }
          },
          "metadata": {}
        },
        {
          "output_type": "stream",
          "name": "stdout",
          "text": [
            "0    [bersukur, bonus, demografi, duduk, usia, prod...\n",
            "Name: textdata_tokens_stemmed, dtype: object\n"
          ]
        }
      ]
    },
    {
      "cell_type": "markdown",
      "source": [
        "# LDA Modul Using Gensim"
      ],
      "metadata": {
        "id": "asSfoJnopHxa"
      }
    },
    {
      "cell_type": "code",
      "source": [
        "doc_clean = data['textdata_tokens_stemmed']\n",
        "doc_clean"
      ],
      "metadata": {
        "colab": {
          "base_uri": "https://localhost:8080/"
        },
        "id": "0a7TndPGpRdM",
        "outputId": "a86f84f6-fc8e-4d9f-cf04-b6aaff4a6275"
      },
      "execution_count": null,
      "outputs": [
        {
          "output_type": "stream",
          "name": "stderr",
          "text": [
            "/usr/local/lib/python3.10/dist-packages/ipykernel/ipkernel.py:283: DeprecationWarning: `should_run_async` will not call `transform_cell` automatically in the future. Please pass the result to `transformed_cell` argument and any exception that happen during thetransform in `preprocessing_exc_tuple` in IPython 7.17 and above.\n",
            "  and should_run_async(code)\n"
          ]
        },
        {
          "output_type": "execute_result",
          "data": {
            "text/plain": [
              "0    [bersukur, bonus, demografi, duduk, usia, prod...\n",
              "Name: textdata_tokens_stemmed, dtype: object"
            ]
          },
          "metadata": {},
          "execution_count": 74
        }
      ]
    },
    {
      "cell_type": "code",
      "source": [
        "import gensim\n",
        "from gensim import corpora\n",
        "\n",
        "dictionary = corpora.Dictionary(doc_clean)\n",
        "print(dictionary)\n",
        "\n",
        "doc_term_matrix = [dictionary.doc2bow(doc) for doc in doc_clean]"
      ],
      "metadata": {
        "colab": {
          "base_uri": "https://localhost:8080/"
        },
        "id": "FRPNnU7XpLLD",
        "outputId": "bacd069e-636d-4be3-9f20-ce5565aa5547"
      },
      "execution_count": null,
      "outputs": [
        {
          "output_type": "stream",
          "name": "stdout",
          "text": [
            "Dictionary<47 unique tokens: ['amas', 'anak', 'antil', 'bangga', 'berani']...>\n"
          ]
        },
        {
          "output_type": "stream",
          "name": "stderr",
          "text": [
            "/usr/local/lib/python3.10/dist-packages/ipykernel/ipkernel.py:283: DeprecationWarning: `should_run_async` will not call `transform_cell` automatically in the future. Please pass the result to `transformed_cell` argument and any exception that happen during thetransform in `preprocessing_exc_tuple` in IPython 7.17 and above.\n",
            "  and should_run_async(code)\n"
          ]
        }
      ]
    },
    {
      "cell_type": "code",
      "source": [
        "# Creating the object for LDA model using gensim library\n",
        "Lda = gensim.models.ldamodel.LdaModel\n",
        "\n",
        "total_topics = 2 # jumlah topik yang akan di extract\n",
        "number_words = 5 # jumlah kata per topik"
      ],
      "metadata": {
        "colab": {
          "base_uri": "https://localhost:8080/"
        },
        "id": "BBOv_paW2eBT",
        "outputId": "dc2aba41-b32a-4d1d-eba8-40cf004dba41"
      },
      "execution_count": null,
      "outputs": [
        {
          "output_type": "stream",
          "name": "stderr",
          "text": [
            "/usr/local/lib/python3.10/dist-packages/ipykernel/ipkernel.py:283: DeprecationWarning: `should_run_async` will not call `transform_cell` automatically in the future. Please pass the result to `transformed_cell` argument and any exception that happen during thetransform in `preprocessing_exc_tuple` in IPython 7.17 and above.\n",
            "  and should_run_async(code)\n"
          ]
        }
      ]
    },
    {
      "cell_type": "code",
      "source": [
        "# Running and Trainign LDA model on the document term matrix.\n",
        "lda_model = Lda(doc_term_matrix, num_topics=total_topics, id2word = dictionary, passes=50)\n",
        "lda_model.show_topics(num_topics=total_topics, num_words=number_words)"
      ],
      "metadata": {
        "colab": {
          "base_uri": "https://localhost:8080/"
        },
        "id": "4E7-yI0O2koY",
        "outputId": "bba5532d-3590-4d01-a4cf-854b20f6f779"
      },
      "execution_count": null,
      "outputs": [
        {
          "output_type": "stream",
          "name": "stderr",
          "text": [
            "/usr/local/lib/python3.10/dist-packages/ipykernel/ipkernel.py:283: DeprecationWarning: `should_run_async` will not call `transform_cell` automatically in the future. Please pass the result to `transformed_cell` argument and any exception that happen during thetransform in `preprocessing_exc_tuple` in IPython 7.17 and above.\n",
            "  and should_run_async(code)\n"
          ]
        },
        {
          "output_type": "execute_result",
          "data": {
            "text/plain": [
              "[(0,\n",
              "  '0.021*\"anak\" + 0.021*\"muda\" + 0.021*\"sempat\" + 0.021*\"amas\" + 0.021*\"senang\"'),\n",
              " (1,\n",
              "  '0.073*\"anak\" + 0.051*\"muda\" + 0.051*\"sempat\" + 0.040*\"amas\" + 0.028*\"kerja\"')]"
            ]
          },
          "metadata": {},
          "execution_count": 77
        }
      ]
    },
    {
      "cell_type": "code",
      "source": [
        "# Word Count of Topic Keywords\n",
        "\n",
        "from collections import Counter\n",
        "topics = lda_model.show_topics(formatted=False)\n",
        "data_flat = [w for w_list in doc_clean for w in w_list]\n",
        "counter = Counter(data_flat)\n",
        "\n",
        "out = []\n",
        "for i, topic in topics:\n",
        "    for word, weight in topic:\n",
        "        out.append([word, i , weight, counter[word]])\n",
        "\n",
        "df_imp_wcount = pd.DataFrame(out, columns=['word', 'topic_id', 'importance', 'word_count'])\n",
        "print(df_imp_wcount)"
      ],
      "metadata": {
        "colab": {
          "base_uri": "https://localhost:8080/"
        },
        "id": "9A5e7pht2nSo",
        "outputId": "4868abe1-011e-40a4-e52f-de13999ecf24"
      },
      "execution_count": null,
      "outputs": [
        {
          "output_type": "stream",
          "name": "stdout",
          "text": [
            "       word  topic_id  importance  word_count\n",
            "0      anak         0    0.021279           6\n",
            "1      muda         0    0.021279           4\n",
            "2    sempat         0    0.021279           4\n",
            "3      amas         0    0.021278           3\n",
            "4    senang         0    0.021278           2\n",
            "5      ucap         0    0.021278           2\n",
            "6     orang         0    0.021278           2\n",
            "7     teman         0    0.021278           2\n",
            "8     kerja         0    0.021278           2\n",
            "9      buka         0    0.021276           1\n",
            "10     anak         1    0.073489           6\n",
            "11     muda         1    0.050872           4\n",
            "12   sempat         1    0.050872           4\n",
            "13     amas         1    0.039563           3\n",
            "14    kerja         1    0.028254           2\n",
            "15    orang         1    0.028254           2\n",
            "16    teman         1    0.028254           2\n",
            "17     ucap         1    0.028254           2\n",
            "18   senang         1    0.028254           2\n",
            "19  prabowo         1    0.016946           1\n"
          ]
        },
        {
          "output_type": "stream",
          "name": "stderr",
          "text": [
            "/usr/local/lib/python3.10/dist-packages/ipykernel/ipkernel.py:283: DeprecationWarning: `should_run_async` will not call `transform_cell` automatically in the future. Please pass the result to `transformed_cell` argument and any exception that happen during thetransform in `preprocessing_exc_tuple` in IPython 7.17 and above.\n",
            "  and should_run_async(code)\n"
          ]
        }
      ]
    },
    {
      "cell_type": "code",
      "source": [
        "# Define the path to save the JSON file in Google Drive\n",
        "output_json_file_path = '/content/drive/My Drive/Colab Notebooks/Topic Modeling - LDA/lda_model_word_counts.json'\n",
        "\n",
        "# Save the DataFrame to JSON\n",
        "df_imp_wcount.to_json(output_json_file_path, orient='records')\n",
        "\n",
        "print(\"Word counts of topic keywords saved to Google Drive:\", output_json_file_path)"
      ],
      "metadata": {
        "colab": {
          "base_uri": "https://localhost:8080/"
        },
        "id": "Rhp-d2qqgT36",
        "outputId": "18d7bf19-1b0d-47bf-c824-28568309fcc1"
      },
      "execution_count": null,
      "outputs": [
        {
          "output_type": "stream",
          "name": "stdout",
          "text": [
            "Word counts of topic keywords saved to Google Drive: /content/drive/My Drive/Colab Notebooks/Topic Modeling - LDA/lda_model_word_counts.json\n"
          ]
        },
        {
          "output_type": "stream",
          "name": "stderr",
          "text": [
            "/usr/local/lib/python3.10/dist-packages/ipykernel/ipkernel.py:283: DeprecationWarning: `should_run_async` will not call `transform_cell` automatically in the future. Please pass the result to `transformed_cell` argument and any exception that happen during thetransform in `preprocessing_exc_tuple` in IPython 7.17 and above.\n",
            "  and should_run_async(code)\n"
          ]
        }
      ]
    },
    {
      "cell_type": "code",
      "source": [
        "def format_topics_sentences(ldamodel=None, corpus=None, texts=None):\n",
        "    # Init output\n",
        "    sent_topics_df = pd.DataFrame()\n",
        "\n",
        "    # Get main topic in each document\n",
        "    for i, row_list in enumerate(ldamodel[corpus]):\n",
        "        row = row_list[0] if ldamodel.per_word_topics else row_list\n",
        "        row = sorted(row, key=lambda x: (x[1]), reverse=True)\n",
        "        # Get the Dominant topic, Perc Contribution and Keywords for each document\n",
        "        for j, (topic_num, prop_topic) in enumerate(row):\n",
        "            if j == 0:  # => dominant topic\n",
        "                wp = ldamodel.show_topic(topic_num)\n",
        "                topic_keywords = \", \".join([word for word, prop in wp])\n",
        "                new_row = pd.DataFrame([[int(topic_num), round(prop_topic, 4), topic_keywords]], columns=['Dominant_Topic', 'Perc_Contribution', 'Topic_Keywords'])\n",
        "                sent_topics_df = pd.concat([sent_topics_df, new_row], ignore_index=True)\n",
        "            else:\n",
        "                break\n",
        "\n",
        "    # Add original text to the end of the output\n",
        "    contents = pd.Series(texts, name='Text')\n",
        "    sent_topics_df = pd.concat([sent_topics_df, contents], axis=1)\n",
        "    return sent_topics_df"
      ],
      "metadata": {
        "colab": {
          "base_uri": "https://localhost:8080/"
        },
        "id": "tTam4tMR20tW",
        "outputId": "c3f83fb1-b448-47d7-ed00-ffda308c1380"
      },
      "execution_count": null,
      "outputs": [
        {
          "output_type": "stream",
          "name": "stderr",
          "text": [
            "/usr/local/lib/python3.10/dist-packages/ipykernel/ipkernel.py:283: DeprecationWarning: `should_run_async` will not call `transform_cell` automatically in the future. Please pass the result to `transformed_cell` argument and any exception that happen during thetransform in `preprocessing_exc_tuple` in IPython 7.17 and above.\n",
            "  and should_run_async(code)\n"
          ]
        }
      ]
    },
    {
      "cell_type": "code",
      "source": [
        "# Assuming lda_model, doc_term_matrix, and doc_clean are already defined\n",
        "df_topic_sents_keywords = format_topics_sentences(ldamodel=lda_model, corpus=doc_term_matrix, texts=doc_clean)\n",
        "\n",
        "# Format\n",
        "df_dominant_topic = df_topic_sents_keywords.reset_index(drop=True)\n",
        "\n",
        "# The DataFrame already has the correct columns, no need to reset them\n",
        "df_dominant_topic.columns = ['Dominant_Topic', 'Topic_Perc_Contrib', 'Keywords', 'Text']\n",
        "\n",
        "print(df_dominant_topic.head(10))"
      ],
      "metadata": {
        "colab": {
          "base_uri": "https://localhost:8080/"
        },
        "id": "L20W6ifs2--T",
        "outputId": "ed2d9610-9d99-4bb2-e1c5-4258816adc08"
      },
      "execution_count": null,
      "outputs": [
        {
          "output_type": "stream",
          "name": "stdout",
          "text": [
            "   Dominant_Topic  Topic_Perc_Contrib  \\\n",
            "0               1              0.9913   \n",
            "\n",
            "                                            Keywords  \\\n",
            "0  anak, muda, sempat, amas, kerja, orang, teman,...   \n",
            "\n",
            "                                                Text  \n",
            "0  [bersukur, bonus, demografi, duduk, usia, prod...  \n"
          ]
        },
        {
          "output_type": "stream",
          "name": "stderr",
          "text": [
            "/usr/local/lib/python3.10/dist-packages/ipykernel/ipkernel.py:283: DeprecationWarning: `should_run_async` will not call `transform_cell` automatically in the future. Please pass the result to `transformed_cell` argument and any exception that happen during thetransform in `preprocessing_exc_tuple` in IPython 7.17 and above.\n",
            "  and should_run_async(code)\n"
          ]
        }
      ]
    },
    {
      "cell_type": "markdown",
      "source": [
        "# Visualization"
      ],
      "metadata": {
        "id": "dWzrAunSOgwT"
      }
    },
    {
      "cell_type": "code",
      "source": [
        "import pyLDAvis.gensim\n",
        "import pickle\n",
        "import pyLDAvis\n",
        "# Visualize the topics\n",
        "pyLDAvis.enable_notebook()"
      ],
      "metadata": {
        "colab": {
          "base_uri": "https://localhost:8080/"
        },
        "id": "J9WPILb9OjML",
        "outputId": "c3563cec-fe62-4763-97c9-3cdd036282ea"
      },
      "execution_count": null,
      "outputs": [
        {
          "output_type": "stream",
          "name": "stderr",
          "text": [
            "/usr/local/lib/python3.10/dist-packages/ipykernel/ipkernel.py:283: DeprecationWarning: `should_run_async` will not call `transform_cell` automatically in the future. Please pass the result to `transformed_cell` argument and any exception that happen during thetransform in `preprocessing_exc_tuple` in IPython 7.17 and above.\n",
            "  and should_run_async(code)\n"
          ]
        }
      ]
    },
    {
      "cell_type": "code",
      "source": [
        "import os\n",
        "LDAvis_data_filepath = os.path.join('ldavis_prepared_'+str(total_topics))\n",
        "\n",
        "corpus = [dictionary.doc2bow(text) for text in doc_clean]\n",
        "\n",
        "if 1 == 1:\n",
        "    LDAvis_prepared = pyLDAvis.gensim.prepare(lda_model, corpus, dictionary)\n",
        "    with open(LDAvis_data_filepath, 'wb') as f:\n",
        "        pickle.dump(LDAvis_prepared, f)"
      ],
      "metadata": {
        "colab": {
          "base_uri": "https://localhost:8080/"
        },
        "id": "D6DvdElkOpuY",
        "outputId": "9215820c-326d-438a-f9a4-d1a76adfe497"
      },
      "execution_count": null,
      "outputs": [
        {
          "output_type": "stream",
          "name": "stderr",
          "text": [
            "/usr/local/lib/python3.10/dist-packages/ipykernel/ipkernel.py:283: DeprecationWarning: `should_run_async` will not call `transform_cell` automatically in the future. Please pass the result to `transformed_cell` argument and any exception that happen during thetransform in `preprocessing_exc_tuple` in IPython 7.17 and above.\n",
            "  and should_run_async(code)\n"
          ]
        }
      ]
    },
    {
      "cell_type": "code",
      "source": [
        "with open(LDAvis_data_filepath, 'rb') as f:\n",
        "    LDAvis_prepared = pickle.load(f)"
      ],
      "metadata": {
        "colab": {
          "base_uri": "https://localhost:8080/"
        },
        "id": "bVlk1SF3Ozt4",
        "outputId": "0965aedc-0ffe-4a71-9715-c0155d49fc65"
      },
      "execution_count": null,
      "outputs": [
        {
          "output_type": "stream",
          "name": "stderr",
          "text": [
            "/usr/local/lib/python3.10/dist-packages/ipykernel/ipkernel.py:283: DeprecationWarning: `should_run_async` will not call `transform_cell` automatically in the future. Please pass the result to `transformed_cell` argument and any exception that happen during thetransform in `preprocessing_exc_tuple` in IPython 7.17 and above.\n",
            "  and should_run_async(code)\n"
          ]
        }
      ]
    },
    {
      "cell_type": "code",
      "source": [
        "pyLDAvis.save_html(LDAvis_prepared, 'drive/MyDrive/Colab Notebooks/Topic Modeling - LDA/ldavis_prepared_'+ str(total_topics) +'.html')"
      ],
      "metadata": {
        "colab": {
          "base_uri": "https://localhost:8080/"
        },
        "id": "5gkyrhipO2-E",
        "outputId": "14b1a15f-3c76-4e00-8780-60077b392a20"
      },
      "execution_count": null,
      "outputs": [
        {
          "output_type": "stream",
          "name": "stderr",
          "text": [
            "/usr/local/lib/python3.10/dist-packages/ipykernel/ipkernel.py:283: DeprecationWarning: `should_run_async` will not call `transform_cell` automatically in the future. Please pass the result to `transformed_cell` argument and any exception that happen during thetransform in `preprocessing_exc_tuple` in IPython 7.17 and above.\n",
            "  and should_run_async(code)\n"
          ]
        }
      ]
    },
    {
      "cell_type": "code",
      "source": [
        "LDAvis_prepared"
      ],
      "metadata": {
        "colab": {
          "base_uri": "https://localhost:8080/",
          "height": 916
        },
        "id": "TbCU9JorO4x1",
        "outputId": "afd149b7-d7c4-4cc1-b5d2-92415f55164a"
      },
      "execution_count": null,
      "outputs": [
        {
          "output_type": "stream",
          "name": "stderr",
          "text": [
            "/usr/local/lib/python3.10/dist-packages/ipykernel/ipkernel.py:283: DeprecationWarning: `should_run_async` will not call `transform_cell` automatically in the future. Please pass the result to `transformed_cell` argument and any exception that happen during thetransform in `preprocessing_exc_tuple` in IPython 7.17 and above.\n",
            "  and should_run_async(code)\n"
          ]
        },
        {
          "output_type": "execute_result",
          "data": {
            "text/plain": [
              "PreparedData(topic_coordinates=              x    y  topics  cluster       Freq\n",
              "topic                                           \n",
              "1      0.010579  0.0       1        1  99.131017\n",
              "0     -0.010579  0.0       2        1   0.868983, topic_info=      Term      Freq     Total Category  logprob  loglift\n",
              "26    muda  3.000000  3.000000  Default  30.0000  30.0000\n",
              "39  sempat  3.000000  3.000000  Default  29.0000  29.0000\n",
              "0     amas  2.000000  2.000000  Default  28.0000  28.0000\n",
              "1     anak  4.000000  4.000000  Default  27.0000  27.0000\n",
              "40  senang  1.000000  1.000000  Default  26.0000  26.0000\n",
              "..     ...       ...       ...      ...      ...      ...\n",
              "40  senang  0.012019  1.832572   Topic2  -3.8501  -0.2814\n",
              "44    ucap  0.012019  1.832572   Topic2  -3.8501  -0.2814\n",
              "29   orang  0.012019  1.832572   Topic2  -3.8501  -0.2814\n",
              "42   teman  0.012019  1.832572   Topic2  -3.8501  -0.2814\n",
              "20   kerja  0.012019  1.832572   Topic2  -3.8501  -0.2814\n",
              "\n",
              "[102 rows x 6 columns], token_table=      Topic      Freq           Term\n",
              "term                                \n",
              "0         1  1.171301           amas\n",
              "1         1  1.053226           anak\n",
              "2         1  0.905869          antil\n",
              "3         1  0.905869         bangga\n",
              "4         1  0.905868         berani\n",
              "5         1  0.905869       berdukar\n",
              "6         1  0.905869       bersukur\n",
              "7         1  0.905869          bonus\n",
              "8         1  0.905869           buka\n",
              "9         1  0.905869          capai\n",
              "10        1  0.905869      demografi\n",
              "11        1  0.905869          duduk\n",
              "12        1  0.905869         dukung\n",
              "13        1  0.905869          fokus\n",
              "14        1  0.905868        ganding\n",
              "15        1  0.905869            gus\n",
              "16        1  0.905869          hebat\n",
              "17        1  0.905868         hormat\n",
              "18        1  0.905868          jalan\n",
              "19        1  0.905869          keras\n",
              "20        1  1.091362          kerja\n",
              "21        1  0.905869          ketua\n",
              "22        1  0.905868     kontestasi\n",
              "23        1  0.905868          labor\n",
              "24        1  0.905869         lompat\n",
              "25        1  0.905869         mahfud\n",
              "26        1  0.911871           muda\n",
              "27        1  0.905869       muhaymin\n",
              "28        1  0.905869       nasional\n",
              "29        1  1.091362          orang\n",
              "30        1  0.905868       panggung\n",
              "31        1  0.905868         partai\n",
              "32        1  0.905869        peluang\n",
              "33        1  0.905869          pikir\n",
              "34        1  0.905868        prabowo\n",
              "35        1  0.905868      produktif\n",
              "36        1  0.905868  produktifitas\n",
              "37        1  0.905869           prof\n",
              "38        1  0.905869       profesor\n",
              "39        1  0.911871         sempat\n",
              "40        1  1.091363         senang\n",
              "41        1  0.905869         tangan\n",
              "42        1  1.091362          teman\n",
              "43        1  0.905868        tingkat\n",
              "44        1  1.091363           ucap\n",
              "45        1  0.905869          ulang\n",
              "46        1  0.905869           usia, R=30, lambda_step=0.01, plot_opts={'xlab': 'PC1', 'ylab': 'PC2'}, topic_order=[2, 1])"
            ],
            "text/html": [
              "\n",
              "<link rel=\"stylesheet\" type=\"text/css\" href=\"https://cdn.jsdelivr.net/gh/bmabey/pyLDAvis@3.4.0/pyLDAvis/js/ldavis.v1.0.0.css\">\n",
              "\n",
              "\n",
              "<div id=\"ldavis_el218981337426849815049397981454\" style=\"background-color:white;\"></div>\n",
              "<script type=\"text/javascript\">\n",
              "\n",
              "var ldavis_el218981337426849815049397981454_data = {\"mdsDat\": {\"x\": [0.010579144919210658, -0.010579144919210658], \"y\": [0.0, 0.0], \"topics\": [1, 2], \"cluster\": [1, 1], \"Freq\": [99.13101709244852, 0.8689829075514841]}, \"tinfo\": {\"Term\": [\"muda\", \"sempat\", \"amas\", \"anak\", \"senang\", \"ucap\", \"orang\", \"teman\", \"kerja\", \"buka\", \"dukung\", \"profesor\", \"fokus\", \"prof\", \"peluang\", \"keras\", \"ketua\", \"bangga\", \"bersukur\", \"berdukar\", \"ulang\", \"muhaymin\", \"mahfud\", \"usia\", \"duduk\", \"antil\", \"bonus\", \"demografi\", \"lompat\", \"nasional\", \"anak\", \"sempat\", \"muda\", \"amas\", \"kerja\", \"teman\", \"orang\", \"ucap\", \"senang\", \"prabowo\", \"labor\", \"berani\", \"tingkat\", \"ganding\", \"panggung\", \"partai\", \"produktif\", \"produktifitas\", \"hormat\", \"jalan\", \"kontestasi\", \"hebat\", \"capai\", \"gus\", \"lompat\", \"nasional\", \"pikir\", \"tangan\", \"antil\", \"bonus\", \"bangga\", \"demografi\", \"duduk\", \"buka\", \"dukung\", \"profesor\", \"fokus\", \"keras\", \"ketua\", \"peluang\", \"prof\", \"berdukar\", \"bersukur\", \"ulang\", \"bangga\", \"antil\", \"bonus\", \"demografi\", \"duduk\", \"mahfud\", \"muhaymin\", \"usia\", \"capai\", \"gus\", \"lompat\", \"nasional\", \"pikir\", \"tangan\", \"hebat\", \"hormat\", \"jalan\", \"kontestasi\", \"ganding\", \"anak\", \"muda\", \"sempat\", \"amas\", \"senang\", \"ucap\", \"orang\", \"teman\", \"kerja\"], \"Freq\": [3.0, 3.0, 2.0, 4.0, 1.0, 1.0, 1.0, 1.0, 1.0, 1.0, 1.0, 1.0, 1.0, 1.0, 1.0, 1.0, 1.0, 1.0, 1.0, 1.0, 1.0, 1.0, 1.0, 1.0, 1.0, 1.0, 1.0, 1.0, 1.0, 1.0, 4.735298344034855, 3.2779216552872024, 3.2779216552872024, 2.5492351112109954, 1.8205536079681228, 1.8205532479085988, 1.8205532479085988, 1.8205530078689165, 1.8205530078689165, 1.091895508594301, 1.0918953885744598, 1.0918953885744598, 1.0918953885744598, 1.0918953885744598, 1.0918953885744598, 1.0918953885744598, 1.0918953885744598, 1.0918953885744598, 1.0918953885744598, 1.0918953885744598, 1.0918953885744598, 1.0918952685546186, 1.0918952685546186, 1.0918952685546186, 1.0918952685546186, 1.0918952685546186, 1.0918952685546186, 1.0918952685546186, 1.0918952685546186, 1.0918952685546186, 1.0918952685546186, 1.0918952685546186, 1.0918952685546186, 0.012017632762286769, 0.012017630658097914, 0.012017630658097914, 0.012017629606003487, 0.012017629606003487, 0.012017629606003487, 0.012017629606003487, 0.012017629606003487, 0.01201762855390906, 0.01201762855390906, 0.01201762855390906, 0.01201762855390906, 0.012017626449720206, 0.012017626449720206, 0.012017626449720206, 0.012017626449720206, 0.012017626449720206, 0.012017626449720206, 0.012017626449720206, 0.012017625397625778, 0.012017625397625778, 0.012017625397625778, 0.012017625397625778, 0.012017625397625778, 0.012017625397625778, 0.012017624345531351, 0.012017624345531351, 0.012017624345531351, 0.012017624345531351, 0.012017622241342497, 0.012019043620913649, 0.012018980495248016, 0.012018976286870308, 0.012018887910938423, 0.012018656450164438, 0.012018652241786729, 0.012018651189692302, 0.012018644877125739, 0.012018637512464748], \"Total\": [3.0, 3.0, 2.0, 4.0, 1.0, 1.0, 1.0, 1.0, 1.0, 1.0, 1.0, 1.0, 1.0, 1.0, 1.0, 1.0, 1.0, 1.0, 1.0, 1.0, 1.0, 1.0, 1.0, 1.0, 1.0, 1.0, 1.0, 1.0, 1.0, 1.0, 4.747317387655769, 3.2899406315740727, 3.2899406357824503, 2.561253999121934, 1.8325722454805875, 1.8325718927857246, 1.832571899098291, 1.8325716601107032, 1.832571664319081, 1.1039131266272657, 1.103913007659519, 1.1039130097637078, 1.1039130097637078, 1.1039130108158022, 1.1039130108158022, 1.1039130108158022, 1.1039130108158022, 1.1039130108158022, 1.1039130129199912, 1.1039130129199912, 1.1039130129199912, 1.10391289290015, 1.1039128939522445, 1.1039128939522445, 1.1039128939522445, 1.1039128939522445, 1.1039128939522445, 1.1039128939522445, 1.1039128950043389, 1.1039128950043389, 1.1039128971085277, 1.1039128950043389, 1.1039128950043389, 1.1039126612772225, 1.1039127791928751, 1.1039127791928751, 1.1039127781407807, 1.1039127781407807, 1.1039127781407807, 1.1039127781407807, 1.1039127781407807, 1.1039127770886863, 1.1039127770886863, 1.1039127770886863, 1.1039128971085277, 1.1039128950043389, 1.1039128950043389, 1.1039128950043389, 1.1039128950043389, 1.1039128950043389, 1.1039128950043389, 1.1039128950043389, 1.1039128939522445, 1.1039128939522445, 1.1039128939522445, 1.1039128939522445, 1.1039128939522445, 1.1039128939522445, 1.10391289290015, 1.1039130129199912, 1.1039130129199912, 1.1039130129199912, 1.1039130108158022, 4.747317387655769, 3.2899406357824503, 3.2899406315740727, 2.561253999121934, 1.832571664319081, 1.8325716601107032, 1.832571899098291, 1.8325718927857246, 1.8325722454805875], \"Category\": [\"Default\", \"Default\", \"Default\", \"Default\", \"Default\", \"Default\", \"Default\", \"Default\", \"Default\", \"Default\", \"Default\", \"Default\", \"Default\", \"Default\", \"Default\", \"Default\", \"Default\", \"Default\", \"Default\", \"Default\", \"Default\", \"Default\", \"Default\", \"Default\", \"Default\", \"Default\", \"Default\", \"Default\", \"Default\", \"Default\", \"Topic1\", \"Topic1\", \"Topic1\", \"Topic1\", \"Topic1\", \"Topic1\", \"Topic1\", \"Topic1\", \"Topic1\", \"Topic1\", \"Topic1\", \"Topic1\", \"Topic1\", \"Topic1\", \"Topic1\", \"Topic1\", \"Topic1\", \"Topic1\", \"Topic1\", \"Topic1\", \"Topic1\", \"Topic1\", \"Topic1\", \"Topic1\", \"Topic1\", \"Topic1\", \"Topic1\", \"Topic1\", \"Topic1\", \"Topic1\", \"Topic1\", \"Topic1\", \"Topic1\", \"Topic2\", \"Topic2\", \"Topic2\", \"Topic2\", \"Topic2\", \"Topic2\", \"Topic2\", \"Topic2\", \"Topic2\", \"Topic2\", \"Topic2\", \"Topic2\", \"Topic2\", \"Topic2\", \"Topic2\", \"Topic2\", \"Topic2\", \"Topic2\", \"Topic2\", \"Topic2\", \"Topic2\", \"Topic2\", \"Topic2\", \"Topic2\", \"Topic2\", \"Topic2\", \"Topic2\", \"Topic2\", \"Topic2\", \"Topic2\", \"Topic2\", \"Topic2\", \"Topic2\", \"Topic2\", \"Topic2\", \"Topic2\", \"Topic2\", \"Topic2\", \"Topic2\"], \"logprob\": [30.0, 29.0, 28.0, 27.0, 26.0, 25.0, 24.0, 23.0, 22.0, 21.0, 20.0, 19.0, 18.0, 17.0, 16.0, 15.0, 14.0, 13.0, 12.0, 11.0, 10.0, 9.0, 8.0, 7.0, 6.0, 5.0, 4.0, 3.0, 2.0, 1.0, -2.6106, -2.9784, -2.9784, -3.2299, -3.5665, -3.5665, -3.5665, -3.5665, -3.5665, -4.0777, -4.0777, -4.0777, -4.0777, -4.0777, -4.0777, -4.0777, -4.0777, -4.0777, -4.0777, -4.0777, -4.0777, -4.0777, -4.0777, -4.0777, -4.0777, -4.0777, -4.0777, -4.0777, -4.0777, -4.0777, -4.0777, -4.0777, -4.0777, -3.8502, -3.8502, -3.8502, -3.8502, -3.8502, -3.8502, -3.8502, -3.8502, -3.8502, -3.8502, -3.8502, -3.8502, -3.8502, -3.8502, -3.8502, -3.8502, -3.8502, -3.8502, -3.8502, -3.8502, -3.8502, -3.8502, -3.8502, -3.8502, -3.8502, -3.8502, -3.8502, -3.8502, -3.8502, -3.8502, -3.85, -3.8501, -3.8501, -3.8501, -3.8501, -3.8501, -3.8501, -3.8501, -3.8501], \"loglift\": [30.0, 29.0, 28.0, 27.0, 26.0, 25.0, 24.0, 23.0, 22.0, 21.0, 20.0, 19.0, 18.0, 17.0, 16.0, 15.0, 14.0, 13.0, 12.0, 11.0, 10.0, 9.0, 8.0, 7.0, 6.0, 5.0, 4.0, 3.0, 2.0, 1.0, 0.0062, 0.0051, 0.0051, 0.004, 0.0021, 0.0021, 0.0021, 0.0021, 0.0021, -0.0022, -0.0022, -0.0022, -0.0022, -0.0022, -0.0022, -0.0022, -0.0022, -0.0022, -0.0022, -0.0022, -0.0022, -0.0022, -0.0022, -0.0022, -0.0022, -0.0022, -0.0022, -0.0022, -0.0022, -0.0022, -0.0022, -0.0022, -0.0022, 0.2254, 0.2254, 0.2254, 0.2254, 0.2254, 0.2254, 0.2254, 0.2254, 0.2254, 0.2254, 0.2254, 0.2254, 0.2254, 0.2254, 0.2254, 0.2254, 0.2254, 0.2254, 0.2254, 0.2254, 0.2254, 0.2254, 0.2254, 0.2254, 0.2254, 0.2254, 0.2254, 0.2254, 0.2254, 0.2254, -1.2332, -0.8665, -0.8665, -0.6162, -0.2814, -0.2814, -0.2814, -0.2814, -0.2814]}, \"token.table\": {\"Topic\": [1, 1, 1, 1, 1, 1, 1, 1, 1, 1, 1, 1, 1, 1, 1, 1, 1, 1, 1, 1, 1, 1, 1, 1, 1, 1, 1, 1, 1, 1, 1, 1, 1, 1, 1, 1, 1, 1, 1, 1, 1, 1, 1, 1, 1, 1, 1], \"Freq\": [1.1713012458071241, 1.0532263996086022, 0.9058685739838827, 0.9058685722571898, 0.9058684798125983, 0.9058686707452267, 0.9058686707452267, 0.9058685739838827, 0.9058687657798978, 0.905868574847229, 0.9058685739838827, 0.9058685739838827, 0.9058686690185335, 0.9058686698818801, 0.9058684789492522, 0.905868574847229, 0.9058685757105756, 0.9058684772225594, 0.9058684772225594, 0.9058686698818801, 1.0913621577170098, 0.9058686698818801, 0.9058684772225594, 0.9058684815392909, 0.905868574847229, 0.9058685739838827, 0.9118705569854474, 0.9058685739838827, 0.905868574847229, 1.0913623640000651, 0.9058684789492522, 0.9058684789492522, 0.9058686698818801, 0.905868574847229, 0.9058683839146413, 0.9058684789492522, 0.9058684789492522, 0.9058686698818801, 0.9058686690185335, 0.9118705581518806, 1.0913625038195325, 0.905868574847229, 1.0913623677594253, 0.9058684798125983, 1.0913625063257733, 0.9058686707452267, 0.9058685739838827], \"Term\": [\"amas\", \"anak\", \"antil\", \"bangga\", \"berani\", \"berdukar\", \"bersukur\", \"bonus\", \"buka\", \"capai\", \"demografi\", \"duduk\", \"dukung\", \"fokus\", \"ganding\", \"gus\", \"hebat\", \"hormat\", \"jalan\", \"keras\", \"kerja\", \"ketua\", \"kontestasi\", \"labor\", \"lompat\", \"mahfud\", \"muda\", \"muhaymin\", \"nasional\", \"orang\", \"panggung\", \"partai\", \"peluang\", \"pikir\", \"prabowo\", \"produktif\", \"produktifitas\", \"prof\", \"profesor\", \"sempat\", \"senang\", \"tangan\", \"teman\", \"tingkat\", \"ucap\", \"ulang\", \"usia\"]}, \"R\": 30, \"lambda.step\": 0.01, \"plot.opts\": {\"xlab\": \"PC1\", \"ylab\": \"PC2\"}, \"topic.order\": [2, 1]};\n",
              "\n",
              "function LDAvis_load_lib(url, callback){\n",
              "  var s = document.createElement('script');\n",
              "  s.src = url;\n",
              "  s.async = true;\n",
              "  s.onreadystatechange = s.onload = callback;\n",
              "  s.onerror = function(){console.warn(\"failed to load library \" + url);};\n",
              "  document.getElementsByTagName(\"head\")[0].appendChild(s);\n",
              "}\n",
              "\n",
              "if(typeof(LDAvis) !== \"undefined\"){\n",
              "   // already loaded: just create the visualization\n",
              "   !function(LDAvis){\n",
              "       new LDAvis(\"#\" + \"ldavis_el218981337426849815049397981454\", ldavis_el218981337426849815049397981454_data);\n",
              "   }(LDAvis);\n",
              "}else if(typeof define === \"function\" && define.amd){\n",
              "   // require.js is available: use it to load d3/LDAvis\n",
              "   require.config({paths: {d3: \"https://d3js.org/d3.v5\"}});\n",
              "   require([\"d3\"], function(d3){\n",
              "      window.d3 = d3;\n",
              "      LDAvis_load_lib(\"https://cdn.jsdelivr.net/gh/bmabey/pyLDAvis@3.4.0/pyLDAvis/js/ldavis.v3.0.0.js\", function(){\n",
              "        new LDAvis(\"#\" + \"ldavis_el218981337426849815049397981454\", ldavis_el218981337426849815049397981454_data);\n",
              "      });\n",
              "    });\n",
              "}else{\n",
              "    // require.js not available: dynamically load d3 & LDAvis\n",
              "    LDAvis_load_lib(\"https://d3js.org/d3.v5.js\", function(){\n",
              "         LDAvis_load_lib(\"https://cdn.jsdelivr.net/gh/bmabey/pyLDAvis@3.4.0/pyLDAvis/js/ldavis.v3.0.0.js\", function(){\n",
              "                 new LDAvis(\"#\" + \"ldavis_el218981337426849815049397981454\", ldavis_el218981337426849815049397981454_data);\n",
              "            })\n",
              "         });\n",
              "}\n",
              "</script>"
            ]
          },
          "metadata": {},
          "execution_count": 86
        }
      ]
    },
    {
      "cell_type": "code",
      "source": [
        "# Only export the value of words (i.e., 'Keywords') to JSON\n",
        "keywords_json = df_dominant_topic[['Keywords']].to_json(orient='records')\n",
        "\n",
        "# Save the JSON output to a file in Google Drive\n",
        "output_json_file_path = 'drive/MyDrive/Colab Notebooks/Topic Modeling - LDA/keywords.json'\n",
        "with open(output_json_file_path, 'w') as f:\n",
        "    f.write(keywords_json)\n",
        "\n",
        "print(\"Keywords saved to Google Drive:\", output_json_file_path)"
      ],
      "metadata": {
        "colab": {
          "base_uri": "https://localhost:8080/"
        },
        "id": "ZrQYkrrbTfcj",
        "outputId": "1679b50d-e67e-4c44-c04a-e5e2dd68d692"
      },
      "execution_count": null,
      "outputs": [
        {
          "output_type": "stream",
          "name": "stdout",
          "text": [
            "Keywords saved to Google Drive: drive/MyDrive/Colab Notebooks/Topic Modeling - LDA/keywords.json\n"
          ]
        },
        {
          "output_type": "stream",
          "name": "stderr",
          "text": [
            "/usr/local/lib/python3.10/dist-packages/ipykernel/ipkernel.py:283: DeprecationWarning: `should_run_async` will not call `transform_cell` automatically in the future. Please pass the result to `transformed_cell` argument and any exception that happen during thetransform in `preprocessing_exc_tuple` in IPython 7.17 and above.\n",
            "  and should_run_async(code)\n"
          ]
        }
      ]
    },
    {
      "cell_type": "code",
      "source": [
        "print(keywords_json)"
      ],
      "metadata": {
        "colab": {
          "base_uri": "https://localhost:8080/"
        },
        "id": "7v9q0LmvTpuH",
        "outputId": "9997e430-dc7d-46fd-b369-d86d7171bff6"
      },
      "execution_count": null,
      "outputs": [
        {
          "output_type": "stream",
          "name": "stdout",
          "text": [
            "[{\"Keywords\":\"anak, muda, sempat, amas, kerja, orang, teman, ucap, senang, prabowo\"}]\n"
          ]
        },
        {
          "output_type": "stream",
          "name": "stderr",
          "text": [
            "/usr/local/lib/python3.10/dist-packages/ipykernel/ipkernel.py:283: DeprecationWarning: `should_run_async` will not call `transform_cell` automatically in the future. Please pass the result to `transformed_cell` argument and any exception that happen during thetransform in `preprocessing_exc_tuple` in IPython 7.17 and above.\n",
            "  and should_run_async(code)\n"
          ]
        }
      ]
    }
  ]
}