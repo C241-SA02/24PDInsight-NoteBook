{
  "nbformat": 4,
  "nbformat_minor": 0,
  "metadata": {
    "colab": {
      "provenance": []
    },
    "kernelspec": {
      "name": "python3",
      "display_name": "Python 3"
    },
    "language_info": {
      "name": "python"
    },
    "widgets": {
      "application/vnd.jupyter.widget-state+json": {
        "c9441e33c0e74a508bab9edf439023d5": {
          "model_module": "@jupyter-widgets/controls",
          "model_name": "VBoxModel",
          "model_module_version": "1.5.0",
          "state": {
            "_dom_classes": [],
            "_model_module": "@jupyter-widgets/controls",
            "_model_module_version": "1.5.0",
            "_model_name": "VBoxModel",
            "_view_count": null,
            "_view_module": "@jupyter-widgets/controls",
            "_view_module_version": "1.5.0",
            "_view_name": "VBoxView",
            "box_style": "",
            "children": [
              "IPY_MODEL_06d501e1b9f841c2b69ca9d1aad86eda",
              "IPY_MODEL_f4b76541c2fa4a7ca0a085d614312e4f",
              "IPY_MODEL_704977dfebdf4f2ebd570459e4a6994e",
              "IPY_MODEL_57ba5e98d71a40c29677ee714585c6b9",
              "IPY_MODEL_0bebc67d36da4bf19a8ef6c2ac58997c"
            ],
            "layout": "IPY_MODEL_22694e1971a347039e4f45d072d063e5"
          }
        },
        "06d501e1b9f841c2b69ca9d1aad86eda": {
          "model_module": "@jupyter-widgets/controls",
          "model_name": "HTMLModel",
          "model_module_version": "1.5.0",
          "state": {
            "_dom_classes": [],
            "_model_module": "@jupyter-widgets/controls",
            "_model_module_version": "1.5.0",
            "_model_name": "HTMLModel",
            "_view_count": null,
            "_view_module": "@jupyter-widgets/controls",
            "_view_module_version": "1.5.0",
            "_view_name": "HTMLView",
            "description": "",
            "description_tooltip": null,
            "layout": "IPY_MODEL_ffc6613b3e9d4246956efce632406235",
            "placeholder": "​",
            "style": "IPY_MODEL_5b8c2c63815e4ad48f4918e77748806f",
            "value": "<center> <img\nsrc=https://huggingface.co/front/assets/huggingface_logo-noborder.svg\nalt='Hugging Face'> <br> Copy a token from <a\nhref=\"https://huggingface.co/settings/tokens\" target=\"_blank\">your Hugging Face\ntokens page</a> and paste it below. <br> Immediately click login after copying\nyour token or it might be stored in plain text in this notebook file. </center>"
          }
        },
        "f4b76541c2fa4a7ca0a085d614312e4f": {
          "model_module": "@jupyter-widgets/controls",
          "model_name": "PasswordModel",
          "model_module_version": "1.5.0",
          "state": {
            "_dom_classes": [],
            "_model_module": "@jupyter-widgets/controls",
            "_model_module_version": "1.5.0",
            "_model_name": "PasswordModel",
            "_view_count": null,
            "_view_module": "@jupyter-widgets/controls",
            "_view_module_version": "1.5.0",
            "_view_name": "PasswordView",
            "continuous_update": true,
            "description": "Token:",
            "description_tooltip": null,
            "disabled": false,
            "layout": "IPY_MODEL_3f1e9c7fb52444bbbaab542b2dc5b300",
            "placeholder": "​",
            "style": "IPY_MODEL_f8391f4e23d94d9b9a461346c34edbc9",
            "value": ""
          }
        },
        "704977dfebdf4f2ebd570459e4a6994e": {
          "model_module": "@jupyter-widgets/controls",
          "model_name": "CheckboxModel",
          "model_module_version": "1.5.0",
          "state": {
            "_dom_classes": [],
            "_model_module": "@jupyter-widgets/controls",
            "_model_module_version": "1.5.0",
            "_model_name": "CheckboxModel",
            "_view_count": null,
            "_view_module": "@jupyter-widgets/controls",
            "_view_module_version": "1.5.0",
            "_view_name": "CheckboxView",
            "description": "Add token as git credential?",
            "description_tooltip": null,
            "disabled": false,
            "indent": true,
            "layout": "IPY_MODEL_d73fe065a32b41ada2eefb95b00b2665",
            "style": "IPY_MODEL_10e5f421175e4768b7cf898fbdadaea1",
            "value": true
          }
        },
        "57ba5e98d71a40c29677ee714585c6b9": {
          "model_module": "@jupyter-widgets/controls",
          "model_name": "ButtonModel",
          "model_module_version": "1.5.0",
          "state": {
            "_dom_classes": [],
            "_model_module": "@jupyter-widgets/controls",
            "_model_module_version": "1.5.0",
            "_model_name": "ButtonModel",
            "_view_count": null,
            "_view_module": "@jupyter-widgets/controls",
            "_view_module_version": "1.5.0",
            "_view_name": "ButtonView",
            "button_style": "",
            "description": "Login",
            "disabled": false,
            "icon": "",
            "layout": "IPY_MODEL_e0d2d8f1e0e8446f9319f3fc6a0b42dd",
            "style": "IPY_MODEL_d0fd22da0e5c48cab096c1afbed51816",
            "tooltip": ""
          }
        },
        "0bebc67d36da4bf19a8ef6c2ac58997c": {
          "model_module": "@jupyter-widgets/controls",
          "model_name": "HTMLModel",
          "model_module_version": "1.5.0",
          "state": {
            "_dom_classes": [],
            "_model_module": "@jupyter-widgets/controls",
            "_model_module_version": "1.5.0",
            "_model_name": "HTMLModel",
            "_view_count": null,
            "_view_module": "@jupyter-widgets/controls",
            "_view_module_version": "1.5.0",
            "_view_name": "HTMLView",
            "description": "",
            "description_tooltip": null,
            "layout": "IPY_MODEL_659e32fe767e4eb48188bfe3802a32cb",
            "placeholder": "​",
            "style": "IPY_MODEL_ce770a010ad345da970aeb7bd0c66361",
            "value": "\n<b>Pro Tip:</b> If you don't already have one, you can create a dedicated\n'notebooks' token with 'write' access, that you can then easily reuse for all\nnotebooks. </center>"
          }
        },
        "22694e1971a347039e4f45d072d063e5": {
          "model_module": "@jupyter-widgets/base",
          "model_name": "LayoutModel",
          "model_module_version": "1.2.0",
          "state": {
            "_model_module": "@jupyter-widgets/base",
            "_model_module_version": "1.2.0",
            "_model_name": "LayoutModel",
            "_view_count": null,
            "_view_module": "@jupyter-widgets/base",
            "_view_module_version": "1.2.0",
            "_view_name": "LayoutView",
            "align_content": null,
            "align_items": "center",
            "align_self": null,
            "border": null,
            "bottom": null,
            "display": "flex",
            "flex": null,
            "flex_flow": "column",
            "grid_area": null,
            "grid_auto_columns": null,
            "grid_auto_flow": null,
            "grid_auto_rows": null,
            "grid_column": null,
            "grid_gap": null,
            "grid_row": null,
            "grid_template_areas": null,
            "grid_template_columns": null,
            "grid_template_rows": null,
            "height": null,
            "justify_content": null,
            "justify_items": null,
            "left": null,
            "margin": null,
            "max_height": null,
            "max_width": null,
            "min_height": null,
            "min_width": null,
            "object_fit": null,
            "object_position": null,
            "order": null,
            "overflow": null,
            "overflow_x": null,
            "overflow_y": null,
            "padding": null,
            "right": null,
            "top": null,
            "visibility": null,
            "width": "50%"
          }
        },
        "ffc6613b3e9d4246956efce632406235": {
          "model_module": "@jupyter-widgets/base",
          "model_name": "LayoutModel",
          "model_module_version": "1.2.0",
          "state": {
            "_model_module": "@jupyter-widgets/base",
            "_model_module_version": "1.2.0",
            "_model_name": "LayoutModel",
            "_view_count": null,
            "_view_module": "@jupyter-widgets/base",
            "_view_module_version": "1.2.0",
            "_view_name": "LayoutView",
            "align_content": null,
            "align_items": null,
            "align_self": null,
            "border": null,
            "bottom": null,
            "display": null,
            "flex": null,
            "flex_flow": null,
            "grid_area": null,
            "grid_auto_columns": null,
            "grid_auto_flow": null,
            "grid_auto_rows": null,
            "grid_column": null,
            "grid_gap": null,
            "grid_row": null,
            "grid_template_areas": null,
            "grid_template_columns": null,
            "grid_template_rows": null,
            "height": null,
            "justify_content": null,
            "justify_items": null,
            "left": null,
            "margin": null,
            "max_height": null,
            "max_width": null,
            "min_height": null,
            "min_width": null,
            "object_fit": null,
            "object_position": null,
            "order": null,
            "overflow": null,
            "overflow_x": null,
            "overflow_y": null,
            "padding": null,
            "right": null,
            "top": null,
            "visibility": null,
            "width": null
          }
        },
        "5b8c2c63815e4ad48f4918e77748806f": {
          "model_module": "@jupyter-widgets/controls",
          "model_name": "DescriptionStyleModel",
          "model_module_version": "1.5.0",
          "state": {
            "_model_module": "@jupyter-widgets/controls",
            "_model_module_version": "1.5.0",
            "_model_name": "DescriptionStyleModel",
            "_view_count": null,
            "_view_module": "@jupyter-widgets/base",
            "_view_module_version": "1.2.0",
            "_view_name": "StyleView",
            "description_width": ""
          }
        },
        "3f1e9c7fb52444bbbaab542b2dc5b300": {
          "model_module": "@jupyter-widgets/base",
          "model_name": "LayoutModel",
          "model_module_version": "1.2.0",
          "state": {
            "_model_module": "@jupyter-widgets/base",
            "_model_module_version": "1.2.0",
            "_model_name": "LayoutModel",
            "_view_count": null,
            "_view_module": "@jupyter-widgets/base",
            "_view_module_version": "1.2.0",
            "_view_name": "LayoutView",
            "align_content": null,
            "align_items": null,
            "align_self": null,
            "border": null,
            "bottom": null,
            "display": null,
            "flex": null,
            "flex_flow": null,
            "grid_area": null,
            "grid_auto_columns": null,
            "grid_auto_flow": null,
            "grid_auto_rows": null,
            "grid_column": null,
            "grid_gap": null,
            "grid_row": null,
            "grid_template_areas": null,
            "grid_template_columns": null,
            "grid_template_rows": null,
            "height": null,
            "justify_content": null,
            "justify_items": null,
            "left": null,
            "margin": null,
            "max_height": null,
            "max_width": null,
            "min_height": null,
            "min_width": null,
            "object_fit": null,
            "object_position": null,
            "order": null,
            "overflow": null,
            "overflow_x": null,
            "overflow_y": null,
            "padding": null,
            "right": null,
            "top": null,
            "visibility": null,
            "width": null
          }
        },
        "f8391f4e23d94d9b9a461346c34edbc9": {
          "model_module": "@jupyter-widgets/controls",
          "model_name": "DescriptionStyleModel",
          "model_module_version": "1.5.0",
          "state": {
            "_model_module": "@jupyter-widgets/controls",
            "_model_module_version": "1.5.0",
            "_model_name": "DescriptionStyleModel",
            "_view_count": null,
            "_view_module": "@jupyter-widgets/base",
            "_view_module_version": "1.2.0",
            "_view_name": "StyleView",
            "description_width": ""
          }
        },
        "d73fe065a32b41ada2eefb95b00b2665": {
          "model_module": "@jupyter-widgets/base",
          "model_name": "LayoutModel",
          "model_module_version": "1.2.0",
          "state": {
            "_model_module": "@jupyter-widgets/base",
            "_model_module_version": "1.2.0",
            "_model_name": "LayoutModel",
            "_view_count": null,
            "_view_module": "@jupyter-widgets/base",
            "_view_module_version": "1.2.0",
            "_view_name": "LayoutView",
            "align_content": null,
            "align_items": null,
            "align_self": null,
            "border": null,
            "bottom": null,
            "display": null,
            "flex": null,
            "flex_flow": null,
            "grid_area": null,
            "grid_auto_columns": null,
            "grid_auto_flow": null,
            "grid_auto_rows": null,
            "grid_column": null,
            "grid_gap": null,
            "grid_row": null,
            "grid_template_areas": null,
            "grid_template_columns": null,
            "grid_template_rows": null,
            "height": null,
            "justify_content": null,
            "justify_items": null,
            "left": null,
            "margin": null,
            "max_height": null,
            "max_width": null,
            "min_height": null,
            "min_width": null,
            "object_fit": null,
            "object_position": null,
            "order": null,
            "overflow": null,
            "overflow_x": null,
            "overflow_y": null,
            "padding": null,
            "right": null,
            "top": null,
            "visibility": null,
            "width": null
          }
        },
        "10e5f421175e4768b7cf898fbdadaea1": {
          "model_module": "@jupyter-widgets/controls",
          "model_name": "DescriptionStyleModel",
          "model_module_version": "1.5.0",
          "state": {
            "_model_module": "@jupyter-widgets/controls",
            "_model_module_version": "1.5.0",
            "_model_name": "DescriptionStyleModel",
            "_view_count": null,
            "_view_module": "@jupyter-widgets/base",
            "_view_module_version": "1.2.0",
            "_view_name": "StyleView",
            "description_width": ""
          }
        },
        "e0d2d8f1e0e8446f9319f3fc6a0b42dd": {
          "model_module": "@jupyter-widgets/base",
          "model_name": "LayoutModel",
          "model_module_version": "1.2.0",
          "state": {
            "_model_module": "@jupyter-widgets/base",
            "_model_module_version": "1.2.0",
            "_model_name": "LayoutModel",
            "_view_count": null,
            "_view_module": "@jupyter-widgets/base",
            "_view_module_version": "1.2.0",
            "_view_name": "LayoutView",
            "align_content": null,
            "align_items": null,
            "align_self": null,
            "border": null,
            "bottom": null,
            "display": null,
            "flex": null,
            "flex_flow": null,
            "grid_area": null,
            "grid_auto_columns": null,
            "grid_auto_flow": null,
            "grid_auto_rows": null,
            "grid_column": null,
            "grid_gap": null,
            "grid_row": null,
            "grid_template_areas": null,
            "grid_template_columns": null,
            "grid_template_rows": null,
            "height": null,
            "justify_content": null,
            "justify_items": null,
            "left": null,
            "margin": null,
            "max_height": null,
            "max_width": null,
            "min_height": null,
            "min_width": null,
            "object_fit": null,
            "object_position": null,
            "order": null,
            "overflow": null,
            "overflow_x": null,
            "overflow_y": null,
            "padding": null,
            "right": null,
            "top": null,
            "visibility": null,
            "width": null
          }
        },
        "d0fd22da0e5c48cab096c1afbed51816": {
          "model_module": "@jupyter-widgets/controls",
          "model_name": "ButtonStyleModel",
          "model_module_version": "1.5.0",
          "state": {
            "_model_module": "@jupyter-widgets/controls",
            "_model_module_version": "1.5.0",
            "_model_name": "ButtonStyleModel",
            "_view_count": null,
            "_view_module": "@jupyter-widgets/base",
            "_view_module_version": "1.2.0",
            "_view_name": "StyleView",
            "button_color": null,
            "font_weight": ""
          }
        },
        "659e32fe767e4eb48188bfe3802a32cb": {
          "model_module": "@jupyter-widgets/base",
          "model_name": "LayoutModel",
          "model_module_version": "1.2.0",
          "state": {
            "_model_module": "@jupyter-widgets/base",
            "_model_module_version": "1.2.0",
            "_model_name": "LayoutModel",
            "_view_count": null,
            "_view_module": "@jupyter-widgets/base",
            "_view_module_version": "1.2.0",
            "_view_name": "LayoutView",
            "align_content": null,
            "align_items": null,
            "align_self": null,
            "border": null,
            "bottom": null,
            "display": null,
            "flex": null,
            "flex_flow": null,
            "grid_area": null,
            "grid_auto_columns": null,
            "grid_auto_flow": null,
            "grid_auto_rows": null,
            "grid_column": null,
            "grid_gap": null,
            "grid_row": null,
            "grid_template_areas": null,
            "grid_template_columns": null,
            "grid_template_rows": null,
            "height": null,
            "justify_content": null,
            "justify_items": null,
            "left": null,
            "margin": null,
            "max_height": null,
            "max_width": null,
            "min_height": null,
            "min_width": null,
            "object_fit": null,
            "object_position": null,
            "order": null,
            "overflow": null,
            "overflow_x": null,
            "overflow_y": null,
            "padding": null,
            "right": null,
            "top": null,
            "visibility": null,
            "width": null
          }
        },
        "ce770a010ad345da970aeb7bd0c66361": {
          "model_module": "@jupyter-widgets/controls",
          "model_name": "DescriptionStyleModel",
          "model_module_version": "1.5.0",
          "state": {
            "_model_module": "@jupyter-widgets/controls",
            "_model_module_version": "1.5.0",
            "_model_name": "DescriptionStyleModel",
            "_view_count": null,
            "_view_module": "@jupyter-widgets/base",
            "_view_module_version": "1.2.0",
            "_view_name": "StyleView",
            "description_width": ""
          }
        },
        "c0f8446a575747878da1bc34af3922e0": {
          "model_module": "@jupyter-widgets/controls",
          "model_name": "HBoxModel",
          "model_module_version": "1.5.0",
          "state": {
            "_dom_classes": [],
            "_model_module": "@jupyter-widgets/controls",
            "_model_module_version": "1.5.0",
            "_model_name": "HBoxModel",
            "_view_count": null,
            "_view_module": "@jupyter-widgets/controls",
            "_view_module_version": "1.5.0",
            "_view_name": "HBoxView",
            "box_style": "",
            "children": [
              "IPY_MODEL_6aacaa6fa86249ee89ed16cd3ed8ea1e",
              "IPY_MODEL_76809c9c142b4262be4334e404ca37d9",
              "IPY_MODEL_937a5e57556f4bbba53fb833145bd8d1"
            ],
            "layout": "IPY_MODEL_b45cbf55627d472fbbcc4578b212e953"
          }
        },
        "6aacaa6fa86249ee89ed16cd3ed8ea1e": {
          "model_module": "@jupyter-widgets/controls",
          "model_name": "HTMLModel",
          "model_module_version": "1.5.0",
          "state": {
            "_dom_classes": [],
            "_model_module": "@jupyter-widgets/controls",
            "_model_module_version": "1.5.0",
            "_model_name": "HTMLModel",
            "_view_count": null,
            "_view_module": "@jupyter-widgets/controls",
            "_view_module_version": "1.5.0",
            "_view_name": "HTMLView",
            "description": "",
            "description_tooltip": null,
            "layout": "IPY_MODEL_1aa15e4b790541db8650a9a259492dd0",
            "placeholder": "​",
            "style": "IPY_MODEL_4630404e7440442b9b4a07433d69b454",
            "value": "tokenizer_config.json: 100%"
          }
        },
        "76809c9c142b4262be4334e404ca37d9": {
          "model_module": "@jupyter-widgets/controls",
          "model_name": "FloatProgressModel",
          "model_module_version": "1.5.0",
          "state": {
            "_dom_classes": [],
            "_model_module": "@jupyter-widgets/controls",
            "_model_module_version": "1.5.0",
            "_model_name": "FloatProgressModel",
            "_view_count": null,
            "_view_module": "@jupyter-widgets/controls",
            "_view_module_version": "1.5.0",
            "_view_name": "ProgressView",
            "bar_style": "success",
            "description": "",
            "description_tooltip": null,
            "layout": "IPY_MODEL_214b9c92ea1e4e56be831adb3f7c52cc",
            "max": 1293,
            "min": 0,
            "orientation": "horizontal",
            "style": "IPY_MODEL_f8a23ddeefd8406999708f1a44e221a0",
            "value": 1293
          }
        },
        "937a5e57556f4bbba53fb833145bd8d1": {
          "model_module": "@jupyter-widgets/controls",
          "model_name": "HTMLModel",
          "model_module_version": "1.5.0",
          "state": {
            "_dom_classes": [],
            "_model_module": "@jupyter-widgets/controls",
            "_model_module_version": "1.5.0",
            "_model_name": "HTMLModel",
            "_view_count": null,
            "_view_module": "@jupyter-widgets/controls",
            "_view_module_version": "1.5.0",
            "_view_name": "HTMLView",
            "description": "",
            "description_tooltip": null,
            "layout": "IPY_MODEL_45fdc0d17b864d31a478d412aa2a0499",
            "placeholder": "​",
            "style": "IPY_MODEL_356d55251e534b3e96c7650f76522dd5",
            "value": " 1.29k/1.29k [00:00&lt;00:00, 17.2kB/s]"
          }
        },
        "b45cbf55627d472fbbcc4578b212e953": {
          "model_module": "@jupyter-widgets/base",
          "model_name": "LayoutModel",
          "model_module_version": "1.2.0",
          "state": {
            "_model_module": "@jupyter-widgets/base",
            "_model_module_version": "1.2.0",
            "_model_name": "LayoutModel",
            "_view_count": null,
            "_view_module": "@jupyter-widgets/base",
            "_view_module_version": "1.2.0",
            "_view_name": "LayoutView",
            "align_content": null,
            "align_items": null,
            "align_self": null,
            "border": null,
            "bottom": null,
            "display": null,
            "flex": null,
            "flex_flow": null,
            "grid_area": null,
            "grid_auto_columns": null,
            "grid_auto_flow": null,
            "grid_auto_rows": null,
            "grid_column": null,
            "grid_gap": null,
            "grid_row": null,
            "grid_template_areas": null,
            "grid_template_columns": null,
            "grid_template_rows": null,
            "height": null,
            "justify_content": null,
            "justify_items": null,
            "left": null,
            "margin": null,
            "max_height": null,
            "max_width": null,
            "min_height": null,
            "min_width": null,
            "object_fit": null,
            "object_position": null,
            "order": null,
            "overflow": null,
            "overflow_x": null,
            "overflow_y": null,
            "padding": null,
            "right": null,
            "top": null,
            "visibility": null,
            "width": null
          }
        },
        "1aa15e4b790541db8650a9a259492dd0": {
          "model_module": "@jupyter-widgets/base",
          "model_name": "LayoutModel",
          "model_module_version": "1.2.0",
          "state": {
            "_model_module": "@jupyter-widgets/base",
            "_model_module_version": "1.2.0",
            "_model_name": "LayoutModel",
            "_view_count": null,
            "_view_module": "@jupyter-widgets/base",
            "_view_module_version": "1.2.0",
            "_view_name": "LayoutView",
            "align_content": null,
            "align_items": null,
            "align_self": null,
            "border": null,
            "bottom": null,
            "display": null,
            "flex": null,
            "flex_flow": null,
            "grid_area": null,
            "grid_auto_columns": null,
            "grid_auto_flow": null,
            "grid_auto_rows": null,
            "grid_column": null,
            "grid_gap": null,
            "grid_row": null,
            "grid_template_areas": null,
            "grid_template_columns": null,
            "grid_template_rows": null,
            "height": null,
            "justify_content": null,
            "justify_items": null,
            "left": null,
            "margin": null,
            "max_height": null,
            "max_width": null,
            "min_height": null,
            "min_width": null,
            "object_fit": null,
            "object_position": null,
            "order": null,
            "overflow": null,
            "overflow_x": null,
            "overflow_y": null,
            "padding": null,
            "right": null,
            "top": null,
            "visibility": null,
            "width": null
          }
        },
        "4630404e7440442b9b4a07433d69b454": {
          "model_module": "@jupyter-widgets/controls",
          "model_name": "DescriptionStyleModel",
          "model_module_version": "1.5.0",
          "state": {
            "_model_module": "@jupyter-widgets/controls",
            "_model_module_version": "1.5.0",
            "_model_name": "DescriptionStyleModel",
            "_view_count": null,
            "_view_module": "@jupyter-widgets/base",
            "_view_module_version": "1.2.0",
            "_view_name": "StyleView",
            "description_width": ""
          }
        },
        "214b9c92ea1e4e56be831adb3f7c52cc": {
          "model_module": "@jupyter-widgets/base",
          "model_name": "LayoutModel",
          "model_module_version": "1.2.0",
          "state": {
            "_model_module": "@jupyter-widgets/base",
            "_model_module_version": "1.2.0",
            "_model_name": "LayoutModel",
            "_view_count": null,
            "_view_module": "@jupyter-widgets/base",
            "_view_module_version": "1.2.0",
            "_view_name": "LayoutView",
            "align_content": null,
            "align_items": null,
            "align_self": null,
            "border": null,
            "bottom": null,
            "display": null,
            "flex": null,
            "flex_flow": null,
            "grid_area": null,
            "grid_auto_columns": null,
            "grid_auto_flow": null,
            "grid_auto_rows": null,
            "grid_column": null,
            "grid_gap": null,
            "grid_row": null,
            "grid_template_areas": null,
            "grid_template_columns": null,
            "grid_template_rows": null,
            "height": null,
            "justify_content": null,
            "justify_items": null,
            "left": null,
            "margin": null,
            "max_height": null,
            "max_width": null,
            "min_height": null,
            "min_width": null,
            "object_fit": null,
            "object_position": null,
            "order": null,
            "overflow": null,
            "overflow_x": null,
            "overflow_y": null,
            "padding": null,
            "right": null,
            "top": null,
            "visibility": null,
            "width": null
          }
        },
        "f8a23ddeefd8406999708f1a44e221a0": {
          "model_module": "@jupyter-widgets/controls",
          "model_name": "ProgressStyleModel",
          "model_module_version": "1.5.0",
          "state": {
            "_model_module": "@jupyter-widgets/controls",
            "_model_module_version": "1.5.0",
            "_model_name": "ProgressStyleModel",
            "_view_count": null,
            "_view_module": "@jupyter-widgets/base",
            "_view_module_version": "1.2.0",
            "_view_name": "StyleView",
            "bar_color": null,
            "description_width": ""
          }
        },
        "45fdc0d17b864d31a478d412aa2a0499": {
          "model_module": "@jupyter-widgets/base",
          "model_name": "LayoutModel",
          "model_module_version": "1.2.0",
          "state": {
            "_model_module": "@jupyter-widgets/base",
            "_model_module_version": "1.2.0",
            "_model_name": "LayoutModel",
            "_view_count": null,
            "_view_module": "@jupyter-widgets/base",
            "_view_module_version": "1.2.0",
            "_view_name": "LayoutView",
            "align_content": null,
            "align_items": null,
            "align_self": null,
            "border": null,
            "bottom": null,
            "display": null,
            "flex": null,
            "flex_flow": null,
            "grid_area": null,
            "grid_auto_columns": null,
            "grid_auto_flow": null,
            "grid_auto_rows": null,
            "grid_column": null,
            "grid_gap": null,
            "grid_row": null,
            "grid_template_areas": null,
            "grid_template_columns": null,
            "grid_template_rows": null,
            "height": null,
            "justify_content": null,
            "justify_items": null,
            "left": null,
            "margin": null,
            "max_height": null,
            "max_width": null,
            "min_height": null,
            "min_width": null,
            "object_fit": null,
            "object_position": null,
            "order": null,
            "overflow": null,
            "overflow_x": null,
            "overflow_y": null,
            "padding": null,
            "right": null,
            "top": null,
            "visibility": null,
            "width": null
          }
        },
        "356d55251e534b3e96c7650f76522dd5": {
          "model_module": "@jupyter-widgets/controls",
          "model_name": "DescriptionStyleModel",
          "model_module_version": "1.5.0",
          "state": {
            "_model_module": "@jupyter-widgets/controls",
            "_model_module_version": "1.5.0",
            "_model_name": "DescriptionStyleModel",
            "_view_count": null,
            "_view_module": "@jupyter-widgets/base",
            "_view_module_version": "1.2.0",
            "_view_name": "StyleView",
            "description_width": ""
          }
        },
        "da68a37ead544669b358ca3a5b45298d": {
          "model_module": "@jupyter-widgets/controls",
          "model_name": "HBoxModel",
          "model_module_version": "1.5.0",
          "state": {
            "_dom_classes": [],
            "_model_module": "@jupyter-widgets/controls",
            "_model_module_version": "1.5.0",
            "_model_name": "HBoxModel",
            "_view_count": null,
            "_view_module": "@jupyter-widgets/controls",
            "_view_module_version": "1.5.0",
            "_view_name": "HBoxView",
            "box_style": "",
            "children": [
              "IPY_MODEL_3a805fd57bb4446dbce8d4ef92040d30",
              "IPY_MODEL_f0cba98ec340491cbacc20c53b9c810d",
              "IPY_MODEL_2b30f05b527448e2867111a18aabb6dc"
            ],
            "layout": "IPY_MODEL_1164f3ed522643acb4a7ded00a1282d0"
          }
        },
        "3a805fd57bb4446dbce8d4ef92040d30": {
          "model_module": "@jupyter-widgets/controls",
          "model_name": "HTMLModel",
          "model_module_version": "1.5.0",
          "state": {
            "_dom_classes": [],
            "_model_module": "@jupyter-widgets/controls",
            "_model_module_version": "1.5.0",
            "_model_name": "HTMLModel",
            "_view_count": null,
            "_view_module": "@jupyter-widgets/controls",
            "_view_module_version": "1.5.0",
            "_view_name": "HTMLView",
            "description": "",
            "description_tooltip": null,
            "layout": "IPY_MODEL_d7773c9145c84b3fa976e7fde3f5c858",
            "placeholder": "​",
            "style": "IPY_MODEL_021602c396c64667bed840b4c6ea7d27",
            "value": "vocab.txt: 100%"
          }
        },
        "f0cba98ec340491cbacc20c53b9c810d": {
          "model_module": "@jupyter-widgets/controls",
          "model_name": "FloatProgressModel",
          "model_module_version": "1.5.0",
          "state": {
            "_dom_classes": [],
            "_model_module": "@jupyter-widgets/controls",
            "_model_module_version": "1.5.0",
            "_model_name": "FloatProgressModel",
            "_view_count": null,
            "_view_module": "@jupyter-widgets/controls",
            "_view_module_version": "1.5.0",
            "_view_name": "ProgressView",
            "bar_style": "success",
            "description": "",
            "description_tooltip": null,
            "layout": "IPY_MODEL_afa82ef68b464ab4b8de7906b54f61eb",
            "max": 229513,
            "min": 0,
            "orientation": "horizontal",
            "style": "IPY_MODEL_5220e493d8f94c0892a0317f4430cf75",
            "value": 229513
          }
        },
        "2b30f05b527448e2867111a18aabb6dc": {
          "model_module": "@jupyter-widgets/controls",
          "model_name": "HTMLModel",
          "model_module_version": "1.5.0",
          "state": {
            "_dom_classes": [],
            "_model_module": "@jupyter-widgets/controls",
            "_model_module_version": "1.5.0",
            "_model_name": "HTMLModel",
            "_view_count": null,
            "_view_module": "@jupyter-widgets/controls",
            "_view_module_version": "1.5.0",
            "_view_name": "HTMLView",
            "description": "",
            "description_tooltip": null,
            "layout": "IPY_MODEL_470a7232f51f475d872fad9e3e3d835c",
            "placeholder": "​",
            "style": "IPY_MODEL_5543051040f84da8891ed27686b0d0e6",
            "value": " 230k/230k [00:00&lt;00:00, 962kB/s]"
          }
        },
        "1164f3ed522643acb4a7ded00a1282d0": {
          "model_module": "@jupyter-widgets/base",
          "model_name": "LayoutModel",
          "model_module_version": "1.2.0",
          "state": {
            "_model_module": "@jupyter-widgets/base",
            "_model_module_version": "1.2.0",
            "_model_name": "LayoutModel",
            "_view_count": null,
            "_view_module": "@jupyter-widgets/base",
            "_view_module_version": "1.2.0",
            "_view_name": "LayoutView",
            "align_content": null,
            "align_items": null,
            "align_self": null,
            "border": null,
            "bottom": null,
            "display": null,
            "flex": null,
            "flex_flow": null,
            "grid_area": null,
            "grid_auto_columns": null,
            "grid_auto_flow": null,
            "grid_auto_rows": null,
            "grid_column": null,
            "grid_gap": null,
            "grid_row": null,
            "grid_template_areas": null,
            "grid_template_columns": null,
            "grid_template_rows": null,
            "height": null,
            "justify_content": null,
            "justify_items": null,
            "left": null,
            "margin": null,
            "max_height": null,
            "max_width": null,
            "min_height": null,
            "min_width": null,
            "object_fit": null,
            "object_position": null,
            "order": null,
            "overflow": null,
            "overflow_x": null,
            "overflow_y": null,
            "padding": null,
            "right": null,
            "top": null,
            "visibility": null,
            "width": null
          }
        },
        "d7773c9145c84b3fa976e7fde3f5c858": {
          "model_module": "@jupyter-widgets/base",
          "model_name": "LayoutModel",
          "model_module_version": "1.2.0",
          "state": {
            "_model_module": "@jupyter-widgets/base",
            "_model_module_version": "1.2.0",
            "_model_name": "LayoutModel",
            "_view_count": null,
            "_view_module": "@jupyter-widgets/base",
            "_view_module_version": "1.2.0",
            "_view_name": "LayoutView",
            "align_content": null,
            "align_items": null,
            "align_self": null,
            "border": null,
            "bottom": null,
            "display": null,
            "flex": null,
            "flex_flow": null,
            "grid_area": null,
            "grid_auto_columns": null,
            "grid_auto_flow": null,
            "grid_auto_rows": null,
            "grid_column": null,
            "grid_gap": null,
            "grid_row": null,
            "grid_template_areas": null,
            "grid_template_columns": null,
            "grid_template_rows": null,
            "height": null,
            "justify_content": null,
            "justify_items": null,
            "left": null,
            "margin": null,
            "max_height": null,
            "max_width": null,
            "min_height": null,
            "min_width": null,
            "object_fit": null,
            "object_position": null,
            "order": null,
            "overflow": null,
            "overflow_x": null,
            "overflow_y": null,
            "padding": null,
            "right": null,
            "top": null,
            "visibility": null,
            "width": null
          }
        },
        "021602c396c64667bed840b4c6ea7d27": {
          "model_module": "@jupyter-widgets/controls",
          "model_name": "DescriptionStyleModel",
          "model_module_version": "1.5.0",
          "state": {
            "_model_module": "@jupyter-widgets/controls",
            "_model_module_version": "1.5.0",
            "_model_name": "DescriptionStyleModel",
            "_view_count": null,
            "_view_module": "@jupyter-widgets/base",
            "_view_module_version": "1.2.0",
            "_view_name": "StyleView",
            "description_width": ""
          }
        },
        "afa82ef68b464ab4b8de7906b54f61eb": {
          "model_module": "@jupyter-widgets/base",
          "model_name": "LayoutModel",
          "model_module_version": "1.2.0",
          "state": {
            "_model_module": "@jupyter-widgets/base",
            "_model_module_version": "1.2.0",
            "_model_name": "LayoutModel",
            "_view_count": null,
            "_view_module": "@jupyter-widgets/base",
            "_view_module_version": "1.2.0",
            "_view_name": "LayoutView",
            "align_content": null,
            "align_items": null,
            "align_self": null,
            "border": null,
            "bottom": null,
            "display": null,
            "flex": null,
            "flex_flow": null,
            "grid_area": null,
            "grid_auto_columns": null,
            "grid_auto_flow": null,
            "grid_auto_rows": null,
            "grid_column": null,
            "grid_gap": null,
            "grid_row": null,
            "grid_template_areas": null,
            "grid_template_columns": null,
            "grid_template_rows": null,
            "height": null,
            "justify_content": null,
            "justify_items": null,
            "left": null,
            "margin": null,
            "max_height": null,
            "max_width": null,
            "min_height": null,
            "min_width": null,
            "object_fit": null,
            "object_position": null,
            "order": null,
            "overflow": null,
            "overflow_x": null,
            "overflow_y": null,
            "padding": null,
            "right": null,
            "top": null,
            "visibility": null,
            "width": null
          }
        },
        "5220e493d8f94c0892a0317f4430cf75": {
          "model_module": "@jupyter-widgets/controls",
          "model_name": "ProgressStyleModel",
          "model_module_version": "1.5.0",
          "state": {
            "_model_module": "@jupyter-widgets/controls",
            "_model_module_version": "1.5.0",
            "_model_name": "ProgressStyleModel",
            "_view_count": null,
            "_view_module": "@jupyter-widgets/base",
            "_view_module_version": "1.2.0",
            "_view_name": "StyleView",
            "bar_color": null,
            "description_width": ""
          }
        },
        "470a7232f51f475d872fad9e3e3d835c": {
          "model_module": "@jupyter-widgets/base",
          "model_name": "LayoutModel",
          "model_module_version": "1.2.0",
          "state": {
            "_model_module": "@jupyter-widgets/base",
            "_model_module_version": "1.2.0",
            "_model_name": "LayoutModel",
            "_view_count": null,
            "_view_module": "@jupyter-widgets/base",
            "_view_module_version": "1.2.0",
            "_view_name": "LayoutView",
            "align_content": null,
            "align_items": null,
            "align_self": null,
            "border": null,
            "bottom": null,
            "display": null,
            "flex": null,
            "flex_flow": null,
            "grid_area": null,
            "grid_auto_columns": null,
            "grid_auto_flow": null,
            "grid_auto_rows": null,
            "grid_column": null,
            "grid_gap": null,
            "grid_row": null,
            "grid_template_areas": null,
            "grid_template_columns": null,
            "grid_template_rows": null,
            "height": null,
            "justify_content": null,
            "justify_items": null,
            "left": null,
            "margin": null,
            "max_height": null,
            "max_width": null,
            "min_height": null,
            "min_width": null,
            "object_fit": null,
            "object_position": null,
            "order": null,
            "overflow": null,
            "overflow_x": null,
            "overflow_y": null,
            "padding": null,
            "right": null,
            "top": null,
            "visibility": null,
            "width": null
          }
        },
        "5543051040f84da8891ed27686b0d0e6": {
          "model_module": "@jupyter-widgets/controls",
          "model_name": "DescriptionStyleModel",
          "model_module_version": "1.5.0",
          "state": {
            "_model_module": "@jupyter-widgets/controls",
            "_model_module_version": "1.5.0",
            "_model_name": "DescriptionStyleModel",
            "_view_count": null,
            "_view_module": "@jupyter-widgets/base",
            "_view_module_version": "1.2.0",
            "_view_name": "StyleView",
            "description_width": ""
          }
        },
        "ecd9723eee4a45e48259bec427ccdd33": {
          "model_module": "@jupyter-widgets/controls",
          "model_name": "HBoxModel",
          "model_module_version": "1.5.0",
          "state": {
            "_dom_classes": [],
            "_model_module": "@jupyter-widgets/controls",
            "_model_module_version": "1.5.0",
            "_model_name": "HBoxModel",
            "_view_count": null,
            "_view_module": "@jupyter-widgets/controls",
            "_view_module_version": "1.5.0",
            "_view_name": "HBoxView",
            "box_style": "",
            "children": [
              "IPY_MODEL_adfd00bcd71c436394e449619699897d",
              "IPY_MODEL_030af374e21c45c4b9bc2242eff78dbb",
              "IPY_MODEL_bb60a78b5fb041cb8a0a8087e6eca451"
            ],
            "layout": "IPY_MODEL_07b7616c5a244cba9b8d425b4f6c6460"
          }
        },
        "adfd00bcd71c436394e449619699897d": {
          "model_module": "@jupyter-widgets/controls",
          "model_name": "HTMLModel",
          "model_module_version": "1.5.0",
          "state": {
            "_dom_classes": [],
            "_model_module": "@jupyter-widgets/controls",
            "_model_module_version": "1.5.0",
            "_model_name": "HTMLModel",
            "_view_count": null,
            "_view_module": "@jupyter-widgets/controls",
            "_view_module_version": "1.5.0",
            "_view_name": "HTMLView",
            "description": "",
            "description_tooltip": null,
            "layout": "IPY_MODEL_47c4fd5b9fe1480193ee2d96ce026680",
            "placeholder": "​",
            "style": "IPY_MODEL_11b0706f76fa459a9f48d5e0bbb20265",
            "value": "tokenizer.json: 100%"
          }
        },
        "030af374e21c45c4b9bc2242eff78dbb": {
          "model_module": "@jupyter-widgets/controls",
          "model_name": "FloatProgressModel",
          "model_module_version": "1.5.0",
          "state": {
            "_dom_classes": [],
            "_model_module": "@jupyter-widgets/controls",
            "_model_module_version": "1.5.0",
            "_model_name": "FloatProgressModel",
            "_view_count": null,
            "_view_module": "@jupyter-widgets/controls",
            "_view_module_version": "1.5.0",
            "_view_name": "ProgressView",
            "bar_style": "success",
            "description": "",
            "description_tooltip": null,
            "layout": "IPY_MODEL_204a2e0cad304761af6e5f4746485ab0",
            "max": 733035,
            "min": 0,
            "orientation": "horizontal",
            "style": "IPY_MODEL_809760ce522742e69ad13aaf2461b1f7",
            "value": 733035
          }
        },
        "bb60a78b5fb041cb8a0a8087e6eca451": {
          "model_module": "@jupyter-widgets/controls",
          "model_name": "HTMLModel",
          "model_module_version": "1.5.0",
          "state": {
            "_dom_classes": [],
            "_model_module": "@jupyter-widgets/controls",
            "_model_module_version": "1.5.0",
            "_model_name": "HTMLModel",
            "_view_count": null,
            "_view_module": "@jupyter-widgets/controls",
            "_view_module_version": "1.5.0",
            "_view_name": "HTMLView",
            "description": "",
            "description_tooltip": null,
            "layout": "IPY_MODEL_b2ba4d90358649a4a507c2ba05069a56",
            "placeholder": "​",
            "style": "IPY_MODEL_38b7887900be4e8aa0f6129ed98ac9ef",
            "value": " 733k/733k [00:00&lt;00:00, 1.06MB/s]"
          }
        },
        "07b7616c5a244cba9b8d425b4f6c6460": {
          "model_module": "@jupyter-widgets/base",
          "model_name": "LayoutModel",
          "model_module_version": "1.2.0",
          "state": {
            "_model_module": "@jupyter-widgets/base",
            "_model_module_version": "1.2.0",
            "_model_name": "LayoutModel",
            "_view_count": null,
            "_view_module": "@jupyter-widgets/base",
            "_view_module_version": "1.2.0",
            "_view_name": "LayoutView",
            "align_content": null,
            "align_items": null,
            "align_self": null,
            "border": null,
            "bottom": null,
            "display": null,
            "flex": null,
            "flex_flow": null,
            "grid_area": null,
            "grid_auto_columns": null,
            "grid_auto_flow": null,
            "grid_auto_rows": null,
            "grid_column": null,
            "grid_gap": null,
            "grid_row": null,
            "grid_template_areas": null,
            "grid_template_columns": null,
            "grid_template_rows": null,
            "height": null,
            "justify_content": null,
            "justify_items": null,
            "left": null,
            "margin": null,
            "max_height": null,
            "max_width": null,
            "min_height": null,
            "min_width": null,
            "object_fit": null,
            "object_position": null,
            "order": null,
            "overflow": null,
            "overflow_x": null,
            "overflow_y": null,
            "padding": null,
            "right": null,
            "top": null,
            "visibility": null,
            "width": null
          }
        },
        "47c4fd5b9fe1480193ee2d96ce026680": {
          "model_module": "@jupyter-widgets/base",
          "model_name": "LayoutModel",
          "model_module_version": "1.2.0",
          "state": {
            "_model_module": "@jupyter-widgets/base",
            "_model_module_version": "1.2.0",
            "_model_name": "LayoutModel",
            "_view_count": null,
            "_view_module": "@jupyter-widgets/base",
            "_view_module_version": "1.2.0",
            "_view_name": "LayoutView",
            "align_content": null,
            "align_items": null,
            "align_self": null,
            "border": null,
            "bottom": null,
            "display": null,
            "flex": null,
            "flex_flow": null,
            "grid_area": null,
            "grid_auto_columns": null,
            "grid_auto_flow": null,
            "grid_auto_rows": null,
            "grid_column": null,
            "grid_gap": null,
            "grid_row": null,
            "grid_template_areas": null,
            "grid_template_columns": null,
            "grid_template_rows": null,
            "height": null,
            "justify_content": null,
            "justify_items": null,
            "left": null,
            "margin": null,
            "max_height": null,
            "max_width": null,
            "min_height": null,
            "min_width": null,
            "object_fit": null,
            "object_position": null,
            "order": null,
            "overflow": null,
            "overflow_x": null,
            "overflow_y": null,
            "padding": null,
            "right": null,
            "top": null,
            "visibility": null,
            "width": null
          }
        },
        "11b0706f76fa459a9f48d5e0bbb20265": {
          "model_module": "@jupyter-widgets/controls",
          "model_name": "DescriptionStyleModel",
          "model_module_version": "1.5.0",
          "state": {
            "_model_module": "@jupyter-widgets/controls",
            "_model_module_version": "1.5.0",
            "_model_name": "DescriptionStyleModel",
            "_view_count": null,
            "_view_module": "@jupyter-widgets/base",
            "_view_module_version": "1.2.0",
            "_view_name": "StyleView",
            "description_width": ""
          }
        },
        "204a2e0cad304761af6e5f4746485ab0": {
          "model_module": "@jupyter-widgets/base",
          "model_name": "LayoutModel",
          "model_module_version": "1.2.0",
          "state": {
            "_model_module": "@jupyter-widgets/base",
            "_model_module_version": "1.2.0",
            "_model_name": "LayoutModel",
            "_view_count": null,
            "_view_module": "@jupyter-widgets/base",
            "_view_module_version": "1.2.0",
            "_view_name": "LayoutView",
            "align_content": null,
            "align_items": null,
            "align_self": null,
            "border": null,
            "bottom": null,
            "display": null,
            "flex": null,
            "flex_flow": null,
            "grid_area": null,
            "grid_auto_columns": null,
            "grid_auto_flow": null,
            "grid_auto_rows": null,
            "grid_column": null,
            "grid_gap": null,
            "grid_row": null,
            "grid_template_areas": null,
            "grid_template_columns": null,
            "grid_template_rows": null,
            "height": null,
            "justify_content": null,
            "justify_items": null,
            "left": null,
            "margin": null,
            "max_height": null,
            "max_width": null,
            "min_height": null,
            "min_width": null,
            "object_fit": null,
            "object_position": null,
            "order": null,
            "overflow": null,
            "overflow_x": null,
            "overflow_y": null,
            "padding": null,
            "right": null,
            "top": null,
            "visibility": null,
            "width": null
          }
        },
        "809760ce522742e69ad13aaf2461b1f7": {
          "model_module": "@jupyter-widgets/controls",
          "model_name": "ProgressStyleModel",
          "model_module_version": "1.5.0",
          "state": {
            "_model_module": "@jupyter-widgets/controls",
            "_model_module_version": "1.5.0",
            "_model_name": "ProgressStyleModel",
            "_view_count": null,
            "_view_module": "@jupyter-widgets/base",
            "_view_module_version": "1.2.0",
            "_view_name": "StyleView",
            "bar_color": null,
            "description_width": ""
          }
        },
        "b2ba4d90358649a4a507c2ba05069a56": {
          "model_module": "@jupyter-widgets/base",
          "model_name": "LayoutModel",
          "model_module_version": "1.2.0",
          "state": {
            "_model_module": "@jupyter-widgets/base",
            "_model_module_version": "1.2.0",
            "_model_name": "LayoutModel",
            "_view_count": null,
            "_view_module": "@jupyter-widgets/base",
            "_view_module_version": "1.2.0",
            "_view_name": "LayoutView",
            "align_content": null,
            "align_items": null,
            "align_self": null,
            "border": null,
            "bottom": null,
            "display": null,
            "flex": null,
            "flex_flow": null,
            "grid_area": null,
            "grid_auto_columns": null,
            "grid_auto_flow": null,
            "grid_auto_rows": null,
            "grid_column": null,
            "grid_gap": null,
            "grid_row": null,
            "grid_template_areas": null,
            "grid_template_columns": null,
            "grid_template_rows": null,
            "height": null,
            "justify_content": null,
            "justify_items": null,
            "left": null,
            "margin": null,
            "max_height": null,
            "max_width": null,
            "min_height": null,
            "min_width": null,
            "object_fit": null,
            "object_position": null,
            "order": null,
            "overflow": null,
            "overflow_x": null,
            "overflow_y": null,
            "padding": null,
            "right": null,
            "top": null,
            "visibility": null,
            "width": null
          }
        },
        "38b7887900be4e8aa0f6129ed98ac9ef": {
          "model_module": "@jupyter-widgets/controls",
          "model_name": "DescriptionStyleModel",
          "model_module_version": "1.5.0",
          "state": {
            "_model_module": "@jupyter-widgets/controls",
            "_model_module_version": "1.5.0",
            "_model_name": "DescriptionStyleModel",
            "_view_count": null,
            "_view_module": "@jupyter-widgets/base",
            "_view_module_version": "1.2.0",
            "_view_name": "StyleView",
            "description_width": ""
          }
        },
        "9e1d6803951d4e1ab08092dd08b52f9c": {
          "model_module": "@jupyter-widgets/controls",
          "model_name": "HBoxModel",
          "model_module_version": "1.5.0",
          "state": {
            "_dom_classes": [],
            "_model_module": "@jupyter-widgets/controls",
            "_model_module_version": "1.5.0",
            "_model_name": "HBoxModel",
            "_view_count": null,
            "_view_module": "@jupyter-widgets/controls",
            "_view_module_version": "1.5.0",
            "_view_name": "HBoxView",
            "box_style": "",
            "children": [
              "IPY_MODEL_47192a57746348cb83f5d08ca3908864",
              "IPY_MODEL_ffcfc11c839647f795dc4f5c96a7f812",
              "IPY_MODEL_be7b795f57e04d07886f5f93cd68821e"
            ],
            "layout": "IPY_MODEL_a6a8eb21b0cc4efaacc459e98e4985e0"
          }
        },
        "47192a57746348cb83f5d08ca3908864": {
          "model_module": "@jupyter-widgets/controls",
          "model_name": "HTMLModel",
          "model_module_version": "1.5.0",
          "state": {
            "_dom_classes": [],
            "_model_module": "@jupyter-widgets/controls",
            "_model_module_version": "1.5.0",
            "_model_name": "HTMLModel",
            "_view_count": null,
            "_view_module": "@jupyter-widgets/controls",
            "_view_module_version": "1.5.0",
            "_view_name": "HTMLView",
            "description": "",
            "description_tooltip": null,
            "layout": "IPY_MODEL_d597f61492a0436cb5c163d65a765d8d",
            "placeholder": "​",
            "style": "IPY_MODEL_6afe644e891e46799255926fc245ec6f",
            "value": "special_tokens_map.json: 100%"
          }
        },
        "ffcfc11c839647f795dc4f5c96a7f812": {
          "model_module": "@jupyter-widgets/controls",
          "model_name": "FloatProgressModel",
          "model_module_version": "1.5.0",
          "state": {
            "_dom_classes": [],
            "_model_module": "@jupyter-widgets/controls",
            "_model_module_version": "1.5.0",
            "_model_name": "FloatProgressModel",
            "_view_count": null,
            "_view_module": "@jupyter-widgets/controls",
            "_view_module_version": "1.5.0",
            "_view_name": "ProgressView",
            "bar_style": "success",
            "description": "",
            "description_tooltip": null,
            "layout": "IPY_MODEL_f2276d977b8c4b169d2b292d086cb203",
            "max": 125,
            "min": 0,
            "orientation": "horizontal",
            "style": "IPY_MODEL_9e23f9b4e42e437f958334faaee0dc0a",
            "value": 125
          }
        },
        "be7b795f57e04d07886f5f93cd68821e": {
          "model_module": "@jupyter-widgets/controls",
          "model_name": "HTMLModel",
          "model_module_version": "1.5.0",
          "state": {
            "_dom_classes": [],
            "_model_module": "@jupyter-widgets/controls",
            "_model_module_version": "1.5.0",
            "_model_name": "HTMLModel",
            "_view_count": null,
            "_view_module": "@jupyter-widgets/controls",
            "_view_module_version": "1.5.0",
            "_view_name": "HTMLView",
            "description": "",
            "description_tooltip": null,
            "layout": "IPY_MODEL_a6375ceeb0234d2183c49f280fd7f368",
            "placeholder": "​",
            "style": "IPY_MODEL_e5668b88b52e4ba7930f93ae39b5a23e",
            "value": " 125/125 [00:00&lt;00:00, 3.26kB/s]"
          }
        },
        "a6a8eb21b0cc4efaacc459e98e4985e0": {
          "model_module": "@jupyter-widgets/base",
          "model_name": "LayoutModel",
          "model_module_version": "1.2.0",
          "state": {
            "_model_module": "@jupyter-widgets/base",
            "_model_module_version": "1.2.0",
            "_model_name": "LayoutModel",
            "_view_count": null,
            "_view_module": "@jupyter-widgets/base",
            "_view_module_version": "1.2.0",
            "_view_name": "LayoutView",
            "align_content": null,
            "align_items": null,
            "align_self": null,
            "border": null,
            "bottom": null,
            "display": null,
            "flex": null,
            "flex_flow": null,
            "grid_area": null,
            "grid_auto_columns": null,
            "grid_auto_flow": null,
            "grid_auto_rows": null,
            "grid_column": null,
            "grid_gap": null,
            "grid_row": null,
            "grid_template_areas": null,
            "grid_template_columns": null,
            "grid_template_rows": null,
            "height": null,
            "justify_content": null,
            "justify_items": null,
            "left": null,
            "margin": null,
            "max_height": null,
            "max_width": null,
            "min_height": null,
            "min_width": null,
            "object_fit": null,
            "object_position": null,
            "order": null,
            "overflow": null,
            "overflow_x": null,
            "overflow_y": null,
            "padding": null,
            "right": null,
            "top": null,
            "visibility": null,
            "width": null
          }
        },
        "d597f61492a0436cb5c163d65a765d8d": {
          "model_module": "@jupyter-widgets/base",
          "model_name": "LayoutModel",
          "model_module_version": "1.2.0",
          "state": {
            "_model_module": "@jupyter-widgets/base",
            "_model_module_version": "1.2.0",
            "_model_name": "LayoutModel",
            "_view_count": null,
            "_view_module": "@jupyter-widgets/base",
            "_view_module_version": "1.2.0",
            "_view_name": "LayoutView",
            "align_content": null,
            "align_items": null,
            "align_self": null,
            "border": null,
            "bottom": null,
            "display": null,
            "flex": null,
            "flex_flow": null,
            "grid_area": null,
            "grid_auto_columns": null,
            "grid_auto_flow": null,
            "grid_auto_rows": null,
            "grid_column": null,
            "grid_gap": null,
            "grid_row": null,
            "grid_template_areas": null,
            "grid_template_columns": null,
            "grid_template_rows": null,
            "height": null,
            "justify_content": null,
            "justify_items": null,
            "left": null,
            "margin": null,
            "max_height": null,
            "max_width": null,
            "min_height": null,
            "min_width": null,
            "object_fit": null,
            "object_position": null,
            "order": null,
            "overflow": null,
            "overflow_x": null,
            "overflow_y": null,
            "padding": null,
            "right": null,
            "top": null,
            "visibility": null,
            "width": null
          }
        },
        "6afe644e891e46799255926fc245ec6f": {
          "model_module": "@jupyter-widgets/controls",
          "model_name": "DescriptionStyleModel",
          "model_module_version": "1.5.0",
          "state": {
            "_model_module": "@jupyter-widgets/controls",
            "_model_module_version": "1.5.0",
            "_model_name": "DescriptionStyleModel",
            "_view_count": null,
            "_view_module": "@jupyter-widgets/base",
            "_view_module_version": "1.2.0",
            "_view_name": "StyleView",
            "description_width": ""
          }
        },
        "f2276d977b8c4b169d2b292d086cb203": {
          "model_module": "@jupyter-widgets/base",
          "model_name": "LayoutModel",
          "model_module_version": "1.2.0",
          "state": {
            "_model_module": "@jupyter-widgets/base",
            "_model_module_version": "1.2.0",
            "_model_name": "LayoutModel",
            "_view_count": null,
            "_view_module": "@jupyter-widgets/base",
            "_view_module_version": "1.2.0",
            "_view_name": "LayoutView",
            "align_content": null,
            "align_items": null,
            "align_self": null,
            "border": null,
            "bottom": null,
            "display": null,
            "flex": null,
            "flex_flow": null,
            "grid_area": null,
            "grid_auto_columns": null,
            "grid_auto_flow": null,
            "grid_auto_rows": null,
            "grid_column": null,
            "grid_gap": null,
            "grid_row": null,
            "grid_template_areas": null,
            "grid_template_columns": null,
            "grid_template_rows": null,
            "height": null,
            "justify_content": null,
            "justify_items": null,
            "left": null,
            "margin": null,
            "max_height": null,
            "max_width": null,
            "min_height": null,
            "min_width": null,
            "object_fit": null,
            "object_position": null,
            "order": null,
            "overflow": null,
            "overflow_x": null,
            "overflow_y": null,
            "padding": null,
            "right": null,
            "top": null,
            "visibility": null,
            "width": null
          }
        },
        "9e23f9b4e42e437f958334faaee0dc0a": {
          "model_module": "@jupyter-widgets/controls",
          "model_name": "ProgressStyleModel",
          "model_module_version": "1.5.0",
          "state": {
            "_model_module": "@jupyter-widgets/controls",
            "_model_module_version": "1.5.0",
            "_model_name": "ProgressStyleModel",
            "_view_count": null,
            "_view_module": "@jupyter-widgets/base",
            "_view_module_version": "1.2.0",
            "_view_name": "StyleView",
            "bar_color": null,
            "description_width": ""
          }
        },
        "a6375ceeb0234d2183c49f280fd7f368": {
          "model_module": "@jupyter-widgets/base",
          "model_name": "LayoutModel",
          "model_module_version": "1.2.0",
          "state": {
            "_model_module": "@jupyter-widgets/base",
            "_model_module_version": "1.2.0",
            "_model_name": "LayoutModel",
            "_view_count": null,
            "_view_module": "@jupyter-widgets/base",
            "_view_module_version": "1.2.0",
            "_view_name": "LayoutView",
            "align_content": null,
            "align_items": null,
            "align_self": null,
            "border": null,
            "bottom": null,
            "display": null,
            "flex": null,
            "flex_flow": null,
            "grid_area": null,
            "grid_auto_columns": null,
            "grid_auto_flow": null,
            "grid_auto_rows": null,
            "grid_column": null,
            "grid_gap": null,
            "grid_row": null,
            "grid_template_areas": null,
            "grid_template_columns": null,
            "grid_template_rows": null,
            "height": null,
            "justify_content": null,
            "justify_items": null,
            "left": null,
            "margin": null,
            "max_height": null,
            "max_width": null,
            "min_height": null,
            "min_width": null,
            "object_fit": null,
            "object_position": null,
            "order": null,
            "overflow": null,
            "overflow_x": null,
            "overflow_y": null,
            "padding": null,
            "right": null,
            "top": null,
            "visibility": null,
            "width": null
          }
        },
        "e5668b88b52e4ba7930f93ae39b5a23e": {
          "model_module": "@jupyter-widgets/controls",
          "model_name": "DescriptionStyleModel",
          "model_module_version": "1.5.0",
          "state": {
            "_model_module": "@jupyter-widgets/controls",
            "_model_module_version": "1.5.0",
            "_model_name": "DescriptionStyleModel",
            "_view_count": null,
            "_view_module": "@jupyter-widgets/base",
            "_view_module_version": "1.2.0",
            "_view_name": "StyleView",
            "description_width": ""
          }
        },
        "5cd12354cc8d4c0ea7896835384c5622": {
          "model_module": "@jupyter-widgets/controls",
          "model_name": "HBoxModel",
          "model_module_version": "1.5.0",
          "state": {
            "_dom_classes": [],
            "_model_module": "@jupyter-widgets/controls",
            "_model_module_version": "1.5.0",
            "_model_name": "HBoxModel",
            "_view_count": null,
            "_view_module": "@jupyter-widgets/controls",
            "_view_module_version": "1.5.0",
            "_view_name": "HBoxView",
            "box_style": "",
            "children": [
              "IPY_MODEL_8b683253ab40469ba09ee8ced51a2cd0",
              "IPY_MODEL_592b3d64ca1d4b119f63c93252f46a55",
              "IPY_MODEL_46c1e395170845e0921ba09e733b4270"
            ],
            "layout": "IPY_MODEL_cccf2cad863f4c439e3aa20af1afe539"
          }
        },
        "8b683253ab40469ba09ee8ced51a2cd0": {
          "model_module": "@jupyter-widgets/controls",
          "model_name": "HTMLModel",
          "model_module_version": "1.5.0",
          "state": {
            "_dom_classes": [],
            "_model_module": "@jupyter-widgets/controls",
            "_model_module_version": "1.5.0",
            "_model_name": "HTMLModel",
            "_view_count": null,
            "_view_module": "@jupyter-widgets/controls",
            "_view_module_version": "1.5.0",
            "_view_name": "HTMLView",
            "description": "",
            "description_tooltip": null,
            "layout": "IPY_MODEL_b0b07ceb97cb474dac65b3cbd5faa9ff",
            "placeholder": "​",
            "style": "IPY_MODEL_0aa3d21d8ef348fea03ab4d2dc851b45",
            "value": "config.json: 100%"
          }
        },
        "592b3d64ca1d4b119f63c93252f46a55": {
          "model_module": "@jupyter-widgets/controls",
          "model_name": "FloatProgressModel",
          "model_module_version": "1.5.0",
          "state": {
            "_dom_classes": [],
            "_model_module": "@jupyter-widgets/controls",
            "_model_module_version": "1.5.0",
            "_model_name": "FloatProgressModel",
            "_view_count": null,
            "_view_module": "@jupyter-widgets/controls",
            "_view_module_version": "1.5.0",
            "_view_name": "ProgressView",
            "bar_style": "success",
            "description": "",
            "description_tooltip": null,
            "layout": "IPY_MODEL_07828bdf35b7412cac47b3f2b13ba98d",
            "max": 2104,
            "min": 0,
            "orientation": "horizontal",
            "style": "IPY_MODEL_95738d7a17d440bc92c747821b6c7d2a",
            "value": 2104
          }
        },
        "46c1e395170845e0921ba09e733b4270": {
          "model_module": "@jupyter-widgets/controls",
          "model_name": "HTMLModel",
          "model_module_version": "1.5.0",
          "state": {
            "_dom_classes": [],
            "_model_module": "@jupyter-widgets/controls",
            "_model_module_version": "1.5.0",
            "_model_name": "HTMLModel",
            "_view_count": null,
            "_view_module": "@jupyter-widgets/controls",
            "_view_module_version": "1.5.0",
            "_view_name": "HTMLView",
            "description": "",
            "description_tooltip": null,
            "layout": "IPY_MODEL_8531c350666b448b937faf89ed781359",
            "placeholder": "​",
            "style": "IPY_MODEL_c27516fc2f9248a88b76a600ae71a3be",
            "value": " 2.10k/2.10k [00:00&lt;00:00, 59.4kB/s]"
          }
        },
        "cccf2cad863f4c439e3aa20af1afe539": {
          "model_module": "@jupyter-widgets/base",
          "model_name": "LayoutModel",
          "model_module_version": "1.2.0",
          "state": {
            "_model_module": "@jupyter-widgets/base",
            "_model_module_version": "1.2.0",
            "_model_name": "LayoutModel",
            "_view_count": null,
            "_view_module": "@jupyter-widgets/base",
            "_view_module_version": "1.2.0",
            "_view_name": "LayoutView",
            "align_content": null,
            "align_items": null,
            "align_self": null,
            "border": null,
            "bottom": null,
            "display": null,
            "flex": null,
            "flex_flow": null,
            "grid_area": null,
            "grid_auto_columns": null,
            "grid_auto_flow": null,
            "grid_auto_rows": null,
            "grid_column": null,
            "grid_gap": null,
            "grid_row": null,
            "grid_template_areas": null,
            "grid_template_columns": null,
            "grid_template_rows": null,
            "height": null,
            "justify_content": null,
            "justify_items": null,
            "left": null,
            "margin": null,
            "max_height": null,
            "max_width": null,
            "min_height": null,
            "min_width": null,
            "object_fit": null,
            "object_position": null,
            "order": null,
            "overflow": null,
            "overflow_x": null,
            "overflow_y": null,
            "padding": null,
            "right": null,
            "top": null,
            "visibility": null,
            "width": null
          }
        },
        "b0b07ceb97cb474dac65b3cbd5faa9ff": {
          "model_module": "@jupyter-widgets/base",
          "model_name": "LayoutModel",
          "model_module_version": "1.2.0",
          "state": {
            "_model_module": "@jupyter-widgets/base",
            "_model_module_version": "1.2.0",
            "_model_name": "LayoutModel",
            "_view_count": null,
            "_view_module": "@jupyter-widgets/base",
            "_view_module_version": "1.2.0",
            "_view_name": "LayoutView",
            "align_content": null,
            "align_items": null,
            "align_self": null,
            "border": null,
            "bottom": null,
            "display": null,
            "flex": null,
            "flex_flow": null,
            "grid_area": null,
            "grid_auto_columns": null,
            "grid_auto_flow": null,
            "grid_auto_rows": null,
            "grid_column": null,
            "grid_gap": null,
            "grid_row": null,
            "grid_template_areas": null,
            "grid_template_columns": null,
            "grid_template_rows": null,
            "height": null,
            "justify_content": null,
            "justify_items": null,
            "left": null,
            "margin": null,
            "max_height": null,
            "max_width": null,
            "min_height": null,
            "min_width": null,
            "object_fit": null,
            "object_position": null,
            "order": null,
            "overflow": null,
            "overflow_x": null,
            "overflow_y": null,
            "padding": null,
            "right": null,
            "top": null,
            "visibility": null,
            "width": null
          }
        },
        "0aa3d21d8ef348fea03ab4d2dc851b45": {
          "model_module": "@jupyter-widgets/controls",
          "model_name": "DescriptionStyleModel",
          "model_module_version": "1.5.0",
          "state": {
            "_model_module": "@jupyter-widgets/controls",
            "_model_module_version": "1.5.0",
            "_model_name": "DescriptionStyleModel",
            "_view_count": null,
            "_view_module": "@jupyter-widgets/base",
            "_view_module_version": "1.2.0",
            "_view_name": "StyleView",
            "description_width": ""
          }
        },
        "07828bdf35b7412cac47b3f2b13ba98d": {
          "model_module": "@jupyter-widgets/base",
          "model_name": "LayoutModel",
          "model_module_version": "1.2.0",
          "state": {
            "_model_module": "@jupyter-widgets/base",
            "_model_module_version": "1.2.0",
            "_model_name": "LayoutModel",
            "_view_count": null,
            "_view_module": "@jupyter-widgets/base",
            "_view_module_version": "1.2.0",
            "_view_name": "LayoutView",
            "align_content": null,
            "align_items": null,
            "align_self": null,
            "border": null,
            "bottom": null,
            "display": null,
            "flex": null,
            "flex_flow": null,
            "grid_area": null,
            "grid_auto_columns": null,
            "grid_auto_flow": null,
            "grid_auto_rows": null,
            "grid_column": null,
            "grid_gap": null,
            "grid_row": null,
            "grid_template_areas": null,
            "grid_template_columns": null,
            "grid_template_rows": null,
            "height": null,
            "justify_content": null,
            "justify_items": null,
            "left": null,
            "margin": null,
            "max_height": null,
            "max_width": null,
            "min_height": null,
            "min_width": null,
            "object_fit": null,
            "object_position": null,
            "order": null,
            "overflow": null,
            "overflow_x": null,
            "overflow_y": null,
            "padding": null,
            "right": null,
            "top": null,
            "visibility": null,
            "width": null
          }
        },
        "95738d7a17d440bc92c747821b6c7d2a": {
          "model_module": "@jupyter-widgets/controls",
          "model_name": "ProgressStyleModel",
          "model_module_version": "1.5.0",
          "state": {
            "_model_module": "@jupyter-widgets/controls",
            "_model_module_version": "1.5.0",
            "_model_name": "ProgressStyleModel",
            "_view_count": null,
            "_view_module": "@jupyter-widgets/base",
            "_view_module_version": "1.2.0",
            "_view_name": "StyleView",
            "bar_color": null,
            "description_width": ""
          }
        },
        "8531c350666b448b937faf89ed781359": {
          "model_module": "@jupyter-widgets/base",
          "model_name": "LayoutModel",
          "model_module_version": "1.2.0",
          "state": {
            "_model_module": "@jupyter-widgets/base",
            "_model_module_version": "1.2.0",
            "_model_name": "LayoutModel",
            "_view_count": null,
            "_view_module": "@jupyter-widgets/base",
            "_view_module_version": "1.2.0",
            "_view_name": "LayoutView",
            "align_content": null,
            "align_items": null,
            "align_self": null,
            "border": null,
            "bottom": null,
            "display": null,
            "flex": null,
            "flex_flow": null,
            "grid_area": null,
            "grid_auto_columns": null,
            "grid_auto_flow": null,
            "grid_auto_rows": null,
            "grid_column": null,
            "grid_gap": null,
            "grid_row": null,
            "grid_template_areas": null,
            "grid_template_columns": null,
            "grid_template_rows": null,
            "height": null,
            "justify_content": null,
            "justify_items": null,
            "left": null,
            "margin": null,
            "max_height": null,
            "max_width": null,
            "min_height": null,
            "min_width": null,
            "object_fit": null,
            "object_position": null,
            "order": null,
            "overflow": null,
            "overflow_x": null,
            "overflow_y": null,
            "padding": null,
            "right": null,
            "top": null,
            "visibility": null,
            "width": null
          }
        },
        "c27516fc2f9248a88b76a600ae71a3be": {
          "model_module": "@jupyter-widgets/controls",
          "model_name": "DescriptionStyleModel",
          "model_module_version": "1.5.0",
          "state": {
            "_model_module": "@jupyter-widgets/controls",
            "_model_module_version": "1.5.0",
            "_model_name": "DescriptionStyleModel",
            "_view_count": null,
            "_view_module": "@jupyter-widgets/base",
            "_view_module_version": "1.2.0",
            "_view_name": "StyleView",
            "description_width": ""
          }
        },
        "3d59fa2574f64f609ee20d6e9e9fe6a2": {
          "model_module": "@jupyter-widgets/controls",
          "model_name": "HBoxModel",
          "model_module_version": "1.5.0",
          "state": {
            "_dom_classes": [],
            "_model_module": "@jupyter-widgets/controls",
            "_model_module_version": "1.5.0",
            "_model_name": "HBoxModel",
            "_view_count": null,
            "_view_module": "@jupyter-widgets/controls",
            "_view_module_version": "1.5.0",
            "_view_name": "HBoxView",
            "box_style": "",
            "children": [
              "IPY_MODEL_0f0c75dcc1a24338be49d79aa72bcb7c",
              "IPY_MODEL_d7c4f1bc20e74bafb4d5987ccf941dbd",
              "IPY_MODEL_4697b902145149b0b204ec99a9256488"
            ],
            "layout": "IPY_MODEL_e1411593aebb44679b870f40f809f7e7"
          }
        },
        "0f0c75dcc1a24338be49d79aa72bcb7c": {
          "model_module": "@jupyter-widgets/controls",
          "model_name": "HTMLModel",
          "model_module_version": "1.5.0",
          "state": {
            "_dom_classes": [],
            "_model_module": "@jupyter-widgets/controls",
            "_model_module_version": "1.5.0",
            "_model_name": "HTMLModel",
            "_view_count": null,
            "_view_module": "@jupyter-widgets/controls",
            "_view_module_version": "1.5.0",
            "_view_name": "HTMLView",
            "description": "",
            "description_tooltip": null,
            "layout": "IPY_MODEL_0c29574f6a954d2dba23c20a29dffa07",
            "placeholder": "​",
            "style": "IPY_MODEL_42b2b757481144ec9e7fe2ed14e9005e",
            "value": "model.safetensors: 100%"
          }
        },
        "d7c4f1bc20e74bafb4d5987ccf941dbd": {
          "model_module": "@jupyter-widgets/controls",
          "model_name": "FloatProgressModel",
          "model_module_version": "1.5.0",
          "state": {
            "_dom_classes": [],
            "_model_module": "@jupyter-widgets/controls",
            "_model_module_version": "1.5.0",
            "_model_name": "FloatProgressModel",
            "_view_count": null,
            "_view_module": "@jupyter-widgets/controls",
            "_view_module_version": "1.5.0",
            "_view_name": "ProgressView",
            "bar_style": "success",
            "description": "",
            "description_tooltip": null,
            "layout": "IPY_MODEL_494de4bbd3ab4a858a433230c6bc6153",
            "max": 440250324,
            "min": 0,
            "orientation": "horizontal",
            "style": "IPY_MODEL_04c6f3d47d434bb2a04bf3c9c2de62de",
            "value": 440250324
          }
        },
        "4697b902145149b0b204ec99a9256488": {
          "model_module": "@jupyter-widgets/controls",
          "model_name": "HTMLModel",
          "model_module_version": "1.5.0",
          "state": {
            "_dom_classes": [],
            "_model_module": "@jupyter-widgets/controls",
            "_model_module_version": "1.5.0",
            "_model_name": "HTMLModel",
            "_view_count": null,
            "_view_module": "@jupyter-widgets/controls",
            "_view_module_version": "1.5.0",
            "_view_name": "HTMLView",
            "description": "",
            "description_tooltip": null,
            "layout": "IPY_MODEL_9d98ff02faf04ed7b965d258a474c925",
            "placeholder": "​",
            "style": "IPY_MODEL_cd4ae87cb52845c9b6214c690a6886f1",
            "value": " 440M/440M [00:19&lt;00:00, 23.6MB/s]"
          }
        },
        "e1411593aebb44679b870f40f809f7e7": {
          "model_module": "@jupyter-widgets/base",
          "model_name": "LayoutModel",
          "model_module_version": "1.2.0",
          "state": {
            "_model_module": "@jupyter-widgets/base",
            "_model_module_version": "1.2.0",
            "_model_name": "LayoutModel",
            "_view_count": null,
            "_view_module": "@jupyter-widgets/base",
            "_view_module_version": "1.2.0",
            "_view_name": "LayoutView",
            "align_content": null,
            "align_items": null,
            "align_self": null,
            "border": null,
            "bottom": null,
            "display": null,
            "flex": null,
            "flex_flow": null,
            "grid_area": null,
            "grid_auto_columns": null,
            "grid_auto_flow": null,
            "grid_auto_rows": null,
            "grid_column": null,
            "grid_gap": null,
            "grid_row": null,
            "grid_template_areas": null,
            "grid_template_columns": null,
            "grid_template_rows": null,
            "height": null,
            "justify_content": null,
            "justify_items": null,
            "left": null,
            "margin": null,
            "max_height": null,
            "max_width": null,
            "min_height": null,
            "min_width": null,
            "object_fit": null,
            "object_position": null,
            "order": null,
            "overflow": null,
            "overflow_x": null,
            "overflow_y": null,
            "padding": null,
            "right": null,
            "top": null,
            "visibility": null,
            "width": null
          }
        },
        "0c29574f6a954d2dba23c20a29dffa07": {
          "model_module": "@jupyter-widgets/base",
          "model_name": "LayoutModel",
          "model_module_version": "1.2.0",
          "state": {
            "_model_module": "@jupyter-widgets/base",
            "_model_module_version": "1.2.0",
            "_model_name": "LayoutModel",
            "_view_count": null,
            "_view_module": "@jupyter-widgets/base",
            "_view_module_version": "1.2.0",
            "_view_name": "LayoutView",
            "align_content": null,
            "align_items": null,
            "align_self": null,
            "border": null,
            "bottom": null,
            "display": null,
            "flex": null,
            "flex_flow": null,
            "grid_area": null,
            "grid_auto_columns": null,
            "grid_auto_flow": null,
            "grid_auto_rows": null,
            "grid_column": null,
            "grid_gap": null,
            "grid_row": null,
            "grid_template_areas": null,
            "grid_template_columns": null,
            "grid_template_rows": null,
            "height": null,
            "justify_content": null,
            "justify_items": null,
            "left": null,
            "margin": null,
            "max_height": null,
            "max_width": null,
            "min_height": null,
            "min_width": null,
            "object_fit": null,
            "object_position": null,
            "order": null,
            "overflow": null,
            "overflow_x": null,
            "overflow_y": null,
            "padding": null,
            "right": null,
            "top": null,
            "visibility": null,
            "width": null
          }
        },
        "42b2b757481144ec9e7fe2ed14e9005e": {
          "model_module": "@jupyter-widgets/controls",
          "model_name": "DescriptionStyleModel",
          "model_module_version": "1.5.0",
          "state": {
            "_model_module": "@jupyter-widgets/controls",
            "_model_module_version": "1.5.0",
            "_model_name": "DescriptionStyleModel",
            "_view_count": null,
            "_view_module": "@jupyter-widgets/base",
            "_view_module_version": "1.2.0",
            "_view_name": "StyleView",
            "description_width": ""
          }
        },
        "494de4bbd3ab4a858a433230c6bc6153": {
          "model_module": "@jupyter-widgets/base",
          "model_name": "LayoutModel",
          "model_module_version": "1.2.0",
          "state": {
            "_model_module": "@jupyter-widgets/base",
            "_model_module_version": "1.2.0",
            "_model_name": "LayoutModel",
            "_view_count": null,
            "_view_module": "@jupyter-widgets/base",
            "_view_module_version": "1.2.0",
            "_view_name": "LayoutView",
            "align_content": null,
            "align_items": null,
            "align_self": null,
            "border": null,
            "bottom": null,
            "display": null,
            "flex": null,
            "flex_flow": null,
            "grid_area": null,
            "grid_auto_columns": null,
            "grid_auto_flow": null,
            "grid_auto_rows": null,
            "grid_column": null,
            "grid_gap": null,
            "grid_row": null,
            "grid_template_areas": null,
            "grid_template_columns": null,
            "grid_template_rows": null,
            "height": null,
            "justify_content": null,
            "justify_items": null,
            "left": null,
            "margin": null,
            "max_height": null,
            "max_width": null,
            "min_height": null,
            "min_width": null,
            "object_fit": null,
            "object_position": null,
            "order": null,
            "overflow": null,
            "overflow_x": null,
            "overflow_y": null,
            "padding": null,
            "right": null,
            "top": null,
            "visibility": null,
            "width": null
          }
        },
        "04c6f3d47d434bb2a04bf3c9c2de62de": {
          "model_module": "@jupyter-widgets/controls",
          "model_name": "ProgressStyleModel",
          "model_module_version": "1.5.0",
          "state": {
            "_model_module": "@jupyter-widgets/controls",
            "_model_module_version": "1.5.0",
            "_model_name": "ProgressStyleModel",
            "_view_count": null,
            "_view_module": "@jupyter-widgets/base",
            "_view_module_version": "1.2.0",
            "_view_name": "StyleView",
            "bar_color": null,
            "description_width": ""
          }
        },
        "9d98ff02faf04ed7b965d258a474c925": {
          "model_module": "@jupyter-widgets/base",
          "model_name": "LayoutModel",
          "model_module_version": "1.2.0",
          "state": {
            "_model_module": "@jupyter-widgets/base",
            "_model_module_version": "1.2.0",
            "_model_name": "LayoutModel",
            "_view_count": null,
            "_view_module": "@jupyter-widgets/base",
            "_view_module_version": "1.2.0",
            "_view_name": "LayoutView",
            "align_content": null,
            "align_items": null,
            "align_self": null,
            "border": null,
            "bottom": null,
            "display": null,
            "flex": null,
            "flex_flow": null,
            "grid_area": null,
            "grid_auto_columns": null,
            "grid_auto_flow": null,
            "grid_auto_rows": null,
            "grid_column": null,
            "grid_gap": null,
            "grid_row": null,
            "grid_template_areas": null,
            "grid_template_columns": null,
            "grid_template_rows": null,
            "height": null,
            "justify_content": null,
            "justify_items": null,
            "left": null,
            "margin": null,
            "max_height": null,
            "max_width": null,
            "min_height": null,
            "min_width": null,
            "object_fit": null,
            "object_position": null,
            "order": null,
            "overflow": null,
            "overflow_x": null,
            "overflow_y": null,
            "padding": null,
            "right": null,
            "top": null,
            "visibility": null,
            "width": null
          }
        },
        "cd4ae87cb52845c9b6214c690a6886f1": {
          "model_module": "@jupyter-widgets/controls",
          "model_name": "DescriptionStyleModel",
          "model_module_version": "1.5.0",
          "state": {
            "_model_module": "@jupyter-widgets/controls",
            "_model_module_version": "1.5.0",
            "_model_name": "DescriptionStyleModel",
            "_view_count": null,
            "_view_module": "@jupyter-widgets/base",
            "_view_module_version": "1.2.0",
            "_view_name": "StyleView",
            "description_width": ""
          }
        }
      }
    }
  },
  "cells": [
    {
      "cell_type": "markdown",
      "source": [
        "cahya/bert-base-indonesian-NER"
      ],
      "metadata": {
        "id": "oA0cd6kjzuq5"
      }
    },
    {
      "cell_type": "code",
      "source": [
        "!pip install datasets evaluate transformers[sentencepiece]\n",
        "!pip install accelerate"
      ],
      "metadata": {
        "colab": {
          "base_uri": "https://localhost:8080/"
        },
        "id": "-fuCumpFM0tp",
        "outputId": "376835ba-fe42-488f-e307-db3039760134"
      },
      "execution_count": null,
      "outputs": [
        {
          "output_type": "stream",
          "name": "stdout",
          "text": [
            "Requirement already satisfied: datasets in /usr/local/lib/python3.10/dist-packages (2.19.1)\n",
            "Requirement already satisfied: evaluate in /usr/local/lib/python3.10/dist-packages (0.4.2)\n",
            "Requirement already satisfied: transformers[sentencepiece] in /usr/local/lib/python3.10/dist-packages (4.41.1)\n",
            "Requirement already satisfied: filelock in /usr/local/lib/python3.10/dist-packages (from datasets) (3.14.0)\n",
            "Requirement already satisfied: numpy>=1.17 in /usr/local/lib/python3.10/dist-packages (from datasets) (1.25.2)\n",
            "Requirement already satisfied: pyarrow>=12.0.0 in /usr/local/lib/python3.10/dist-packages (from datasets) (14.0.2)\n",
            "Requirement already satisfied: pyarrow-hotfix in /usr/local/lib/python3.10/dist-packages (from datasets) (0.6)\n",
            "Requirement already satisfied: dill<0.3.9,>=0.3.0 in /usr/local/lib/python3.10/dist-packages (from datasets) (0.3.8)\n",
            "Requirement already satisfied: pandas in /usr/local/lib/python3.10/dist-packages (from datasets) (2.0.3)\n",
            "Requirement already satisfied: requests>=2.19.0 in /usr/local/lib/python3.10/dist-packages (from datasets) (2.31.0)\n",
            "Requirement already satisfied: tqdm>=4.62.1 in /usr/local/lib/python3.10/dist-packages (from datasets) (4.66.4)\n",
            "Requirement already satisfied: xxhash in /usr/local/lib/python3.10/dist-packages (from datasets) (3.4.1)\n",
            "Requirement already satisfied: multiprocess in /usr/local/lib/python3.10/dist-packages (from datasets) (0.70.16)\n",
            "Requirement already satisfied: fsspec[http]<=2024.3.1,>=2023.1.0 in /usr/local/lib/python3.10/dist-packages (from datasets) (2023.6.0)\n",
            "Requirement already satisfied: aiohttp in /usr/local/lib/python3.10/dist-packages (from datasets) (3.9.5)\n",
            "Requirement already satisfied: huggingface-hub>=0.21.2 in /usr/local/lib/python3.10/dist-packages (from datasets) (0.23.1)\n",
            "Requirement already satisfied: packaging in /usr/local/lib/python3.10/dist-packages (from datasets) (24.0)\n",
            "Requirement already satisfied: pyyaml>=5.1 in /usr/local/lib/python3.10/dist-packages (from datasets) (6.0.1)\n",
            "Requirement already satisfied: regex!=2019.12.17 in /usr/local/lib/python3.10/dist-packages (from transformers[sentencepiece]) (2024.5.15)\n",
            "Requirement already satisfied: tokenizers<0.20,>=0.19 in /usr/local/lib/python3.10/dist-packages (from transformers[sentencepiece]) (0.19.1)\n",
            "Requirement already satisfied: safetensors>=0.4.1 in /usr/local/lib/python3.10/dist-packages (from transformers[sentencepiece]) (0.4.3)\n",
            "Requirement already satisfied: sentencepiece!=0.1.92,>=0.1.91 in /usr/local/lib/python3.10/dist-packages (from transformers[sentencepiece]) (0.1.99)\n",
            "Requirement already satisfied: protobuf in /usr/local/lib/python3.10/dist-packages (from transformers[sentencepiece]) (3.20.3)\n",
            "Requirement already satisfied: aiosignal>=1.1.2 in /usr/local/lib/python3.10/dist-packages (from aiohttp->datasets) (1.3.1)\n",
            "Requirement already satisfied: attrs>=17.3.0 in /usr/local/lib/python3.10/dist-packages (from aiohttp->datasets) (23.2.0)\n",
            "Requirement already satisfied: frozenlist>=1.1.1 in /usr/local/lib/python3.10/dist-packages (from aiohttp->datasets) (1.4.1)\n",
            "Requirement already satisfied: multidict<7.0,>=4.5 in /usr/local/lib/python3.10/dist-packages (from aiohttp->datasets) (6.0.5)\n",
            "Requirement already satisfied: yarl<2.0,>=1.0 in /usr/local/lib/python3.10/dist-packages (from aiohttp->datasets) (1.9.4)\n",
            "Requirement already satisfied: async-timeout<5.0,>=4.0 in /usr/local/lib/python3.10/dist-packages (from aiohttp->datasets) (4.0.3)\n",
            "Requirement already satisfied: typing-extensions>=3.7.4.3 in /usr/local/lib/python3.10/dist-packages (from huggingface-hub>=0.21.2->datasets) (4.11.0)\n",
            "Requirement already satisfied: charset-normalizer<4,>=2 in /usr/local/lib/python3.10/dist-packages (from requests>=2.19.0->datasets) (3.3.2)\n",
            "Requirement already satisfied: idna<4,>=2.5 in /usr/local/lib/python3.10/dist-packages (from requests>=2.19.0->datasets) (3.7)\n",
            "Requirement already satisfied: urllib3<3,>=1.21.1 in /usr/local/lib/python3.10/dist-packages (from requests>=2.19.0->datasets) (2.0.7)\n",
            "Requirement already satisfied: certifi>=2017.4.17 in /usr/local/lib/python3.10/dist-packages (from requests>=2.19.0->datasets) (2024.2.2)\n",
            "Requirement already satisfied: python-dateutil>=2.8.2 in /usr/local/lib/python3.10/dist-packages (from pandas->datasets) (2.8.2)\n",
            "Requirement already satisfied: pytz>=2020.1 in /usr/local/lib/python3.10/dist-packages (from pandas->datasets) (2023.4)\n",
            "Requirement already satisfied: tzdata>=2022.1 in /usr/local/lib/python3.10/dist-packages (from pandas->datasets) (2024.1)\n",
            "Requirement already satisfied: six>=1.5 in /usr/local/lib/python3.10/dist-packages (from python-dateutil>=2.8.2->pandas->datasets) (1.16.0)\n",
            "Requirement already satisfied: accelerate in /usr/local/lib/python3.10/dist-packages (0.30.1)\n",
            "Requirement already satisfied: numpy>=1.17 in /usr/local/lib/python3.10/dist-packages (from accelerate) (1.25.2)\n",
            "Requirement already satisfied: packaging>=20.0 in /usr/local/lib/python3.10/dist-packages (from accelerate) (24.0)\n",
            "Requirement already satisfied: psutil in /usr/local/lib/python3.10/dist-packages (from accelerate) (5.9.5)\n",
            "Requirement already satisfied: pyyaml in /usr/local/lib/python3.10/dist-packages (from accelerate) (6.0.1)\n",
            "Requirement already satisfied: torch>=1.10.0 in /usr/local/lib/python3.10/dist-packages (from accelerate) (2.3.0+cu121)\n",
            "Requirement already satisfied: huggingface-hub in /usr/local/lib/python3.10/dist-packages (from accelerate) (0.23.1)\n",
            "Requirement already satisfied: safetensors>=0.3.1 in /usr/local/lib/python3.10/dist-packages (from accelerate) (0.4.3)\n",
            "Requirement already satisfied: filelock in /usr/local/lib/python3.10/dist-packages (from torch>=1.10.0->accelerate) (3.14.0)\n",
            "Requirement already satisfied: typing-extensions>=4.8.0 in /usr/local/lib/python3.10/dist-packages (from torch>=1.10.0->accelerate) (4.11.0)\n",
            "Requirement already satisfied: sympy in /usr/local/lib/python3.10/dist-packages (from torch>=1.10.0->accelerate) (1.12)\n",
            "Requirement already satisfied: networkx in /usr/local/lib/python3.10/dist-packages (from torch>=1.10.0->accelerate) (3.3)\n",
            "Requirement already satisfied: jinja2 in /usr/local/lib/python3.10/dist-packages (from torch>=1.10.0->accelerate) (3.1.4)\n",
            "Requirement already satisfied: fsspec in /usr/local/lib/python3.10/dist-packages (from torch>=1.10.0->accelerate) (2023.6.0)\n",
            "Requirement already satisfied: nvidia-cuda-nvrtc-cu12==12.1.105 in /usr/local/lib/python3.10/dist-packages (from torch>=1.10.0->accelerate) (12.1.105)\n",
            "Requirement already satisfied: nvidia-cuda-runtime-cu12==12.1.105 in /usr/local/lib/python3.10/dist-packages (from torch>=1.10.0->accelerate) (12.1.105)\n",
            "Requirement already satisfied: nvidia-cuda-cupti-cu12==12.1.105 in /usr/local/lib/python3.10/dist-packages (from torch>=1.10.0->accelerate) (12.1.105)\n",
            "Requirement already satisfied: nvidia-cudnn-cu12==8.9.2.26 in /usr/local/lib/python3.10/dist-packages (from torch>=1.10.0->accelerate) (8.9.2.26)\n",
            "Requirement already satisfied: nvidia-cublas-cu12==12.1.3.1 in /usr/local/lib/python3.10/dist-packages (from torch>=1.10.0->accelerate) (12.1.3.1)\n",
            "Requirement already satisfied: nvidia-cufft-cu12==11.0.2.54 in /usr/local/lib/python3.10/dist-packages (from torch>=1.10.0->accelerate) (11.0.2.54)\n",
            "Requirement already satisfied: nvidia-curand-cu12==10.3.2.106 in /usr/local/lib/python3.10/dist-packages (from torch>=1.10.0->accelerate) (10.3.2.106)\n",
            "Requirement already satisfied: nvidia-cusolver-cu12==11.4.5.107 in /usr/local/lib/python3.10/dist-packages (from torch>=1.10.0->accelerate) (11.4.5.107)\n",
            "Requirement already satisfied: nvidia-cusparse-cu12==12.1.0.106 in /usr/local/lib/python3.10/dist-packages (from torch>=1.10.0->accelerate) (12.1.0.106)\n",
            "Requirement already satisfied: nvidia-nccl-cu12==2.20.5 in /usr/local/lib/python3.10/dist-packages (from torch>=1.10.0->accelerate) (2.20.5)\n",
            "Requirement already satisfied: nvidia-nvtx-cu12==12.1.105 in /usr/local/lib/python3.10/dist-packages (from torch>=1.10.0->accelerate) (12.1.105)\n",
            "Requirement already satisfied: triton==2.3.0 in /usr/local/lib/python3.10/dist-packages (from torch>=1.10.0->accelerate) (2.3.0)\n",
            "Requirement already satisfied: nvidia-nvjitlink-cu12 in /usr/local/lib/python3.10/dist-packages (from nvidia-cusolver-cu12==11.4.5.107->torch>=1.10.0->accelerate) (12.5.40)\n",
            "Requirement already satisfied: requests in /usr/local/lib/python3.10/dist-packages (from huggingface-hub->accelerate) (2.31.0)\n",
            "Requirement already satisfied: tqdm>=4.42.1 in /usr/local/lib/python3.10/dist-packages (from huggingface-hub->accelerate) (4.66.4)\n",
            "Requirement already satisfied: MarkupSafe>=2.0 in /usr/local/lib/python3.10/dist-packages (from jinja2->torch>=1.10.0->accelerate) (2.1.5)\n",
            "Requirement already satisfied: charset-normalizer<4,>=2 in /usr/local/lib/python3.10/dist-packages (from requests->huggingface-hub->accelerate) (3.3.2)\n",
            "Requirement already satisfied: idna<4,>=2.5 in /usr/local/lib/python3.10/dist-packages (from requests->huggingface-hub->accelerate) (3.7)\n",
            "Requirement already satisfied: urllib3<3,>=1.21.1 in /usr/local/lib/python3.10/dist-packages (from requests->huggingface-hub->accelerate) (2.0.7)\n",
            "Requirement already satisfied: certifi>=2017.4.17 in /usr/local/lib/python3.10/dist-packages (from requests->huggingface-hub->accelerate) (2024.2.2)\n",
            "Requirement already satisfied: mpmath>=0.19 in /usr/local/lib/python3.10/dist-packages (from sympy->torch>=1.10.0->accelerate) (1.3.0)\n"
          ]
        }
      ]
    },
    {
      "cell_type": "code",
      "execution_count": null,
      "metadata": {
        "colab": {
          "base_uri": "https://localhost:8080/"
        },
        "id": "FiUUmZlpaa7j",
        "outputId": "a6eb0439-4f33-4b36-fc14-bc96f3f3237d"
      },
      "outputs": [
        {
          "output_type": "stream",
          "name": "stdout",
          "text": [
            "File CSV berhasil dibuat: ner_train_dataset.csv\n"
          ]
        }
      ],
      "source": [
        "import csv\n",
        "\n",
        "data = [\n",
        "    {\"id\": \"0\", \"tokens\": [\"negara\", \"harus\", \"mengalokasikan\", \"sumber\", \"daya\", \"yang\", \"cukup\", \"di\", \"bidang\", \"kebudayaan\"], \"ner_tags\": [38, 38, 38, 38, 38, 38, 38, 38, 38, 38]},\n",
        "    {\"id\": \"1\", \"tokens\": [\"bukan\", \"dipandang\", \"sebagai\", \"biaya\", \"tapi\", \"dipandang\", \"sebagai\", \"investasi\"], \"ner_tags\": [38, 38, 38, 38, 38, 38, 38, 38]},\n",
        "    {\"id\": \"2\", \"tokens\": [\"Kita\", \"berencana\", \"di\", \"dalam\", \"diplomasi\", \"ini\", \"melibatkan\", \"semua\", \"diaspora\", \"mahasiswa\"], \"ner_tags\": [38, 38, 38, 38, 38, 38, 38, 38, 38, 38]},\n",
        "    {\"id\": \"3\", \"tokens\": [\"kita\", \"perlu\", \"melakukan\", \"penataan\", \"gelar\", \"pasukan\", \"karena\", \"IKN\", \"menjadi\", \"pusat\", \"gravitasi\", \"baru\"], \"ner_tags\": [38, 38, 38, 38, 38, 38, 38, 4, 38, 38, 38, 38]},\n",
        "    {\"id\": \"4\", \"tokens\": [\"ini\", \"bagian\", \"dari\", \"antisipasi\", \"terhadap\", \"tarung\", \"Global\", \"antara\", \"Amerika\", \"Serikat\", \"dan\", \"Tiongkok\"], \"ner_tags\": [38, 38, 38, 38, 38, 38, 38, 38, 4, 38, 38, 4]},\n",
        "    {\"id\": \"5\", \"tokens\": [\"lpdp\", \"itu\", \"punya\", \"yang\", \"sangat\", \"tinggi\", \"untuk\", \"memberangkatkan\", \"anak-anak\", \"hebat\", \"ke\", \"sana\"], \"ner_tags\": [11, 38, 38, 38, 38, 38, 38, 38, 38, 38, 38, 38]},\n",
        "    {\"id\": \"6\", \"tokens\": [\"Namun\", \"demikian\", \"ketika\", \"mereka\", \"sudah\", \"balik\", \"mereka\", \"mesti\", \"diberikan\", \"ruang\", \"untuk\", \"bisa\", \"bekerja\"], \"ner_tags\": [38, 38, 38, 38, 38, 38, 38, 38, 38, 38, 38, 38, 38]},\n",
        "    {\"id\": \"7\", \"tokens\": [\"BRIN\", \"bisa\", \"kita\", \"libatkan\", \"dan\", \"mereka\", \"bisa\", \"membuat\", \"kolaborasi\", \"yang\", \"sangat\", \"bagus\"], \"ner_tags\": [11, 38, 38, 38, 38, 38, 38, 38, 38, 38, 38, 38]},\n",
        "    {\"id\": \"8\", \"tokens\": [\"Menurut\", \"Pak\", \"Jokowi\", \"punya\", \"lebih\", \"dari\", \"340\", \"hektar\", \"tanah\", \"di\", \"Republik\", \"ini\"], \"ner_tags\": [38, 38, 12, 38, 38, 38, 0, 38, 38, 38, 4, 38]},\n",
        "    {\"id\": \"9\", \"tokens\": [\"dan\", \"ini\", \"harus\", \"diubah\", \"ditambah\", \"lagi\", \"food\", \"Estate\", \"singkong\", \"yang\", \"menguntungkan\", \"kroni\", \"merusak\", \"lingkungan\", \"dan\", \"tidak\", \"menghasilkan\", \"ini\", \"harus\", \"diubah\"], \"ner_tags\": [38, 38, 38, 38, 38, 38, 38, 13, 38, 38, 38, 38, 38, 38, 38, 38, 38, 38, 38, 38]},\n",
        "    {\"id\": \"10\", \"tokens\": [\"Indonesia\", \"harus\", \"kembali\", \"menjadi\", \"pemimpin\", \"ASEAN\", \"yang\", \"dominan\"], \"ner_tags\": [4, 38, 38, 38, 38, 4, 38, 38]},\n",
        "    {\"id\": \"11\", \"tokens\": [\"separatisme\", \"ini\", \"kita\", \"sudah\", \"ikuti\", \"cukup\", \"lama\", \"kita\", \"melihat\", \"ada\", \"campur\", \"tangan\", \"asing\", \"di\", \"situ\"], \"ner_tags\": [38, 38, 38, 38, 38, 38, 38, 38, 38, 38, 38, 38, 38, 38, 38]},\n",
        "    {\"id\": \"12\", \"tokens\": [\"ada\", \"yang\", \"menganggap\", \"ini\", \"terorisme\", \"separatisme\", \"dan\", \"kriminal\"], \"ner_tags\": [38, 38, 38, 38, 38, 38, 38, 38]},\n",
        "    {\"id\": \"13\", \"tokens\": [\"Polisi\", \"menangkap\", \"pelaku\", \"korupsi\", \"di\", \"kementerian\", \"Hukum\", \"dan\", \"HAM\"], \"ner_tags\": [31, 38, 38, 38, 38, 11, 6, 38, 11]},\n",
        "    {\"id\": \"14\", \"tokens\": [\"Tahun\", \"2024\", \"akan\", \"menjadi\", \"tahun\", \"perubahan\", \"besar\", \"bagi\", \"Indonesia\"], \"ner_tags\": [17, 0, 38, 38, 38, 38, 38, 38, 4]},\n",
        "    {\"id\": \"15\", \"tokens\": [\"Partai\", \"politik\", \"berkomitmen\", \"untuk\", \"mendukung\", \"penguatan\", \"demokrasi\"], \"ner_tags\": [11, 38, 38, 38, 38, 38, 38]},\n",
        "    {\"id\": \"16\", \"tokens\": [\"Militer\", \"Indonesia\", \"berperan\", \"penting\", \"dalam\", \"pertahanan\", \"nasional\"], \"ner_tags\": [38, 4, 38, 38, 38, 38, 38]},\n",
        "    {\"id\": \"17\", \"tokens\": [\"Globalisasi\", \"membawa\", \"tantangan\", \"baru\", \"bagi\", \"perekonomian\", \"Indonesia\"], \"ner_tags\": [38, 38, 38, 38, 38, 38, 4]},\n",
        "    {\"id\": \"18\", \"tokens\": [\"Geopolitik\", \"Asia\", \"Tenggara\", \"memanas\", \"karena\", \"persaingan\", \"antara\", \"Tiongkok\", \"dan\", \"Amerika\", \"Serikat\"], \"ner_tags\": [38, 4, 23, 38, 38, 38, 38, 4, 38, 4, 4]},\n",
        "    {\"id\": \"19\", \"tokens\": [\"Pemerintah\", \"akan\", \"memperkuat\", \"kebijakan\", \"luar\", \"negeri\", \"Indonesia\"], \"ner_tags\": [11, 38, 38, 38, 38, 38, 4]},\n",
        "    {\"id\": \"20\", \"tokens\": [\"Korupsi\", \"merupakan\", \"masalah\", \"serius\", \"yang\", \"harus\", \"diberantas\", \"di\", \"Indonesia\"], \"ner_tags\": [38, 38, 38, 38, 38, 38, 38, 38, 4]},\n",
        "    {\"id\": \"21\", \"tokens\": [\"Hak\", \"asasi\", \"manusia\", \"harus\", \"dijaga\", \"dengan\", \"ketat\", \"oleh\", \"pemerintah\"], \"ner_tags\": [6, 6, 6, 38, 38, 38, 38, 38, 11]},\n",
        "    {\"id\": \"22\", \"tokens\": [\"Kerjasama\", \"internasional\", \"membuka\", \"peluang\", \"baru\", \"bagi\", \"perekonomian\"], \"ner_tags\": [38, 38, 38, 38, 38, 38, 38]},\n",
        "    {\"id\": \"23\", \"tokens\": [\"Indonesia\", \"berperan\", \"aktif\", \"dalam\", \"diplomasi\", \"global\"], \"ner_tags\": [4, 38, 38, 38, 38, 38]},\n",
        "    {\"id\": \"24\", \"tokens\": [\"Pemilu\", \"2024\", \"menjadi\", \"sorotan\", \"dunia\", \"internasional\"], \"ner_tags\": [2, 0, 38, 38, 38, 38]},\n",
        "    {\"id\": \"25\", \"tokens\": [\"Negara\", \"harus\", \"mendukung\", \"penegakan\", \"hukum\", \"yang\", \"adil\"], \"ner_tags\": [38, 38, 38, 38, 6, 38, 38]},\n",
        "    {\"id\": \"26\", \"tokens\": [\"Penguatan\", \"demokrasi\", \"merupakan\", \"prioritas\", \"pemerintah\", \"saat\", \"ini\"], \"ner_tags\": [38, 38, 38, 38, 11, 38, 38]},\n",
        "    {\"id\": \"27\", \"tokens\": [\"Kebijakan\", \"ekonomi\", \"harus\", \"mengacu\", \"pada\", \"prinsip\", \"keadilan\"], \"ner_tags\": [38, 38, 38, 38, 38, 38, 38]},\n",
        "    {\"id\": \"28\", \"tokens\": [\"Pertahanan\", \"dan\", \"keamanan\", \"negara\", \"menjadi\", \"prioritas\", \"utama\"], \"ner_tags\": [38, 38, 38, 38, 38, 38, 38]},\n",
        "    {\"id\": \"29\", \"tokens\": [\"Diplomasi\", \"internasional\", \"mendapat\", \"dukungan\", \"penuh\", \"dari\", \"pemerintah\"], \"ner_tags\": [38, 38, 38, 38, 38, 38, 11]},\n",
        "    {\"id\": \"30\", \"tokens\": [\"Indonesia\", \"berupaya\", \"menguatkan\", \"posisi\", \"di\", \"kancah\", \"global\"], \"ner_tags\": [4, 38, 38, 38, 38, 38, 38]},\n",
        "    {\"id\": \"31\", \"tokens\": [\"Penghormatan\", \"terhadap\", \"HAM\", \"adalah\", \"kewajiban\", \"semua\", \"pihak\"], \"ner_tags\": [38, 38, 6, 38, 38, 38, 38]},\n",
        "    {\"id\": \"32\", \"tokens\": [\"Transparansi\", \"dalam\", \"pemerintahan\", \"adalah\", \"langkah\", \"kunci\", \"mencegah\", \"korupsi\"], \"ner_tags\": [38, 38, 11, 38, 38, 38, 38, 38]},\n",
        "    {\"id\": \"33\", \"tokens\": [\"Pemerintah\", \"berkomitmen\", \"memajukan\", \"pendidikan\", \"nasional\"], \"ner_tags\": [11, 38, 38, 38, 38]},\n",
        "    {\"id\": \"34\", \"tokens\": [\"Kerjasama\", \"regional\", \"diperlukan\", \"untuk\", \"menjaga\", \"stabilitas\", \"kawasan\"], \"ner_tags\": [38, 38, 38, 38, 38, 38, 38]},\n",
        "    {\"id\": \"35\", \"tokens\": [\"Geopolitik\", \"berpengaruh\", \"terhadap\", \"hubungan\", \"antar\", \"negara\"], \"ner_tags\": [38, 38, 38, 38, 38, 38]},\n",
        "    {\"id\": \"36\", \"tokens\": [\"Pemberantasan\", \"korupsi\", \"menjadi\", \"agenda\", \"utama\", \"pemerintah\"], \"ner_tags\": [38, 38, 38, 38, 38, 11]},\n",
        "    {\"id\": \"37\", \"tokens\": [\"Pertumbuhan\", \"ekonomi\", \"harus\", \"inklusif\", \"dan\", \"berkelanjutan\"], \"ner_tags\": [38, 38, 38, 38, 38, 38]},\n",
        "    {\"id\": \"38\", \"tokens\": [\"Demokrasi\", \"memerlukan\", \"partisipasi\", \"aktif\", \"dari\", \"seluruh\", \"elemen\", \"masyarakat\"], \"ner_tags\": [38, 38, 38, 38, 38, 38, 38, 38]},\n",
        "    {\"id\": \"39\", \"tokens\": [\"Pembangunan\", \"infrastruktur\", \"menjadi\", \"prioritas\", \"pemerintah\"], \"ner_tags\": [38, 38, 38, 38, 11]},\n",
        "    {\"id\": \"40\", \"tokens\": [\"Penegakan\", \"hukum\", \"adalah\", \"fondasi\", \"negara\", \"yang\", \"kuat\"], \"ner_tags\": [38, 6, 38, 38, 38, 38, 38]},\n",
        "    {\"id\": \"41\", \"tokens\": [\"Keamanan\", \"nasional\", \"adalah\", \"tanggung\", \"jawab\", \"bersama\"], \"ner_tags\": [38, 38, 38, 38, 38, 38]},\n",
        "    {\"id\": \"42\", \"tokens\": [\"Hukum\", \"harus\", \"berjalan\", \"adil\", \"tanpa\", \"diskriminasi\"], \"ner_tags\": [6, 38, 38, 38, 38, 38]},\n",
        "    {\"id\": \"43\", \"tokens\": [\"Indonesia\", \"bertekad\", \"menjadi\", \"negara\", \"maju\", \"dalam\", \"waktu\", \"dekat\"], \"ner_tags\": [4, 38, 38, 38, 38, 38, 38, 38]},\n",
        "    {\"id\": \"44\", \"tokens\": [\"Kebijakan\", \"luar\", \"negeri\", \"akan\", \"difokuskan\", \"pada\", \"diplomasi\", \"ekonomi\"], \"ner_tags\": [38, 38, 38, 38, 38, 38, 38, 38]},\n",
        "    {\"id\": \"45\", \"tokens\": [\"Perlindungan\", \"hak\", \"asasi\", \"manusia\", \"adalah\", \"kewajiban\", \"negara\"], \"ner_tags\": [38, 6, 6, 6, 38, 38, 38]},\n",
        "    {\"id\": \"46\", \"tokens\": [\"Pemimpin\", \"harus\", \"memberikan\", \"teladan\", \"yang\", \"baik\", \"bagi\", \"masyarakat\"], \"ner_tags\": [38, 38, 38, 38, 38, 38, 38, 38]},\n",
        "    {\"id\": \"47\", \"tokens\": [\"Politik\", \"luar\", \"negeri\", \"harus\", \"berdasarkan\", \"kepentingan\", \"nasional\"], \"ner_tags\": [38, 38, 38, 38, 38, 38, 38]},\n",
        "    {\"id\": \"48\", \"tokens\": [\"Penegakan\", \"hukum\", \"adalah\", \"prioritas\", \"utama\", \"dalam\", \"pemerintahan\"], \"ner_tags\": [38, 6, 38, 38, 38, 38, 11]},\n",
        "    {\"id\": \"49\", \"tokens\": [\"Penguatan\", \"demokrasi\", \"harus\", \"dimulai\", \"dari\", \"pendidikan\", \"politik\"], \"ner_tags\": [38, 38, 38, 38, 38, 38, 38]},\n",
        "    {\"id\": \"50\", \"tokens\": [\"Pemerintah\", \"berkomitmen\", \"untuk\", \"membangun\", \"infrastruktur\", \"yang\", \"berkelanjutan\"], \"ner_tags\": [11, 38, 38, 38, 38, 38, 38]},\n",
        "    {\"id\": \"51\", \"tokens\": [\"Peran\", \"masyarakat\", \"sangat\", \"penting\", \"dalam\", \"mengawal\", \"demokrasi\"], \"ner_tags\": [38, 38, 38, 38, 38, 38, 38]},\n",
        "    {\"id\": \"52\", \"tokens\": [\"Kebijakan\", \"ekonomi\", \"harus\", \"mengutamakan\", \"keadilan\", \"sosial\"], \"ner_tags\": [38, 38, 38, 38, 38, 38]},\n",
        "    {\"id\": \"53\", \"tokens\": [\"Geopolitik\", \"global\", \"memerlukan\", \"kerjasama\", \"internasional\"], \"ner_tags\": [38, 38, 38, 38, 38]},\n",
        "    {\"id\": \"54\", \"tokens\": [\"Pemerintah\", \"akan\", \"meningkatkan\", \"upaya\", \"pemberantasan\", \"korupsi\"], \"ner_tags\": [11, 38, 38, 38, 38, 38]},\n",
        "    {\"id\": \"55\", \"tokens\": [\"Indonesia\", \"berperan\", \"aktif\", \"dalam\", \"konflik\", \"internasional\"], \"ner_tags\": [4, 38, 38, 38, 38, 38]},\n",
        "    {\"id\": \"56\", \"tokens\": [\"Pemilu\", \"merupakan\", \"instrumen\", \"penting\", \"dalam\", \"penguatan\", \"demokrasi\"], \"ner_tags\": [2, 38, 38, 38, 38, 38, 38]},\n",
        "    {\"id\": \"57\", \"tokens\": [\"Negara\", \"harus\", \"melindungi\", \"hak\", \"asasi\", \"manusia\", \"tanpa\", \"diskriminasi\"], \"ner_tags\": [38, 38, 38, 6, 6, 6, 38, 38]},\n",
        "    {\"id\": \"58\", \"tokens\": [\"Pemerintah\", \"bertekad\", \"mengatasi\", \"masalah\", \"HAM\", \"dan\", \"ketidakadilan\"], \"ner_tags\": [11, 38, 38, 38, 6, 38, 38]},\n",
        "    {\"id\": \"59\", \"tokens\": [\"Pembangunan\", \"berkelanjutan\", \"adalah\", \"kunci\", \"masa\", \"depan\", \"Indonesia\"], \"ner_tags\": [38, 38, 38, 38, 38, 38, 4]}\n",
        "]\n",
        "\n",
        "csv_filename = \"ner_train_dataset.csv\"\n",
        "\n",
        "# write data to csv\n",
        "with open(csv_filename, mode='w', newline='') as file:\n",
        "    writer = csv.writer(file)\n",
        "    # CSV header\n",
        "    writer.writerow([\"id\", \"tokens\", \"ner_tags\"])\n",
        "\n",
        "    # entry every data\n",
        "    for entry in data:\n",
        "        writer.writerow([entry[\"id\"], \" \".join(entry[\"tokens\"]), \" \".join(map(str, entry[\"ner_tags\"]))])\n",
        "\n",
        "print(f\"File CSV berhasil dibuat: {csv_filename}\")\n"
      ]
    },
    {
      "cell_type": "code",
      "source": [
        "import csv\n",
        "\n",
        "# Data untuk dataset NER yang diperbarui\n",
        "data = [\n",
        "    {\"id\": \"0\", \"tokens\": [\"Penegakan\", \"hukum\", \"harus\", \"dilakukan\", \"tanpa\", \"pandang\", \"bulu.\"], \"ner_tags\": [38, 6, 38, 38, 38, 38, 38]},\n",
        "    {\"id\": \"1\", \"tokens\": [\"Pemerintah\", \"perlu\", \"memperkuat\", \"Komnas\", \"HAM\", \"untuk\", \"mengawasi\", \"pelanggaran\", \"hak\", \"asasi\", \"manusia.\"], \"ner_tags\": [11, 38, 38, 11, 6, 38, 38, 38, 38, 38, 38]},\n",
        "    {\"id\": \"2\", \"tokens\": [\"Dalam\", \"pemerintahan\", \"yang\", \"baik,\", \"transparansi\", \"dan\", \"akuntabilitas\", \"adalah\", \"kunci\", \"utama.\"], \"ner_tags\": [38, 38, 38, 38, 38, 38, 38, 38, 38, 38]},\n",
        "    {\"id\": \"3\", \"tokens\": [\"Pemberantasan\", \"korupsi\", \"harus\", \"menjadi\", \"prioritas\", \"utama\", \"bagi\", \"pemerintah.\"], \"ner_tags\": [38, 6, 38, 38, 38, 38, 38, 11]},\n",
        "    {\"id\": \"4\", \"tokens\": [\"Penguatan\", \"demokrasi\", \"membutuhkan\", \"partisipasi\", \"aktif\", \"dari\", \"semua\", \"elemen\", \"masyarakat.\"], \"ner_tags\": [38, 2, 38, 38, 38, 38, 38, 38, 38]},\n",
        "    {\"id\": \"5\", \"tokens\": [\"Kasus\", \"pelanggaran\", \"HAM\", \"harus\", \"diselesaikan\", \"melalui\", \"mekanisme\", \"hukum\", \"yang\", \"adil.\"], \"ner_tags\": [38, 38, 6, 38, 38, 38, 38, 6, 38, 38]},\n",
        "    {\"id\": \"6\", \"tokens\": [\"Presiden\", \"terpilih\", \"harus\", \"berkomitmen\", \"untuk\", \"meningkatkan\", \"kualitas\", \"pemerintahan.\"], \"ner_tags\": [12, 38, 38, 38, 38, 38, 38, 38]},\n",
        "    {\"id\": \"7\", \"tokens\": [\"KPK\", \"perlu\", \"mendapatkan\", \"dukungan\", \"penuh\", \"untuk\", \"menjalankan\", \"tugasnya.\"], \"ner_tags\": [11, 38, 38, 38, 38, 38, 38, 38]},\n",
        "    {\"id\": \"8\", \"tokens\": [\"Reformasi\", \"hukum\", \"diperlukan\", \"untuk\", \"memastikan\", \"keadilan\", \"bagi\", \"semua\", \"warga\", \"negara.\"], \"ner_tags\": [38, 6, 38, 38, 38, 38, 38, 38, 38, 38]},\n",
        "    {\"id\": \"9\", \"tokens\": [\"Pengawasan\", \"terhadap\", \"penggunaan\", \"anggaran\", \"negara\", \"harus\", \"ditingkatkan\", \"untuk\", \"mencegah\", \"korupsi.\"], \"ner_tags\": [38, 38, 38, 38, 38, 38, 38, 38, 38, 6]},\n",
        "    {\"id\": \"10\", \"tokens\": [\"Demokrasi\", \"yang\", \"kuat\", \"membutuhkan\", \"media\", \"yang\", \"bebas\", \"dan\", \"independen.\"], \"ner_tags\": [38, 38, 38, 38, 38, 38, 38, 38, 38]},\n",
        "    {\"id\": \"11\", \"tokens\": [\"Pemerintah\", \"harus\", \"memastikan\", \"tidak\", \"ada\", \"diskriminasi\", \"dalam\", \"penegakan\", \"hukum.\"], \"ner_tags\": [11, 38, 38, 38, 38, 38, 38, 38, 6]},\n",
        "    {\"id\": \"12\", \"tokens\": [\"Pemberantasan\", \"korupsi\", \"harus\", \"melibatkan\", \"seluruh\", \"lapisan\", \"masyarakat.\"], \"ner_tags\": [38, 6, 38, 38, 38, 38, 38]},\n",
        "    {\"id\": \"13\", \"tokens\": [\"Penegakan\", \"hukum\", \"harus\", \"didukung\", \"oleh\", \"teknologi\", \"yang\", \"canggih.\"], \"ner_tags\": [38, 6, 38, 38, 38, 38, 38, 38]},\n",
        "    {\"id\": \"14\", \"tokens\": [\"HAM\", \"adalah\", \"hak\", \"dasar\", \"yang\", \"harus\", \"dijamin\", \"oleh\", \"pemerintah.\"], \"ner_tags\": [6, 38, 38, 38, 38, 38, 38, 38, 11]},\n",
        "    {\"id\": \"15\", \"tokens\": [\"Partai\", \"politik\", \"harus\", \"transparan\", \"dalam\", \"pengelolaan\", \"dana\", \"kampanye.\"], \"ner_tags\": [11, 38, 38, 38, 38, 38, 38, 38]},\n",
        "    {\"id\": \"16\", \"tokens\": [\"Pemilu\", \"yang\", \"bersih\", \"dan\", \"jujur\", \"adalah\", \"fondasi\", \"demokrasi\", \"yang\", \"sehat.\"], \"ner_tags\": [21, 38, 38, 38, 38, 38, 38, 2, 38, 38]},\n",
        "    {\"id\": \"17\", \"tokens\": [\"Peran\", \"serta\", \"masyarakat\", \"dalam\", \"pengawasan\", \"pemerintahan\", \"harus\", \"ditingkatkan.\"], \"ner_tags\": [38, 38, 38, 38, 38, 38, 38, 38]},\n",
        "    {\"id\": \"18\", \"tokens\": [\"Pelanggaran\", \"HAM\", \"di\", \"masa\", \"lalu\", \"harus\", \"diselesaikan\", \"agar\", \"tidak\", \"terulang\", \"kembali.\"], \"ner_tags\": [38, 6, 38, 38, 38, 38, 38, 38, 38, 38, 38]},\n",
        "    {\"id\": \"19\", \"tokens\": [\"Keterbukaan\", \"informasi\", \"adalah\", \"kunci\", \"dalam\", \"pemberantasan\", \"korupsi.\"], \"ner_tags\": [38, 38, 38, 38, 38, 38, 6]},\n",
        "    {\"id\": \"20\", \"tokens\": [\"Pemerintah\", \"harus\", \"memastikan\", \"proses\", \"pemilu\", \"berjalan\", \"dengan\", \"adil.\"], \"ner_tags\": [11, 38, 38, 38, 21, 38, 38, 38]},\n",
        "    {\"id\": \"21\", \"tokens\": [\"Korupsi\", \"adalah\", \"musuh\", \"utama\", \"dalam\", \"pembangunan\", \"bangsa.\"], \"ner_tags\": [6, 38, 38, 38, 38, 38, 38]},\n",
        "    {\"id\": \"22\", \"tokens\": [\"Demokrasi\", \"membutuhkan\", \"sistem\", \"peradilan\", \"yang\", \"independen\", \"dan\", \"tidak\", \"memihak.\"], \"ner_tags\": [38, 38, 38, 38, 38, 38, 38, 38, 38]},\n",
        "    {\"id\": \"23\", \"tokens\": [\"Penguatan\", \"demokrasi\", \"dapat\", \"dimulai\", \"dari\", \"tingkat\", \"lokal.\"], \"ner_tags\": [38, 2, 38, 38, 38, 38, 38]},\n",
        "    {\"id\": \"24\", \"tokens\": [\"Hak\", \"asasi\", \"manusia\", \"harus\", \"menjadi\", \"prioritas\", \"dalam\", \"kebijakan\", \"pemerintah.\"], \"ner_tags\": [38, 38, 6, 38, 38, 38, 38, 38, 11]},\n",
        "    {\"id\": \"25\", \"tokens\": [\"Penindakan\", \"kasus\", \"korupsi\", \"harus\", \"dilakukan\", \"dengan\", \"tegas\", \"dan\", \"transparan.\"], \"ner_tags\": [38, 38, 6, 38, 38, 38, 38, 38, 38]},\n",
        "    {\"id\": \"26\", \"tokens\": [\"Reformasi\", \"birokrasi\", \"diperlukan\", \"untuk\", \"meningkatkan\", \"efisiensi\", \"pemerintahan.\"], \"ner_tags\": [38, 38, 38, 38, 38, 38, 38]},\n",
        "    {\"id\": \"27\", \"tokens\": [\"Kejaksaan\", \"harus\", \"berperan\", \"aktif\", \"dalam\", \"penegakan\", \"hukum.\"], \"ner_tags\": [11, 38, 38, 38, 38, 38, 6]},\n",
        "    {\"id\": \"28\", \"tokens\": [\"Media\", \"massa\", \"memiliki\", \"peran\", \"penting\", \"dalam\", \"mengawasi\", \"jalannya\", \"pemerintahan.\"], \"ner_tags\": [38, 38, 38, 38, 38, 38, 38, 38, 38]},\n",
        "    {\"id\": \"29\", \"tokens\": [\"Pendidikan\", \"anti-korupsi\", \"harus\", \"diajarkan\", \"sejak\", \"dini.\"], \"ner_tags\": [38, 6, 38, 38, 38, 38]}\n",
        "]\n",
        "\n",
        "\n",
        "csv_filename = \"ner_test_dataset.csv\"\n",
        "\n",
        "\n",
        "with open(csv_filename, mode='w', newline='') as file:\n",
        "    writer = csv.writer(file)\n",
        "\n",
        "    writer.writerow([\"id\", \"tokens\", \"ner_tags\"])\n",
        "\n",
        "    for entry in data:\n",
        "        writer.writerow([entry[\"id\"], \" \".join(entry[\"tokens\"]), \" \".join(map(str, entry[\"ner_tags\"]))])\n",
        "\n",
        "print(f\"File CSV berhasil dibuat: {csv_filename}\")\n"
      ],
      "metadata": {
        "colab": {
          "base_uri": "https://localhost:8080/"
        },
        "id": "Tfi5LE-VbX4J",
        "outputId": "f41b02c2-1b45-413f-b60d-e695538419c3"
      },
      "execution_count": null,
      "outputs": [
        {
          "output_type": "stream",
          "name": "stdout",
          "text": [
            "File CSV berhasil dibuat: ner_test_dataset.csv\n"
          ]
        }
      ]
    },
    {
      "cell_type": "code",
      "source": [
        "!pip install datasets"
      ],
      "metadata": {
        "colab": {
          "base_uri": "https://localhost:8080/"
        },
        "id": "elwWUtCF0BJE",
        "outputId": "11192cf1-9549-446f-c643-3ef253da1a23"
      },
      "execution_count": null,
      "outputs": [
        {
          "output_type": "stream",
          "name": "stdout",
          "text": [
            "Requirement already satisfied: datasets in /usr/local/lib/python3.10/dist-packages (2.19.1)\n",
            "Requirement already satisfied: filelock in /usr/local/lib/python3.10/dist-packages (from datasets) (3.14.0)\n",
            "Requirement already satisfied: numpy>=1.17 in /usr/local/lib/python3.10/dist-packages (from datasets) (1.25.2)\n",
            "Requirement already satisfied: pyarrow>=12.0.0 in /usr/local/lib/python3.10/dist-packages (from datasets) (14.0.2)\n",
            "Requirement already satisfied: pyarrow-hotfix in /usr/local/lib/python3.10/dist-packages (from datasets) (0.6)\n",
            "Requirement already satisfied: dill<0.3.9,>=0.3.0 in /usr/local/lib/python3.10/dist-packages (from datasets) (0.3.8)\n",
            "Requirement already satisfied: pandas in /usr/local/lib/python3.10/dist-packages (from datasets) (2.0.3)\n",
            "Requirement already satisfied: requests>=2.19.0 in /usr/local/lib/python3.10/dist-packages (from datasets) (2.31.0)\n",
            "Requirement already satisfied: tqdm>=4.62.1 in /usr/local/lib/python3.10/dist-packages (from datasets) (4.66.4)\n",
            "Requirement already satisfied: xxhash in /usr/local/lib/python3.10/dist-packages (from datasets) (3.4.1)\n",
            "Requirement already satisfied: multiprocess in /usr/local/lib/python3.10/dist-packages (from datasets) (0.70.16)\n",
            "Requirement already satisfied: fsspec[http]<=2024.3.1,>=2023.1.0 in /usr/local/lib/python3.10/dist-packages (from datasets) (2023.6.0)\n",
            "Requirement already satisfied: aiohttp in /usr/local/lib/python3.10/dist-packages (from datasets) (3.9.5)\n",
            "Requirement already satisfied: huggingface-hub>=0.21.2 in /usr/local/lib/python3.10/dist-packages (from datasets) (0.23.1)\n",
            "Requirement already satisfied: packaging in /usr/local/lib/python3.10/dist-packages (from datasets) (24.0)\n",
            "Requirement already satisfied: pyyaml>=5.1 in /usr/local/lib/python3.10/dist-packages (from datasets) (6.0.1)\n",
            "Requirement already satisfied: aiosignal>=1.1.2 in /usr/local/lib/python3.10/dist-packages (from aiohttp->datasets) (1.3.1)\n",
            "Requirement already satisfied: attrs>=17.3.0 in /usr/local/lib/python3.10/dist-packages (from aiohttp->datasets) (23.2.0)\n",
            "Requirement already satisfied: frozenlist>=1.1.1 in /usr/local/lib/python3.10/dist-packages (from aiohttp->datasets) (1.4.1)\n",
            "Requirement already satisfied: multidict<7.0,>=4.5 in /usr/local/lib/python3.10/dist-packages (from aiohttp->datasets) (6.0.5)\n",
            "Requirement already satisfied: yarl<2.0,>=1.0 in /usr/local/lib/python3.10/dist-packages (from aiohttp->datasets) (1.9.4)\n",
            "Requirement already satisfied: async-timeout<5.0,>=4.0 in /usr/local/lib/python3.10/dist-packages (from aiohttp->datasets) (4.0.3)\n",
            "Requirement already satisfied: typing-extensions>=3.7.4.3 in /usr/local/lib/python3.10/dist-packages (from huggingface-hub>=0.21.2->datasets) (4.11.0)\n",
            "Requirement already satisfied: charset-normalizer<4,>=2 in /usr/local/lib/python3.10/dist-packages (from requests>=2.19.0->datasets) (3.3.2)\n",
            "Requirement already satisfied: idna<4,>=2.5 in /usr/local/lib/python3.10/dist-packages (from requests>=2.19.0->datasets) (3.7)\n",
            "Requirement already satisfied: urllib3<3,>=1.21.1 in /usr/local/lib/python3.10/dist-packages (from requests>=2.19.0->datasets) (2.0.7)\n",
            "Requirement already satisfied: certifi>=2017.4.17 in /usr/local/lib/python3.10/dist-packages (from requests>=2.19.0->datasets) (2024.2.2)\n",
            "Requirement already satisfied: python-dateutil>=2.8.2 in /usr/local/lib/python3.10/dist-packages (from pandas->datasets) (2.8.2)\n",
            "Requirement already satisfied: pytz>=2020.1 in /usr/local/lib/python3.10/dist-packages (from pandas->datasets) (2023.4)\n",
            "Requirement already satisfied: tzdata>=2022.1 in /usr/local/lib/python3.10/dist-packages (from pandas->datasets) (2024.1)\n",
            "Requirement already satisfied: six>=1.5 in /usr/local/lib/python3.10/dist-packages (from python-dateutil>=2.8.2->pandas->datasets) (1.16.0)\n"
          ]
        }
      ]
    },
    {
      "cell_type": "code",
      "source": [
        "from datasets import load_dataset\n",
        "\n",
        "data_files = {\"train\":\"ner_train_dataset.csv\", \"test\":\"ner_test.csv\"}\n",
        "raw_datasets = load_dataset(\"farizkuy/capstone_ner_dataset\")\n",
        "raw_datasets"
      ],
      "metadata": {
        "colab": {
          "base_uri": "https://localhost:8080/"
        },
        "id": "0vp0gX9fe9Bx",
        "outputId": "25b06b35-c329-459d-8651-26b8e46f5eaf"
      },
      "execution_count": null,
      "outputs": [
        {
          "output_type": "stream",
          "name": "stderr",
          "text": [
            "/usr/local/lib/python3.10/dist-packages/huggingface_hub/utils/_token.py:89: UserWarning: \n",
            "The secret `HF_TOKEN` does not exist in your Colab secrets.\n",
            "To authenticate with the Hugging Face Hub, create a token in your settings tab (https://huggingface.co/settings/tokens), set it as secret in your Google Colab and restart your session.\n",
            "You will be able to reuse this secret in all of your notebooks.\n",
            "Please note that authentication is recommended but still optional to access public models or datasets.\n",
            "  warnings.warn(\n"
          ]
        },
        {
          "output_type": "execute_result",
          "data": {
            "text/plain": [
              "DatasetDict({\n",
              "    train: Dataset({\n",
              "        features: ['id', 'tokens', 'ner_tags'],\n",
              "        num_rows: 60\n",
              "    })\n",
              "    test: Dataset({\n",
              "        features: ['id', 'tokens', 'ner_tags'],\n",
              "        num_rows: 30\n",
              "    })\n",
              "})"
            ]
          },
          "metadata": {},
          "execution_count": 3
        }
      ]
    },
    {
      "cell_type": "code",
      "source": [
        "ner_feature = raw_datasets[\"train\"].features\n",
        "ner_feature"
      ],
      "metadata": {
        "colab": {
          "base_uri": "https://localhost:8080/"
        },
        "id": "xaN_3-SpGCC3",
        "outputId": "ca1c5014-9e20-456d-c028-44411407aeb4"
      },
      "execution_count": null,
      "outputs": [
        {
          "output_type": "execute_result",
          "data": {
            "text/plain": [
              "{'id': Value(dtype='int64', id=None),\n",
              " 'tokens': Value(dtype='string', id=None),\n",
              " 'ner_tags': Value(dtype='string', id=None)}"
            ]
          },
          "metadata": {},
          "execution_count": 4
        }
      ]
    },
    {
      "cell_type": "code",
      "source": [
        "from datasets import load_dataset, DatasetDict, Features, Sequence, Value, ClassLabel\n",
        "\n",
        "# Load the original dataset\n",
        "raw_datasets = load_dataset(\"farizkuy/capstone_ner_dataset\")\n",
        "\n",
        "# Define new features\n",
        "new_features = Features({\n",
        "    'id': Value(dtype='string', id=None),\n",
        "    'tokens': Sequence(feature=Value(dtype='string', id=None), length=-1, id=None),\n",
        "    'ner_tags': Sequence(feature=ClassLabel(\n",
        "        names=[\n",
        "            'B-CRD', 'B-DAT', 'B-EVT', 'B-FAC', 'B-GPE', 'B-LAN', 'B-LAW', 'B-LOC', 'B-MON', 'B-NOR',\n",
        "            'B-ORD', 'B-ORG', 'B-PER', 'B-PRC', 'B-PRD', 'B-QTY', 'B-REG', 'B-TIM', 'B-WOA',\n",
        "            'I-CRD', 'I-DAT', 'I-EVT', 'I-FAC', 'I-GPE', 'I-LAN', 'I-LAW', 'I-LOC', 'I-MON', 'I-NOR',\n",
        "            'I-ORD', 'I-ORG', 'I-PER', 'I-PRC', 'I-PRD', 'I-QTY', 'I-REG', 'I-TIM', 'I-WOA', 'O'\n",
        "        ], id=None), length=-1, id=None)\n",
        "})\n",
        "\n",
        "# Function to transform original data\n",
        "def transform_features(example):\n",
        "    example['id'] = str(example['id'])\n",
        "    example['tokens'] = example['tokens'].split() if isinstance(example['tokens'], str) else example['tokens']\n",
        "    example['ner_tags'] = example['ner_tags'].split() if isinstance(example['ner_tags'], str) else example['ner_tags']\n",
        "    return example\n",
        "\n",
        "# Transform the datasets\n",
        "transformed_train = raw_datasets['train'].map(transform_features)\n",
        "transformed_test = raw_datasets['test'].map(transform_features)\n",
        "\n",
        "# Apply the new features\n",
        "transformed_train = transformed_train.cast(new_features)\n",
        "transformed_test = transformed_test.cast (new_features)\n"
      ],
      "metadata": {
        "id": "tg8r9JDfGOn4"
      },
      "execution_count": null,
      "outputs": []
    },
    {
      "cell_type": "code",
      "source": [
        "transformed_train"
      ],
      "metadata": {
        "colab": {
          "base_uri": "https://localhost:8080/"
        },
        "id": "3gyWX2EKMOlS",
        "outputId": "8afa833c-f248-44ef-8fd6-2dc6c25d3731"
      },
      "execution_count": null,
      "outputs": [
        {
          "output_type": "execute_result",
          "data": {
            "text/plain": [
              "Dataset({\n",
              "    features: ['id', 'tokens', 'ner_tags'],\n",
              "    num_rows: 60\n",
              "})"
            ]
          },
          "metadata": {},
          "execution_count": 6
        }
      ]
    },
    {
      "cell_type": "code",
      "source": [
        "transformed_train.features"
      ],
      "metadata": {
        "colab": {
          "base_uri": "https://localhost:8080/"
        },
        "id": "95leX0Q8KVCq",
        "outputId": "2bdc205e-5ea9-45fb-d16e-c8b10f34890d"
      },
      "execution_count": null,
      "outputs": [
        {
          "output_type": "execute_result",
          "data": {
            "text/plain": [
              "{'id': Value(dtype='string', id=None),\n",
              " 'tokens': Sequence(feature=Value(dtype='string', id=None), length=-1, id=None),\n",
              " 'ner_tags': Sequence(feature=ClassLabel(names=['B-CRD', 'B-DAT', 'B-EVT', 'B-FAC', 'B-GPE', 'B-LAN', 'B-LAW', 'B-LOC', 'B-MON', 'B-NOR', 'B-ORD', 'B-ORG', 'B-PER', 'B-PRC', 'B-PRD', 'B-QTY', 'B-REG', 'B-TIM', 'B-WOA', 'I-CRD', 'I-DAT', 'I-EVT', 'I-FAC', 'I-GPE', 'I-LAN', 'I-LAW', 'I-LOC', 'I-MON', 'I-NOR', 'I-ORD', 'I-ORG', 'I-PER', 'I-PRC', 'I-PRD', 'I-QTY', 'I-REG', 'I-TIM', 'I-WOA', 'O'], id=None), length=-1, id=None)}"
            ]
          },
          "metadata": {},
          "execution_count": 7
        }
      ]
    },
    {
      "cell_type": "code",
      "source": [
        "transformed_train.features[\"ner_tags\"]"
      ],
      "metadata": {
        "colab": {
          "base_uri": "https://localhost:8080/"
        },
        "id": "0kK6JvRmKqTT",
        "outputId": "4131bcc7-23f5-4e4f-bf59-c6e4fa53ad3c"
      },
      "execution_count": null,
      "outputs": [
        {
          "output_type": "execute_result",
          "data": {
            "text/plain": [
              "Sequence(feature=ClassLabel(names=['B-CRD', 'B-DAT', 'B-EVT', 'B-FAC', 'B-GPE', 'B-LAN', 'B-LAW', 'B-LOC', 'B-MON', 'B-NOR', 'B-ORD', 'B-ORG', 'B-PER', 'B-PRC', 'B-PRD', 'B-QTY', 'B-REG', 'B-TIM', 'B-WOA', 'I-CRD', 'I-DAT', 'I-EVT', 'I-FAC', 'I-GPE', 'I-LAN', 'I-LAW', 'I-LOC', 'I-MON', 'I-NOR', 'I-ORD', 'I-ORG', 'I-PER', 'I-PRC', 'I-PRD', 'I-QTY', 'I-REG', 'I-TIM', 'I-WOA', 'O'], id=None), length=-1, id=None)"
            ]
          },
          "metadata": {},
          "execution_count": 8
        }
      ]
    },
    {
      "cell_type": "code",
      "source": [
        "transformed_train.features[\"ner_tags\"].feature.names # get label names"
      ],
      "metadata": {
        "colab": {
          "base_uri": "https://localhost:8080/"
        },
        "id": "6k7-4TALK5Zj",
        "outputId": "c8307f81-96e3-4497-c908-af017735bf35"
      },
      "execution_count": null,
      "outputs": [
        {
          "output_type": "execute_result",
          "data": {
            "text/plain": [
              "['B-CRD',\n",
              " 'B-DAT',\n",
              " 'B-EVT',\n",
              " 'B-FAC',\n",
              " 'B-GPE',\n",
              " 'B-LAN',\n",
              " 'B-LAW',\n",
              " 'B-LOC',\n",
              " 'B-MON',\n",
              " 'B-NOR',\n",
              " 'B-ORD',\n",
              " 'B-ORG',\n",
              " 'B-PER',\n",
              " 'B-PRC',\n",
              " 'B-PRD',\n",
              " 'B-QTY',\n",
              " 'B-REG',\n",
              " 'B-TIM',\n",
              " 'B-WOA',\n",
              " 'I-CRD',\n",
              " 'I-DAT',\n",
              " 'I-EVT',\n",
              " 'I-FAC',\n",
              " 'I-GPE',\n",
              " 'I-LAN',\n",
              " 'I-LAW',\n",
              " 'I-LOC',\n",
              " 'I-MON',\n",
              " 'I-NOR',\n",
              " 'I-ORD',\n",
              " 'I-ORG',\n",
              " 'I-PER',\n",
              " 'I-PRC',\n",
              " 'I-PRD',\n",
              " 'I-QTY',\n",
              " 'I-REG',\n",
              " 'I-TIM',\n",
              " 'I-WOA',\n",
              " 'O']"
            ]
          },
          "metadata": {},
          "execution_count": 9
        }
      ]
    },
    {
      "cell_type": "code",
      "source": [
        "transformed_test[0]"
      ],
      "metadata": {
        "colab": {
          "base_uri": "https://localhost:8080/"
        },
        "id": "_0ZioyBCDIrK",
        "outputId": "b8f54d43-218a-4f62-ff26-21ab272556e2"
      },
      "execution_count": null,
      "outputs": [
        {
          "output_type": "execute_result",
          "data": {
            "text/plain": [
              "{'id': '0',\n",
              " 'tokens': ['Penegakan',\n",
              "  'hukum',\n",
              "  'harus',\n",
              "  'dilakukan',\n",
              "  'tanpa',\n",
              "  'pandang',\n",
              "  'bulu.'],\n",
              " 'ner_tags': [38, 6, 38, 38, 38, 38, 38]}"
            ]
          },
          "metadata": {},
          "execution_count": 10
        }
      ]
    },
    {
      "cell_type": "code",
      "source": [
        "label_names = transformed_train.features[\"ner_tags\"].feature.names"
      ],
      "metadata": {
        "id": "LstONrN5NZNL"
      },
      "execution_count": null,
      "outputs": []
    },
    {
      "cell_type": "code",
      "source": [
        "words = transformed_train[0][\"tokens\"]\n",
        "labels = transformed_train[0][\"ner_tags\"]\n",
        "line1 = \"\"\n",
        "line2 = \"\"\n",
        "for word, label in zip(words, labels): # notice that di atas cuman untuk index 1 ajaa fot both words and labels-nya\n",
        "    full_label = label_names[label]\n",
        "    max_length = max(len(word), len(full_label)) # di antara word dan full_label, itu dicari mana yang lebih panjang. buat pemisah gitu\n",
        "    line1 += word + \" \" * (max_length - len(word) + 1)\n",
        "    line2 += full_label + \" \" * (max_length - len(full_label) + 1)\n",
        "\n",
        "print(line1)\n",
        "print(line2)"
      ],
      "metadata": {
        "colab": {
          "base_uri": "https://localhost:8080/"
        },
        "id": "JklRZRw-Llsg",
        "outputId": "f6c5c06e-d879-4bb6-9105-c7b8a44088ca"
      },
      "execution_count": null,
      "outputs": [
        {
          "output_type": "stream",
          "name": "stdout",
          "text": [
            "negara harus mengalokasikan sumber daya yang cukup di bidang kebudayaan \n",
            "O      O     O              O      O    O    O     O  O      O          \n"
          ]
        }
      ]
    },
    {
      "cell_type": "code",
      "source": [
        "from transformers import AutoTokenizer\n",
        "\n",
        "model_checkpoint = \"cahya/bert-base-indonesian-NER\"\n",
        "tokenizer = AutoTokenizer.from_pretrained(model_checkpoint)"
      ],
      "metadata": {
        "id": "5NdVDpBANT6l"
      },
      "execution_count": null,
      "outputs": []
    },
    {
      "cell_type": "code",
      "source": [
        "tokenizer.is_fast"
      ],
      "metadata": {
        "colab": {
          "base_uri": "https://localhost:8080/"
        },
        "id": "NnAwVHkZNtoa",
        "outputId": "ce6f6289-743c-44cf-f363-f897dd5f00d1"
      },
      "execution_count": null,
      "outputs": [
        {
          "output_type": "execute_result",
          "data": {
            "text/plain": [
              "True"
            ]
          },
          "metadata": {},
          "execution_count": 14
        }
      ]
    },
    {
      "cell_type": "code",
      "source": [
        "inputs = tokenizer(transformed_train[0][\"tokens\"], is_split_into_words=True)\n",
        "inputs.tokens()"
      ],
      "metadata": {
        "colab": {
          "base_uri": "https://localhost:8080/"
        },
        "id": "xg_vwqq1NuWd",
        "outputId": "ddc59982-2a94-4747-a484-7526b083c0fd"
      },
      "execution_count": null,
      "outputs": [
        {
          "output_type": "execute_result",
          "data": {
            "text/plain": [
              "['[CLS]',\n",
              " 'negara',\n",
              " 'harus',\n",
              " 'mengal',\n",
              " '##okasikan',\n",
              " 'sumber',\n",
              " 'daya',\n",
              " 'yang',\n",
              " 'cukup',\n",
              " 'di',\n",
              " 'bidang',\n",
              " 'kebudayaan',\n",
              " '[SEP]']"
            ]
          },
          "metadata": {},
          "execution_count": 15
        }
      ]
    },
    {
      "cell_type": "code",
      "source": [
        "inputs.word_ids()"
      ],
      "metadata": {
        "colab": {
          "base_uri": "https://localhost:8080/"
        },
        "id": "AmYasXf_NwNy",
        "outputId": "49918cde-bee2-4893-8d1f-24d0eee0a62c"
      },
      "execution_count": null,
      "outputs": [
        {
          "output_type": "execute_result",
          "data": {
            "text/plain": [
              "[None, 0, 1, 2, 2, 3, 4, 5, 6, 7, 8, 9, None]"
            ]
          },
          "metadata": {},
          "execution_count": 16
        }
      ]
    },
    {
      "cell_type": "code",
      "source": [
        "def align_labels_with_tokens(labels, word_ids):\n",
        "    new_labels = []\n",
        "    current_word = None\n",
        "    for word_id in word_ids:\n",
        "        if word_id != current_word:\n",
        "            # Start of a new word!\n",
        "            current_word = word_id\n",
        "            label = -100 if word_id is None else labels[word_id]\n",
        "            new_labels.append(label)\n",
        "        elif word_id is None: # ini kalo none, which is awal or akhir --> karena FLAG ituu\n",
        "            # Special token\n",
        "            new_labels.append(-100)\n",
        "        else:\n",
        "            # Same word as previous token\n",
        "            label = labels[word_id]\n",
        "            # If the label is B-XXX we change it to I-XXX\n",
        "            if label % 2 == 1:\n",
        "                label += 1\n",
        "            new_labels.append(label)\n",
        "\n",
        "    return new_labels"
      ],
      "metadata": {
        "id": "wQ3sjBsTN23C"
      },
      "execution_count": null,
      "outputs": []
    },
    {
      "cell_type": "code",
      "source": [
        "labels = transformed_train[0][\"ner_tags\"]\n",
        "word_ids = inputs.word_ids() # lebih 1 token karena ada mismatch tadi --> makanya pas di bawah print tu ada 0 lebih satu\n",
        "print(labels)\n",
        "print(align_labels_with_tokens(labels, word_ids)) # hasil returnnya --> new_labels nama var return di fuctionnya"
      ],
      "metadata": {
        "colab": {
          "base_uri": "https://localhost:8080/"
        },
        "id": "Djk3A1ZbN8J5",
        "outputId": "5ccb4b1f-ae9f-4561-d855-7deafd98d28c"
      },
      "execution_count": null,
      "outputs": [
        {
          "output_type": "stream",
          "name": "stdout",
          "text": [
            "[38, 38, 38, 38, 38, 38, 38, 38, 38, 38]\n",
            "[-100, 38, 38, 38, 38, 38, 38, 38, 38, 38, 38, 38, -100]\n"
          ]
        }
      ]
    },
    {
      "cell_type": "code",
      "source": [
        "def tokenize_and_align_labels(examples):\n",
        "    tokenized_inputs = tokenizer(\n",
        "        examples[\"tokens\"], truncation=True, is_split_into_words=True\n",
        "    )\n",
        "    all_labels = examples[\"ner_tags\"]                                 # ambil label yang ada di example (yang letaknya di kolom ner_tags) --> ex: [3, 0, 7, 0, 0], tanpa -100 ya\n",
        "    new_labels = []\n",
        "    for i, labels in enumerate(all_labels):\n",
        "        word_ids = tokenized_inputs.word_ids(i)                       # ambil word_ids --> yang ada \"None\"-nya di awal dan akhir --> inget itu gegara flag --> flag muncul dari kita kasih tokenizer\n",
        "        new_labels.append(align_labels_with_tokens(labels, word_ids)) # --> [-100. x, x, -100] intnya yang None tadi diubah jadi -100, terus juga diallign kembali hasil kalo ada yang missmatch gitu (kek lamb)\n",
        "\n",
        "    tokenized_inputs[\"labels\"] = new_labels                           # tokenized input udah diberikan label yang baru (-100, handdle missmatch, dll)\n",
        "    return tokenized_inputs"
      ],
      "metadata": {
        "id": "mellsCZkOMGn"
      },
      "execution_count": null,
      "outputs": []
    },
    {
      "cell_type": "code",
      "source": [
        "tokenized_datasets_train = transformed_train.map(       # map --> metode yang tersedia pada obj dataset huggingface, buat nerapin sebuah fungsi ke SETIAP ELEMEN dalam dataset.\n",
        "    tokenize_and_align_labels,                          # menerapkan fucntion tadi ke dataset\n",
        "    batched=True,                                       # kek ngangkut kapal dengan muatan banyak container, sekaligus\n",
        "    remove_columns=raw_datasets[\"train\"].column_names,  # menghapus kolom asli dari dataset --> karena kita hanya membutuhkan data yang sudah ditokenisasi dan label yang sudah diselaraskan dalam dataset baru\n",
        ")\n",
        "\n",
        "tokenized_datasets_test = transformed_test.map(\n",
        "    tokenize_and_align_labels,\n",
        "    batched=True,\n",
        "    remove_columns=raw_datasets[\"test\"].column_names,\n",
        ")"
      ],
      "metadata": {
        "id": "fbO75FqHORe8"
      },
      "execution_count": null,
      "outputs": []
    },
    {
      "cell_type": "code",
      "source": [
        "tokenized_datasets_train"
      ],
      "metadata": {
        "colab": {
          "base_uri": "https://localhost:8080/"
        },
        "id": "vjQ_9DuvOSDq",
        "outputId": "d6f0601a-8444-4dad-8c3a-238e6eb76cd7"
      },
      "execution_count": null,
      "outputs": [
        {
          "output_type": "execute_result",
          "data": {
            "text/plain": [
              "Dataset({\n",
              "    features: ['input_ids', 'token_type_ids', 'attention_mask', 'labels'],\n",
              "    num_rows: 60\n",
              "})"
            ]
          },
          "metadata": {},
          "execution_count": 21
        }
      ]
    },
    {
      "cell_type": "code",
      "source": [
        "tokenized_datasets_test"
      ],
      "metadata": {
        "colab": {
          "base_uri": "https://localhost:8080/"
        },
        "id": "_xCOLrzuEH27",
        "outputId": "000eba15-2a46-49dc-be78-858623134dc3"
      },
      "execution_count": null,
      "outputs": [
        {
          "output_type": "execute_result",
          "data": {
            "text/plain": [
              "Dataset({\n",
              "    features: ['input_ids', 'token_type_ids', 'attention_mask', 'labels'],\n",
              "    num_rows: 30\n",
              "})"
            ]
          },
          "metadata": {},
          "execution_count": 22
        }
      ]
    },
    {
      "cell_type": "code",
      "source": [
        "from transformers import DataCollatorForTokenClassification\n",
        "\n",
        "data_collator = DataCollatorForTokenClassification(tokenizer=tokenizer)"
      ],
      "metadata": {
        "id": "nV2g2z3HObAo"
      },
      "execution_count": null,
      "outputs": []
    },
    {
      "cell_type": "code",
      "source": [
        "batch = data_collator([tokenized_datasets_train[i] for i in range(3)])\n",
        "batch[\"labels\"]"
      ],
      "metadata": {
        "colab": {
          "base_uri": "https://localhost:8080/"
        },
        "id": "rELAS4YJYdLM",
        "outputId": "e20a6cce-2be5-4e47-f395-834481803b7d"
      },
      "execution_count": null,
      "outputs": [
        {
          "output_type": "execute_result",
          "data": {
            "text/plain": [
              "tensor([[-100,   38,   38,   38,   38,   38,   38,   38,   38,   38,   38,   38,\n",
              "         -100],\n",
              "        [-100,   38,   38,   38,   38,   38,   38,   38,   38, -100, -100, -100,\n",
              "         -100],\n",
              "        [-100,   38,   38,   38,   38,   38,   38,   38,   38,   38,   38, -100,\n",
              "         -100]])"
            ]
          },
          "metadata": {},
          "execution_count": 24
        }
      ]
    },
    {
      "cell_type": "code",
      "source": [
        "# ini ga dynamic padding\n",
        "for i in range(3):\n",
        "    print(tokenized_datasets_train[i][\"labels\"])"
      ],
      "metadata": {
        "colab": {
          "base_uri": "https://localhost:8080/"
        },
        "id": "1an11pE8A5LG",
        "outputId": "5fddd987-a360-46ed-8693-24b3b78b9348"
      },
      "execution_count": null,
      "outputs": [
        {
          "output_type": "stream",
          "name": "stdout",
          "text": [
            "[-100, 38, 38, 38, 38, 38, 38, 38, 38, 38, 38, 38, -100]\n",
            "[-100, 38, 38, 38, 38, 38, 38, 38, 38, -100]\n",
            "[-100, 38, 38, 38, 38, 38, 38, 38, 38, 38, 38, -100]\n"
          ]
        }
      ]
    },
    {
      "cell_type": "code",
      "source": [
        "!pip install evaluate seqeval"
      ],
      "metadata": {
        "colab": {
          "base_uri": "https://localhost:8080/"
        },
        "id": "9FYsNceKEfiV",
        "outputId": "c5b4b918-1c9b-420e-9218-f7807123f6d0"
      },
      "execution_count": null,
      "outputs": [
        {
          "output_type": "stream",
          "name": "stdout",
          "text": [
            "Requirement already satisfied: evaluate in /usr/local/lib/python3.10/dist-packages (0.4.2)\n",
            "Requirement already satisfied: seqeval in /usr/local/lib/python3.10/dist-packages (1.2.2)\n",
            "Requirement already satisfied: datasets>=2.0.0 in /usr/local/lib/python3.10/dist-packages (from evaluate) (2.19.1)\n",
            "Requirement already satisfied: numpy>=1.17 in /usr/local/lib/python3.10/dist-packages (from evaluate) (1.25.2)\n",
            "Requirement already satisfied: dill in /usr/local/lib/python3.10/dist-packages (from evaluate) (0.3.8)\n",
            "Requirement already satisfied: pandas in /usr/local/lib/python3.10/dist-packages (from evaluate) (2.0.3)\n",
            "Requirement already satisfied: requests>=2.19.0 in /usr/local/lib/python3.10/dist-packages (from evaluate) (2.31.0)\n",
            "Requirement already satisfied: tqdm>=4.62.1 in /usr/local/lib/python3.10/dist-packages (from evaluate) (4.66.4)\n",
            "Requirement already satisfied: xxhash in /usr/local/lib/python3.10/dist-packages (from evaluate) (3.4.1)\n",
            "Requirement already satisfied: multiprocess in /usr/local/lib/python3.10/dist-packages (from evaluate) (0.70.16)\n",
            "Requirement already satisfied: fsspec[http]>=2021.05.0 in /usr/local/lib/python3.10/dist-packages (from evaluate) (2023.6.0)\n",
            "Requirement already satisfied: huggingface-hub>=0.7.0 in /usr/local/lib/python3.10/dist-packages (from evaluate) (0.23.1)\n",
            "Requirement already satisfied: packaging in /usr/local/lib/python3.10/dist-packages (from evaluate) (24.0)\n",
            "Requirement already satisfied: scikit-learn>=0.21.3 in /usr/local/lib/python3.10/dist-packages (from seqeval) (1.2.2)\n",
            "Requirement already satisfied: filelock in /usr/local/lib/python3.10/dist-packages (from datasets>=2.0.0->evaluate) (3.14.0)\n",
            "Requirement already satisfied: pyarrow>=12.0.0 in /usr/local/lib/python3.10/dist-packages (from datasets>=2.0.0->evaluate) (14.0.2)\n",
            "Requirement already satisfied: pyarrow-hotfix in /usr/local/lib/python3.10/dist-packages (from datasets>=2.0.0->evaluate) (0.6)\n",
            "Requirement already satisfied: aiohttp in /usr/local/lib/python3.10/dist-packages (from datasets>=2.0.0->evaluate) (3.9.5)\n",
            "Requirement already satisfied: pyyaml>=5.1 in /usr/local/lib/python3.10/dist-packages (from datasets>=2.0.0->evaluate) (6.0.1)\n",
            "Requirement already satisfied: typing-extensions>=3.7.4.3 in /usr/local/lib/python3.10/dist-packages (from huggingface-hub>=0.7.0->evaluate) (4.11.0)\n",
            "Requirement already satisfied: charset-normalizer<4,>=2 in /usr/local/lib/python3.10/dist-packages (from requests>=2.19.0->evaluate) (3.3.2)\n",
            "Requirement already satisfied: idna<4,>=2.5 in /usr/local/lib/python3.10/dist-packages (from requests>=2.19.0->evaluate) (3.7)\n",
            "Requirement already satisfied: urllib3<3,>=1.21.1 in /usr/local/lib/python3.10/dist-packages (from requests>=2.19.0->evaluate) (2.0.7)\n",
            "Requirement already satisfied: certifi>=2017.4.17 in /usr/local/lib/python3.10/dist-packages (from requests>=2.19.0->evaluate) (2024.2.2)\n",
            "Requirement already satisfied: scipy>=1.3.2 in /usr/local/lib/python3.10/dist-packages (from scikit-learn>=0.21.3->seqeval) (1.11.4)\n",
            "Requirement already satisfied: joblib>=1.1.1 in /usr/local/lib/python3.10/dist-packages (from scikit-learn>=0.21.3->seqeval) (1.4.2)\n",
            "Requirement already satisfied: threadpoolctl>=2.0.0 in /usr/local/lib/python3.10/dist-packages (from scikit-learn>=0.21.3->seqeval) (3.5.0)\n",
            "Requirement already satisfied: python-dateutil>=2.8.2 in /usr/local/lib/python3.10/dist-packages (from pandas->evaluate) (2.8.2)\n",
            "Requirement already satisfied: pytz>=2020.1 in /usr/local/lib/python3.10/dist-packages (from pandas->evaluate) (2023.4)\n",
            "Requirement already satisfied: tzdata>=2022.1 in /usr/local/lib/python3.10/dist-packages (from pandas->evaluate) (2024.1)\n",
            "Requirement already satisfied: aiosignal>=1.1.2 in /usr/local/lib/python3.10/dist-packages (from aiohttp->datasets>=2.0.0->evaluate) (1.3.1)\n",
            "Requirement already satisfied: attrs>=17.3.0 in /usr/local/lib/python3.10/dist-packages (from aiohttp->datasets>=2.0.0->evaluate) (23.2.0)\n",
            "Requirement already satisfied: frozenlist>=1.1.1 in /usr/local/lib/python3.10/dist-packages (from aiohttp->datasets>=2.0.0->evaluate) (1.4.1)\n",
            "Requirement already satisfied: multidict<7.0,>=4.5 in /usr/local/lib/python3.10/dist-packages (from aiohttp->datasets>=2.0.0->evaluate) (6.0.5)\n",
            "Requirement already satisfied: yarl<2.0,>=1.0 in /usr/local/lib/python3.10/dist-packages (from aiohttp->datasets>=2.0.0->evaluate) (1.9.4)\n",
            "Requirement already satisfied: async-timeout<5.0,>=4.0 in /usr/local/lib/python3.10/dist-packages (from aiohttp->datasets>=2.0.0->evaluate) (4.0.3)\n",
            "Requirement already satisfied: six>=1.5 in /usr/local/lib/python3.10/dist-packages (from python-dateutil>=2.8.2->pandas->evaluate) (1.16.0)\n"
          ]
        }
      ]
    },
    {
      "cell_type": "code",
      "source": [
        "import evaluate\n",
        "\n",
        "metric = evaluate.load(\"seqeval\")\n",
        "print(metric)"
      ],
      "metadata": {
        "colab": {
          "base_uri": "https://localhost:8080/"
        },
        "id": "zkecYd1uE0xr",
        "outputId": "a21d5107-d1fa-4267-b3e8-17392695c252"
      },
      "execution_count": null,
      "outputs": [
        {
          "output_type": "stream",
          "name": "stdout",
          "text": [
            "EvaluationModule(name: \"seqeval\", module_type: \"metric\", features: {'predictions': Sequence(feature=Value(dtype='string', id='label'), length=-1, id='sequence'), 'references': Sequence(feature=Value(dtype='string', id='label'), length=-1, id='sequence')}, usage: \"\"\"\n",
            "Produces labelling scores along with its sufficient statistics\n",
            "from a source against one or more references.\n",
            "\n",
            "Args:\n",
            "    predictions: List of List of predicted labels (Estimated targets as returned by a tagger)\n",
            "    references: List of List of reference labels (Ground truth (correct) target values)\n",
            "    suffix: True if the IOB prefix is after type, False otherwise. default: False\n",
            "    scheme: Specify target tagging scheme. Should be one of [\"IOB1\", \"IOB2\", \"IOE1\", \"IOE2\", \"IOBES\", \"BILOU\"].\n",
            "        default: None\n",
            "    mode: Whether to count correct entity labels with incorrect I/B tags as true positives or not.\n",
            "        If you want to only count exact matches, pass mode=\"strict\". default: None.\n",
            "    sample_weight: Array-like of shape (n_samples,), weights for individual samples. default: None\n",
            "    zero_division: Which value to substitute as a metric value when encountering zero division. Should be on of 0, 1,\n",
            "        \"warn\". \"warn\" acts as 0, but the warning is raised.\n",
            "\n",
            "Returns:\n",
            "    'scores': dict. Summary of the scores for overall and per type\n",
            "        Overall:\n",
            "            'accuracy': accuracy,\n",
            "            'precision': precision,\n",
            "            'recall': recall,\n",
            "            'f1': F1 score, also known as balanced F-score or F-measure,\n",
            "        Per type:\n",
            "            'precision': precision,\n",
            "            'recall': recall,\n",
            "            'f1': F1 score, also known as balanced F-score or F-measure\n",
            "Examples:\n",
            "\n",
            "    >>> predictions = [['O', 'O', 'B-MISC', 'I-MISC', 'I-MISC', 'I-MISC', 'O'], ['B-PER', 'I-PER', 'O']]\n",
            "    >>> references = [['O', 'O', 'O', 'B-MISC', 'I-MISC', 'I-MISC', 'O'], ['B-PER', 'I-PER', 'O']]\n",
            "    >>> seqeval = evaluate.load(\"seqeval\")\n",
            "    >>> results = seqeval.compute(predictions=predictions, references=references)\n",
            "    >>> print(list(results.keys()))\n",
            "    ['MISC', 'PER', 'overall_precision', 'overall_recall', 'overall_f1', 'overall_accuracy']\n",
            "    >>> print(results[\"overall_f1\"])\n",
            "    0.5\n",
            "    >>> print(results[\"PER\"][\"f1\"])\n",
            "    1.0\n",
            "\"\"\", stored examples: 0)\n"
          ]
        }
      ]
    },
    {
      "cell_type": "code",
      "source": [
        "# metric seqeval mengambil list of labels as strings, sedangkan label kita itu awalnya integer.\n",
        "# makanya di bawah ini kita harus decode terlebih dahulu menjadi string\n",
        "labels = transformed_train[14][\"ner_tags\"] # contoh 14\n",
        "labels = [label_names[i] for i in labels]\n",
        "labels"
      ],
      "metadata": {
        "colab": {
          "base_uri": "https://localhost:8080/"
        },
        "id": "Rh4w7wYqE6kt",
        "outputId": "1b972535-010d-4123-90b0-851c006b31f3"
      },
      "execution_count": null,
      "outputs": [
        {
          "output_type": "execute_result",
          "data": {
            "text/plain": [
              "['B-TIM', 'B-CRD', 'O', 'O', 'O', 'O', 'O', 'O', 'B-GPE']"
            ]
          },
          "metadata": {},
          "execution_count": 28
        }
      ]
    },
    {
      "cell_type": "code",
      "source": [
        "# We can then FAKE PREDICTIONS for those by just changing the value at index 2:\n",
        "predictions = labels.copy()\n",
        "predictions[1] = \"O\"              # B-MISC dijadiin O\n",
        "metric.compute(predictions=[predictions], references=[labels])"
      ],
      "metadata": {
        "colab": {
          "base_uri": "https://localhost:8080/"
        },
        "id": "7M6U0Q8uFwg5",
        "outputId": "94f996e8-1335-4996-9537-af05ade82b03"
      },
      "execution_count": null,
      "outputs": [
        {
          "output_type": "stream",
          "name": "stderr",
          "text": [
            "/usr/local/lib/python3.10/dist-packages/seqeval/metrics/v1.py:57: UndefinedMetricWarning: Precision and F-score are ill-defined and being set to 0.0 in labels with no predicted samples. Use `zero_division` parameter to control this behavior.\n",
            "  _warn_prf(average, modifier, msg_start, len(result))\n"
          ]
        },
        {
          "output_type": "execute_result",
          "data": {
            "text/plain": [
              "{'CRD': {'precision': 0.0, 'recall': 0.0, 'f1': 0.0, 'number': 1},\n",
              " 'GPE': {'precision': 1.0, 'recall': 1.0, 'f1': 1.0, 'number': 1},\n",
              " 'TIM': {'precision': 1.0, 'recall': 1.0, 'f1': 1.0, 'number': 1},\n",
              " 'overall_precision': 1.0,\n",
              " 'overall_recall': 0.6666666666666666,\n",
              " 'overall_f1': 0.8,\n",
              " 'overall_accuracy': 0.8888888888888888}"
            ]
          },
          "metadata": {},
          "execution_count": 29
        }
      ]
    },
    {
      "cell_type": "code",
      "source": [
        "import numpy as np\n",
        "\n",
        "\n",
        "def compute_metrics(eval_preds):\n",
        "    logits, labels = eval_preds              # eval_preds itu tuple isinya logit ama label asli --> pisahin logit dan label asli\n",
        "    predictions = np.argmax(logits, axis=-1) # ambil nilai terbesar, kan tiap 1 token itu di logits punya X element kelas predictnya dan kita pilih yang nilai probability-nya tertinggi\n",
        "\n",
        "    # Remove ignored index (special tokens) and convert to labels\n",
        "    true_labels = [[label_names[l] for l in label if l != -100] for label in labels]  # label angka jadiin label string, kecuali -100/padding\n",
        "    true_predictions = [                                                              # sama kayak di atas tapi ini predictionsnya\n",
        "        [label_names[p] for (p, l) in zip(prediction, label) if l != -100]            #convert prediksi token ke dalam label kelas string, kecuali -100\n",
        "        for prediction, label in zip(predictions, labels)                             # ambil pasangan (prediction, label)\n",
        "    ]\n",
        "    all_metrics = metric.compute(predictions=true_predictions, references=true_labels)\n",
        "    return {\n",
        "        \"precision\": all_metrics[\"overall_precision\"],\n",
        "        \"recall\": all_metrics[\"overall_recall\"],\n",
        "        \"f1\": all_metrics[\"overall_f1\"],\n",
        "        \"accuracy\": all_metrics[\"overall_accuracy\"],\n",
        "    }"
      ],
      "metadata": {
        "id": "nGzVWlAAF-ru"
      },
      "execution_count": null,
      "outputs": []
    },
    {
      "cell_type": "code",
      "source": [
        "id2label = {i: label for i, label in enumerate(label_names)}  # id    --> label\n",
        "label2id = {v: k for k, v in id2label.items()}                # label --> id\n",
        "print(id2label)\n",
        "print(label2id)"
      ],
      "metadata": {
        "colab": {
          "base_uri": "https://localhost:8080/"
        },
        "id": "gXiZ27oHGWzw",
        "outputId": "d8997830-f98b-4435-c83d-22645a2946bb"
      },
      "execution_count": null,
      "outputs": [
        {
          "output_type": "stream",
          "name": "stdout",
          "text": [
            "{0: 'B-CRD', 1: 'B-DAT', 2: 'B-EVT', 3: 'B-FAC', 4: 'B-GPE', 5: 'B-LAN', 6: 'B-LAW', 7: 'B-LOC', 8: 'B-MON', 9: 'B-NOR', 10: 'B-ORD', 11: 'B-ORG', 12: 'B-PER', 13: 'B-PRC', 14: 'B-PRD', 15: 'B-QTY', 16: 'B-REG', 17: 'B-TIM', 18: 'B-WOA', 19: 'I-CRD', 20: 'I-DAT', 21: 'I-EVT', 22: 'I-FAC', 23: 'I-GPE', 24: 'I-LAN', 25: 'I-LAW', 26: 'I-LOC', 27: 'I-MON', 28: 'I-NOR', 29: 'I-ORD', 30: 'I-ORG', 31: 'I-PER', 32: 'I-PRC', 33: 'I-PRD', 34: 'I-QTY', 35: 'I-REG', 36: 'I-TIM', 37: 'I-WOA', 38: 'O'}\n",
            "{'B-CRD': 0, 'B-DAT': 1, 'B-EVT': 2, 'B-FAC': 3, 'B-GPE': 4, 'B-LAN': 5, 'B-LAW': 6, 'B-LOC': 7, 'B-MON': 8, 'B-NOR': 9, 'B-ORD': 10, 'B-ORG': 11, 'B-PER': 12, 'B-PRC': 13, 'B-PRD': 14, 'B-QTY': 15, 'B-REG': 16, 'B-TIM': 17, 'B-WOA': 18, 'I-CRD': 19, 'I-DAT': 20, 'I-EVT': 21, 'I-FAC': 22, 'I-GPE': 23, 'I-LAN': 24, 'I-LAW': 25, 'I-LOC': 26, 'I-MON': 27, 'I-NOR': 28, 'I-ORD': 29, 'I-ORG': 30, 'I-PER': 31, 'I-PRC': 32, 'I-PRD': 33, 'I-QTY': 34, 'I-REG': 35, 'I-TIM': 36, 'I-WOA': 37, 'O': 38}\n"
          ]
        }
      ]
    },
    {
      "cell_type": "code",
      "source": [
        "from transformers import AutoModelForTokenClassification\n",
        "\n",
        "model = AutoModelForTokenClassification.from_pretrained(\n",
        "    model_checkpoint,\n",
        "    id2label=id2label,\n",
        "    label2id=label2id,\n",
        ")"
      ],
      "metadata": {
        "colab": {
          "base_uri": "https://localhost:8080/"
        },
        "id": "RJrdXcoJGbMT",
        "outputId": "c7a3d929-4fea-4d75-f2bd-d9badd68853d"
      },
      "execution_count": null,
      "outputs": [
        {
          "output_type": "stream",
          "name": "stderr",
          "text": [
            "Some weights of the model checkpoint at cahya/bert-base-indonesian-NER were not used when initializing BertForTokenClassification: ['bert.pooler.dense.bias', 'bert.pooler.dense.weight']\n",
            "- This IS expected if you are initializing BertForTokenClassification from the checkpoint of a model trained on another task or with another architecture (e.g. initializing a BertForSequenceClassification model from a BertForPreTraining model).\n",
            "- This IS NOT expected if you are initializing BertForTokenClassification from the checkpoint of a model that you expect to be exactly identical (initializing a BertForSequenceClassification model from a BertForSequenceClassification model).\n"
          ]
        }
      ]
    },
    {
      "cell_type": "code",
      "source": [
        "model.config.num_labels"
      ],
      "metadata": {
        "colab": {
          "base_uri": "https://localhost:8080/"
        },
        "id": "0J8yHOXJGb5v",
        "outputId": "09ff9243-14e9-4a84-cba0-2ace67842d31"
      },
      "execution_count": null,
      "outputs": [
        {
          "output_type": "execute_result",
          "data": {
            "text/plain": [
              "39"
            ]
          },
          "metadata": {},
          "execution_count": 33
        }
      ]
    },
    {
      "cell_type": "code",
      "source": [
        "from huggingface_hub import notebook_login\n",
        "\n",
        "notebook_login()"
      ],
      "metadata": {
        "colab": {
          "base_uri": "https://localhost:8080/",
          "height": 387,
          "referenced_widgets": [
            "c9441e33c0e74a508bab9edf439023d5",
            "06d501e1b9f841c2b69ca9d1aad86eda",
            "f4b76541c2fa4a7ca0a085d614312e4f",
            "704977dfebdf4f2ebd570459e4a6994e",
            "57ba5e98d71a40c29677ee714585c6b9",
            "0bebc67d36da4bf19a8ef6c2ac58997c",
            "22694e1971a347039e4f45d072d063e5",
            "ffc6613b3e9d4246956efce632406235",
            "5b8c2c63815e4ad48f4918e77748806f",
            "3f1e9c7fb52444bbbaab542b2dc5b300",
            "f8391f4e23d94d9b9a461346c34edbc9",
            "d73fe065a32b41ada2eefb95b00b2665",
            "10e5f421175e4768b7cf898fbdadaea1",
            "e0d2d8f1e0e8446f9319f3fc6a0b42dd",
            "d0fd22da0e5c48cab096c1afbed51816",
            "659e32fe767e4eb48188bfe3802a32cb",
            "ce770a010ad345da970aeb7bd0c66361"
          ]
        },
        "id": "jcAq4d4dGr9B",
        "outputId": "7b30fab8-8623-4712-b6bd-788cad6576a1"
      },
      "execution_count": null,
      "outputs": [
        {
          "output_type": "display_data",
          "data": {
            "text/plain": [
              "VBox(children=(HTML(value='<center> <img\\nsrc=https://huggingface.co/front/assets/huggingface_logo-noborder.sv…"
            ],
            "application/vnd.jupyter.widget-view+json": {
              "version_major": 2,
              "version_minor": 0,
              "model_id": "c9441e33c0e74a508bab9edf439023d5"
            }
          },
          "metadata": {}
        }
      ]
    },
    {
      "cell_type": "code",
      "source": [
        "from transformers import TrainingArguments\n",
        "\n",
        "args = TrainingArguments(\n",
        "    \"ner_fine_tuned\",\n",
        "    evaluation_strategy=\"epoch\",\n",
        "    save_strategy=\"epoch\",\n",
        "    learning_rate=2e-5,\n",
        "    num_train_epochs=3,\n",
        "    weight_decay=0.01,\n",
        "    push_to_hub=True,\n",
        ")"
      ],
      "metadata": {
        "colab": {
          "base_uri": "https://localhost:8080/"
        },
        "id": "PKrB8pdWGvg2",
        "outputId": "e4f521e3-0e5a-40ed-bba5-1dd36ef8b652"
      },
      "execution_count": null,
      "outputs": [
        {
          "output_type": "stream",
          "name": "stderr",
          "text": [
            "/usr/local/lib/python3.10/dist-packages/transformers/training_args.py:1474: FutureWarning: `evaluation_strategy` is deprecated and will be removed in version 4.46 of 🤗 Transformers. Use `eval_strategy` instead\n",
            "  warnings.warn(\n"
          ]
        }
      ]
    },
    {
      "cell_type": "code",
      "source": [
        "from transformers import Trainer\n",
        "\n",
        "trainer = Trainer(\n",
        "    model=model,\n",
        "    args=args,\n",
        "    train_dataset=tokenized_datasets_train,\n",
        "    eval_dataset=tokenized_datasets_test,\n",
        "    data_collator=data_collator,\n",
        "    compute_metrics=compute_metrics,\n",
        "    tokenizer=tokenizer,\n",
        ")\n",
        "trainer.train()"
      ],
      "metadata": {
        "colab": {
          "base_uri": "https://localhost:8080/",
          "height": 346
        },
        "id": "MPx86e5-PBwV",
        "outputId": "67925ad6-111a-4018-a73f-1f5db720d42c"
      },
      "execution_count": null,
      "outputs": [
        {
          "output_type": "display_data",
          "data": {
            "text/plain": [
              "<IPython.core.display.HTML object>"
            ],
            "text/html": [
              "\n",
              "    <div>\n",
              "      \n",
              "      <progress value='24' max='24' style='width:300px; height:20px; vertical-align: middle;'></progress>\n",
              "      [24/24 02:15, Epoch 3/3]\n",
              "    </div>\n",
              "    <table border=\"1\" class=\"dataframe\">\n",
              "  <thead>\n",
              " <tr style=\"text-align: left;\">\n",
              "      <th>Epoch</th>\n",
              "      <th>Training Loss</th>\n",
              "      <th>Validation Loss</th>\n",
              "      <th>Precision</th>\n",
              "      <th>Recall</th>\n",
              "      <th>F1</th>\n",
              "      <th>Accuracy</th>\n",
              "    </tr>\n",
              "  </thead>\n",
              "  <tbody>\n",
              "    <tr>\n",
              "      <td>1</td>\n",
              "      <td>No log</td>\n",
              "      <td>0.571546</td>\n",
              "      <td>0.600000</td>\n",
              "      <td>0.418605</td>\n",
              "      <td>0.493151</td>\n",
              "      <td>0.876289</td>\n",
              "    </tr>\n",
              "    <tr>\n",
              "      <td>2</td>\n",
              "      <td>No log</td>\n",
              "      <td>0.615738</td>\n",
              "      <td>0.730769</td>\n",
              "      <td>0.441860</td>\n",
              "      <td>0.550725</td>\n",
              "      <td>0.893471</td>\n",
              "    </tr>\n",
              "    <tr>\n",
              "      <td>3</td>\n",
              "      <td>No log</td>\n",
              "      <td>0.620351</td>\n",
              "      <td>0.785714</td>\n",
              "      <td>0.511628</td>\n",
              "      <td>0.619718</td>\n",
              "      <td>0.903780</td>\n",
              "    </tr>\n",
              "  </tbody>\n",
              "</table><p>"
            ]
          },
          "metadata": {}
        },
        {
          "output_type": "stream",
          "name": "stderr",
          "text": [
            "/usr/local/lib/python3.10/dist-packages/seqeval/metrics/v1.py:57: UndefinedMetricWarning: Precision and F-score are ill-defined and being set to 0.0 in labels with no predicted samples. Use `zero_division` parameter to control this behavior.\n",
            "  _warn_prf(average, modifier, msg_start, len(result))\n",
            "/usr/local/lib/python3.10/dist-packages/seqeval/metrics/v1.py:57: UndefinedMetricWarning: Precision and F-score are ill-defined and being set to 0.0 in labels with no predicted samples. Use `zero_division` parameter to control this behavior.\n",
            "  _warn_prf(average, modifier, msg_start, len(result))\n",
            "/usr/local/lib/python3.10/dist-packages/seqeval/metrics/v1.py:57: UndefinedMetricWarning: Precision and F-score are ill-defined and being set to 0.0 in labels with no predicted samples. Use `zero_division` parameter to control this behavior.\n",
            "  _warn_prf(average, modifier, msg_start, len(result))\n"
          ]
        },
        {
          "output_type": "execute_result",
          "data": {
            "text/plain": [
              "TrainOutput(global_step=24, training_loss=0.24022376537322998, metrics={'train_runtime': 139.9146, 'train_samples_per_second': 1.286, 'train_steps_per_second': 0.172, 'total_flos': 1402897819608.0, 'train_loss': 0.24022376537322998, 'epoch': 3.0})"
            ]
          },
          "metadata": {},
          "execution_count": 38
        }
      ]
    },
    {
      "cell_type": "code",
      "source": [
        "trainer.push_to_hub(commit_message=\"Training complete\")"
      ],
      "metadata": {
        "colab": {
          "base_uri": "https://localhost:8080/",
          "height": 89
        },
        "id": "y7TvGlwvNF1M",
        "outputId": "8da2f131-ff71-43f8-a9fe-457070b194ff"
      },
      "execution_count": null,
      "outputs": [
        {
          "output_type": "execute_result",
          "data": {
            "text/plain": [
              "CommitInfo(commit_url='https://huggingface.co/farizkuy/ner_fine_tuned/commit/7c03d9978c4e409329824b8f3cd26741b441b4ea', commit_message='Training complete', commit_description='', oid='7c03d9978c4e409329824b8f3cd26741b441b4ea', pr_url=None, pr_revision=None, pr_num=None)"
            ],
            "application/vnd.google.colaboratory.intrinsic+json": {
              "type": "string"
            }
          },
          "metadata": {},
          "execution_count": 39
        }
      ]
    },
    {
      "cell_type": "code",
      "source": [
        "from transformers import AutoTokenizer, AutoModelForTokenClassification\n",
        "import torch"
      ],
      "metadata": {
        "id": "X-PMZbM8QIYA"
      },
      "execution_count": 44,
      "outputs": []
    },
    {
      "cell_type": "code",
      "source": [
        "# Load model and tokenizer\n",
        "model_checkpoint = \"farizkuy/ner_fine_tuned\"\n",
        "tokenizer = AutoTokenizer.from_pretrained(model_checkpoint)\n",
        "model = AutoModelForTokenClassification.from_pretrained(model_checkpoint)"
      ],
      "metadata": {
        "colab": {
          "base_uri": "https://localhost:8080/",
          "height": 209,
          "referenced_widgets": [
            "c0f8446a575747878da1bc34af3922e0",
            "6aacaa6fa86249ee89ed16cd3ed8ea1e",
            "76809c9c142b4262be4334e404ca37d9",
            "937a5e57556f4bbba53fb833145bd8d1",
            "b45cbf55627d472fbbcc4578b212e953",
            "1aa15e4b790541db8650a9a259492dd0",
            "4630404e7440442b9b4a07433d69b454",
            "214b9c92ea1e4e56be831adb3f7c52cc",
            "f8a23ddeefd8406999708f1a44e221a0",
            "45fdc0d17b864d31a478d412aa2a0499",
            "356d55251e534b3e96c7650f76522dd5",
            "da68a37ead544669b358ca3a5b45298d",
            "3a805fd57bb4446dbce8d4ef92040d30",
            "f0cba98ec340491cbacc20c53b9c810d",
            "2b30f05b527448e2867111a18aabb6dc",
            "1164f3ed522643acb4a7ded00a1282d0",
            "d7773c9145c84b3fa976e7fde3f5c858",
            "021602c396c64667bed840b4c6ea7d27",
            "afa82ef68b464ab4b8de7906b54f61eb",
            "5220e493d8f94c0892a0317f4430cf75",
            "470a7232f51f475d872fad9e3e3d835c",
            "5543051040f84da8891ed27686b0d0e6",
            "ecd9723eee4a45e48259bec427ccdd33",
            "adfd00bcd71c436394e449619699897d",
            "030af374e21c45c4b9bc2242eff78dbb",
            "bb60a78b5fb041cb8a0a8087e6eca451",
            "07b7616c5a244cba9b8d425b4f6c6460",
            "47c4fd5b9fe1480193ee2d96ce026680",
            "11b0706f76fa459a9f48d5e0bbb20265",
            "204a2e0cad304761af6e5f4746485ab0",
            "809760ce522742e69ad13aaf2461b1f7",
            "b2ba4d90358649a4a507c2ba05069a56",
            "38b7887900be4e8aa0f6129ed98ac9ef",
            "9e1d6803951d4e1ab08092dd08b52f9c",
            "47192a57746348cb83f5d08ca3908864",
            "ffcfc11c839647f795dc4f5c96a7f812",
            "be7b795f57e04d07886f5f93cd68821e",
            "a6a8eb21b0cc4efaacc459e98e4985e0",
            "d597f61492a0436cb5c163d65a765d8d",
            "6afe644e891e46799255926fc245ec6f",
            "f2276d977b8c4b169d2b292d086cb203",
            "9e23f9b4e42e437f958334faaee0dc0a",
            "a6375ceeb0234d2183c49f280fd7f368",
            "e5668b88b52e4ba7930f93ae39b5a23e",
            "5cd12354cc8d4c0ea7896835384c5622",
            "8b683253ab40469ba09ee8ced51a2cd0",
            "592b3d64ca1d4b119f63c93252f46a55",
            "46c1e395170845e0921ba09e733b4270",
            "cccf2cad863f4c439e3aa20af1afe539",
            "b0b07ceb97cb474dac65b3cbd5faa9ff",
            "0aa3d21d8ef348fea03ab4d2dc851b45",
            "07828bdf35b7412cac47b3f2b13ba98d",
            "95738d7a17d440bc92c747821b6c7d2a",
            "8531c350666b448b937faf89ed781359",
            "c27516fc2f9248a88b76a600ae71a3be",
            "3d59fa2574f64f609ee20d6e9e9fe6a2",
            "0f0c75dcc1a24338be49d79aa72bcb7c",
            "d7c4f1bc20e74bafb4d5987ccf941dbd",
            "4697b902145149b0b204ec99a9256488",
            "e1411593aebb44679b870f40f809f7e7",
            "0c29574f6a954d2dba23c20a29dffa07",
            "42b2b757481144ec9e7fe2ed14e9005e",
            "494de4bbd3ab4a858a433230c6bc6153",
            "04c6f3d47d434bb2a04bf3c9c2de62de",
            "9d98ff02faf04ed7b965d258a474c925",
            "cd4ae87cb52845c9b6214c690a6886f1"
          ]
        },
        "id": "hTg_pPuUvMh1",
        "outputId": "5521a18d-5377-4f37-ae49-8886cb6258ef"
      },
      "execution_count": 46,
      "outputs": [
        {
          "output_type": "display_data",
          "data": {
            "text/plain": [
              "tokenizer_config.json:   0%|          | 0.00/1.29k [00:00<?, ?B/s]"
            ],
            "application/vnd.jupyter.widget-view+json": {
              "version_major": 2,
              "version_minor": 0,
              "model_id": "c0f8446a575747878da1bc34af3922e0"
            }
          },
          "metadata": {}
        },
        {
          "output_type": "display_data",
          "data": {
            "text/plain": [
              "vocab.txt:   0%|          | 0.00/230k [00:00<?, ?B/s]"
            ],
            "application/vnd.jupyter.widget-view+json": {
              "version_major": 2,
              "version_minor": 0,
              "model_id": "da68a37ead544669b358ca3a5b45298d"
            }
          },
          "metadata": {}
        },
        {
          "output_type": "display_data",
          "data": {
            "text/plain": [
              "tokenizer.json:   0%|          | 0.00/733k [00:00<?, ?B/s]"
            ],
            "application/vnd.jupyter.widget-view+json": {
              "version_major": 2,
              "version_minor": 0,
              "model_id": "ecd9723eee4a45e48259bec427ccdd33"
            }
          },
          "metadata": {}
        },
        {
          "output_type": "display_data",
          "data": {
            "text/plain": [
              "special_tokens_map.json:   0%|          | 0.00/125 [00:00<?, ?B/s]"
            ],
            "application/vnd.jupyter.widget-view+json": {
              "version_major": 2,
              "version_minor": 0,
              "model_id": "9e1d6803951d4e1ab08092dd08b52f9c"
            }
          },
          "metadata": {}
        },
        {
          "output_type": "display_data",
          "data": {
            "text/plain": [
              "config.json:   0%|          | 0.00/2.10k [00:00<?, ?B/s]"
            ],
            "application/vnd.jupyter.widget-view+json": {
              "version_major": 2,
              "version_minor": 0,
              "model_id": "5cd12354cc8d4c0ea7896835384c5622"
            }
          },
          "metadata": {}
        },
        {
          "output_type": "display_data",
          "data": {
            "text/plain": [
              "model.safetensors:   0%|          | 0.00/440M [00:00<?, ?B/s]"
            ],
            "application/vnd.jupyter.widget-view+json": {
              "version_major": 2,
              "version_minor": 0,
              "model_id": "3d59fa2574f64f609ee20d6e9e9fe6a2"
            }
          },
          "metadata": {}
        }
      ]
    },
    {
      "cell_type": "code",
      "source": [
        "# translate labels-nya\n",
        "label_translation = {\n",
        "    'B-CRD': 'Angka', 'B-DAT': 'Tanggal', 'B-EVT': 'Peristiwa', 'B-FAC': 'Fasilitas', 'B-GPE': 'Entitas Geologi',\n",
        "    'B-LAN': 'Bahasa', 'B-LAW': 'Hukum', 'B-LOC': 'Lokasi', 'B-MON': 'Uang', 'B-NOR': 'Norma',\n",
        "    'B-ORD': 'Ordinat', 'B-ORG': 'Organisasi', 'B-PER': 'Orang', 'B-PRC': 'Proses', 'B-PRD': 'Produk',\n",
        "    'B-QTY': 'Jumlah', 'B-REG': 'Agama', 'B-TIM': 'Waktu', 'B-WOA': 'Karya',\n",
        "    'I-CRD': 'Angka', 'I-DAT': 'Tanggal', 'I-EVT': 'Peristiwa', 'I-FAC': 'Fasilitas', 'I-GPE': 'Entitas Geologi',\n",
        "    'I-LAN': 'Bahasa', 'I-LAW': 'Hukum', 'I-LOC': 'Lokasi', 'I-MON': 'Uang', 'I-NOR': 'Norma',\n",
        "    'I-ORD': 'Ordinat', 'I-ORG': 'Organisasi', 'I-PER': 'Orang', 'I-PRC': 'Proses', 'I-PRD': 'Produk',\n",
        "    'I-QTY': 'Jumlah', 'I-REG': 'Agama', 'I-TIM': 'Waktu', 'I-WOA': 'Karya', 'O': 'O'\n",
        "}\n"
      ],
      "metadata": {
        "id": "MU27IIt4vKwj"
      },
      "execution_count": 59,
      "outputs": []
    },
    {
      "cell_type": "code",
      "source": [
        "def predict_and_translate(text, model, tokenizer, label_translation):\n",
        "    # jadiin token dulu\n",
        "    tokens = text.split()\n",
        "\n",
        "    # tokenize\n",
        "    tokenized_inputs = tokenizer(tokens, is_split_into_words=True, return_tensors=\"pt\", truncation=True)\n",
        "    outputs = model(**tokenized_inputs)\n",
        "    predictions = torch.argmax(outputs.logits, dim=-1)\n",
        "\n",
        "    # define kata dan label yang diprediksi\n",
        "    words = tokenizer.convert_ids_to_tokens(tokenized_inputs[\"input_ids\"][0])\n",
        "    labels = [model.config.id2label[label_id.item()] for label_id in predictions[0]]\n",
        "\n",
        "    # ganti label\n",
        "    translated_labels = [label_translation[label] for label in labels]\n",
        "\n",
        "    result = [(word, label) for word, label in zip(words, translated_labels) if word not in tokenizer.all_special_tokens]\n",
        "\n",
        "    return result"
      ],
      "metadata": {
        "id": "xTfB1ce5vM3F"
      },
      "execution_count": 60,
      "outputs": []
    },
    {
      "cell_type": "code",
      "source": [
        "text = \"Jokowi datang ke Indonesia\"\n",
        "result = predict_and_translate(text, model, tokenizer, label_translation)\n",
        "for word, label in result:\n",
        "    print(f\"{word}: {label}\")"
      ],
      "metadata": {
        "colab": {
          "base_uri": "https://localhost:8080/"
        },
        "id": "-0Rnj23fvxyI",
        "outputId": "c42831af-3682-47dc-cfb5-c4d7ea573501"
      },
      "execution_count": 61,
      "outputs": [
        {
          "output_type": "stream",
          "name": "stdout",
          "text": [
            "jokowi: Orang\n",
            "datang: O\n",
            "ke: O\n",
            "indonesia: Entitas Geologi\n"
          ]
        }
      ]
    },
    {
      "cell_type": "code",
      "source": [
        "def ner_format_result(result):\n",
        "    formatted_text = \"\"\n",
        "    for word, label in result:\n",
        "        if label != 'O':\n",
        "            formatted_text += f\"{word} [{label}] \"\n",
        "        else:\n",
        "            formatted_text += f\"{word} \"\n",
        "    return formatted_text.strip()"
      ],
      "metadata": {
        "id": "x9SSQCQkv1Hx"
      },
      "execution_count": 64,
      "outputs": []
    },
    {
      "cell_type": "code",
      "source": [
        "text = \"Jokowi datang ke Indonesia\"\n",
        "result = predict_and_translate(text, model, tokenizer, label_translation)\n",
        "formatted_text = ner_format_result(result)\n",
        "print(formatted_text)"
      ],
      "metadata": {
        "colab": {
          "base_uri": "https://localhost:8080/"
        },
        "id": "9pR3KRojxZ5B",
        "outputId": "e72a952d-4f0d-4583-9011-896b15e224ba"
      },
      "execution_count": 65,
      "outputs": [
        {
          "output_type": "stream",
          "name": "stdout",
          "text": [
            "jokowi [Orang] datang ke indonesia [Entitas Geologi]\n"
          ]
        }
      ]
    },
    {
      "cell_type": "code",
      "source": [],
      "metadata": {
        "id": "EvWE2CtdxfvN"
      },
      "execution_count": null,
      "outputs": []
    }
  ]
}